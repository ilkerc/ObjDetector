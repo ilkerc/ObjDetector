{
 "cells": [
  {
   "cell_type": "code",
   "execution_count": 1,
   "metadata": {
    "collapsed": false
   },
   "outputs": [
    {
     "name": "stdout",
     "output_type": "stream",
     "text": [
      "Using lasagne.layers (slower)\n"
     ]
    }
   ],
   "source": [
    "import time\n",
    "import numpy as np\n",
    "import theano\n",
    "import lasagne\n",
    "import theano.tensor as T\n",
    "from helpers.mnist_dataset import load_mnist_rot, test_mnist_rot\n",
    "from Models import build_st_network_MNIST as network_builder\n",
    "from helpers.utils import iterate_minibatches"
   ]
  },
  {
   "cell_type": "code",
   "execution_count": 2,
   "metadata": {
    "collapsed": true
   },
   "outputs": [],
   "source": [
    "# Parameters\n",
    "BATCH_SIZE = 100\n",
    "EPOCH = 100\n",
    "DISCRETE = True"
   ]
  },
  {
   "cell_type": "code",
   "execution_count": 3,
   "metadata": {
    "collapsed": false
   },
   "outputs": [
    {
     "name": "stdout",
     "output_type": "stream",
     "text": [
      "['mnist_all_rotation_normalized_float_train_valid.amat', 'mnist_all_rotation_normalized_float_test.amat']\n",
      "['mnist_all_rotation_normalized_float_train_valid.amat', 'mnist_all_rotation_normalized_float_test.amat']\n"
     ]
    }
   ],
   "source": [
    "# Load Dataset\n",
    "X_train, y_train, X_val, y_val = load_mnist_rot(path='mnist_rotation_new.zip', which='train')\n",
    "Xtst, Ytst = load_mnist_rot(path='mnist_rotation_new.zip', which='test')"
   ]
  },
  {
   "cell_type": "code",
   "execution_count": 12,
   "metadata": {
    "collapsed": false
   },
   "outputs": [],
   "source": [
    "# Build the model, and place holders\n",
    "network = network_builder(BATCH_SIZE, X_train.shape, withdisc=True)\n",
    "\n",
    "X = T.tensor4('inputs', dtype=theano.config.floatX)\n",
    "Y = T.ivector('targets')"
   ]
  },
  {
   "cell_type": "markdown",
   "metadata": {},
   "source": [
    "### Different Cost and outputs\n",
    "* The cost in update function and train function are using the cont. weights\n",
    "* The test and eval. functions are using the disc. weights"
   ]
  },
  {
   "cell_type": "code",
   "execution_count": 13,
   "metadata": {
    "collapsed": false
   },
   "outputs": [],
   "source": [
    "# Loss is continious\n",
    "prediction = lasagne.layers.get_output(network, X, deterministic=False)\n",
    "loss = T.mean(lasagne.objectives.categorical_crossentropy(prediction, Y))"
   ]
  },
  {
   "cell_type": "code",
   "execution_count": 14,
   "metadata": {
    "collapsed": false
   },
   "outputs": [],
   "source": [
    "# Get parameters, set update rule and create functions\n",
    "params = lasagne.layers.get_all_params(network, trainable=True)\n",
    "# We shall use the cont. cost in update function\n",
    "updates = lasagne.updates.nesterov_momentum(loss, params,\n",
    "                                            learning_rate=0.01, momentum=0.9)\n",
    "# Test function\n",
    "# Test_prediction is on discrete values\n",
    "test_prediction = lasagne.layers.get_output(network, X, deterministic=True, withdiscrete=True)\n",
    "test_loss = T.mean(lasagne.objectives.categorical_crossentropy(test_prediction, Y))\n",
    "test_acc = T.mean(T.eq(T.argmax(test_prediction, axis=1), Y))\n",
    "val_fn = theano.function([X, Y], [test_loss, test_acc], allow_input_downcast=True)\n",
    "\n",
    "# Train function\n",
    "train_fn = theano.function([X, Y], loss, updates=updates, allow_input_downcast=True)"
   ]
  },
  {
   "cell_type": "code",
   "execution_count": null,
   "metadata": {
    "collapsed": false
   },
   "outputs": [
    {
     "name": "stdout",
     "output_type": "stream",
     "text": [
      "Starting training...\n"
     ]
    }
   ],
   "source": [
    "# Finally, launch the training loop.\n",
    "print(\"Starting training...\")\n",
    "# We iterate over epochs:\n",
    "for epoch in range(EPOCH):\n",
    "    # In each epoch, we do a full pass over the training data:\n",
    "    train_err = 0\n",
    "    train_batches = 0\n",
    "    start_time = time.time()\n",
    "    for batch in iterate_minibatches(X_train, y_train, BATCH_SIZE, shuffle=True):\n",
    "        inputs, targets = batch\n",
    "        train_err += train_fn(inputs, targets)\n",
    "        train_batches += 1\n",
    "\n",
    "    # And a full pass over the validation data:\n",
    "    val_err = 0\n",
    "    val_acc = 0\n",
    "    val_batches = 0\n",
    "    for batch in iterate_minibatches(X_val, y_val, BATCH_SIZE, shuffle=False):\n",
    "        inputs, targets = batch\n",
    "        err, acc = val_fn(inputs, targets)\n",
    "        val_err += err\n",
    "        val_acc += acc\n",
    "        val_batches += 1\n",
    "\n",
    "    # Then we print the results for this epoch:\n",
    "    print(\"Epoch {} of {} took {:.3f}s\".format(\n",
    "        epoch + 1, EPOCH, time.time() - start_time))\n",
    "    print(\"  training loss:\\t\\t{:.6f}\".format(train_err / train_batches))\n",
    "    print(\"  validation loss:\\t\\t{:.6f}\".format(val_err / val_batches))\n",
    "    print(\"  validation accuracy:\\t\\t{:.2f} %\".format(\n",
    "        val_acc / val_batches * 100))\n",
    "\n",
    "# After training, we compute and print the test error:\n",
    "test_err = 0\n",
    "test_acc = 0\n",
    "test_batches = 0\n",
    "for batch in iterate_minibatches(X_test, y_test, BATCH_SIZE, shuffle=False):\n",
    "    inputs, targets = batch\n",
    "    err, acc = val_fn(inputs, targets)\n",
    "    test_err += err\n",
    "    test_acc += acc\n",
    "    test_batches += 1\n",
    "print(\"Final results:\")\n",
    "print(\"  test loss:\\t\\t\\t{:.6f}\".format(test_err / test_batches))\n",
    "print(\"  test accuracy:\\t\\t{:.2f} %\".format(\n",
    "    test_acc / test_batches * 100))"
   ]
  }
 ],
 "metadata": {
  "anaconda-cloud": {},
  "kernelspec": {
   "display_name": "Python 2",
   "language": "python",
   "name": "python2"
  },
  "language_info": {
   "codemirror_mode": {
    "name": "ipython",
    "version": 2
   },
   "file_extension": ".py",
   "mimetype": "text/x-python",
   "name": "python",
   "nbconvert_exporter": "python",
   "pygments_lexer": "ipython2",
   "version": "2.7.12"
  }
 },
 "nbformat": 4,
 "nbformat_minor": 0
}
