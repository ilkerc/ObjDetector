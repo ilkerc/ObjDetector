{
 "cells": [
  {
   "cell_type": "code",
   "execution_count": 3,
   "metadata": {
    "collapsed": true
   },
   "outputs": [],
   "source": [
    "import numpy as np\n",
    "import cPickle as pickle\n",
    "import matplotlib.pyplot as plt"
   ]
  },
  {
   "cell_type": "code",
   "execution_count": 11,
   "metadata": {
    "collapsed": false
   },
   "outputs": [
    {
     "name": "stdout",
     "output_type": "stream",
     "text": [
      "Batch Size: 256\n",
      "Epochs: [42, 43, 40, 43, 42, 40, 42, 45, 41, 46], Mean: 42.4, Std: 1.8547236991\n",
      "Trn Accs: [ 0.9807  0.9823  0.9812  0.9802  0.9810  0.9813  0.9803  0.9817  0.9804\n",
      "  0.9801], Mean: 0.98093, Std: 0.000680485121072\n",
      "Tst Accs: [ 0.9636  0.9612  0.9618  0.9592  0.9631  0.9620  0.9561  0.9550  0.9580\n",
      "  0.9583], Mean: 0.95983, Std: 0.00280536985084\n",
      "Val Accs: [ 0.9649  0.9618  0.9628  0.9576  0.9615  0.9601  0.9548  0.9564  0.9593\n",
      "  0.9624], Mean: 0.96016, Std: 0.00298502931309\n"
     ]
    }
   ],
   "source": [
    "# With Disc Layer\n",
    "TEST_NAME = 'test1_disc'\n",
    "with open(TEST_NAME, 'rb') as fp:\n",
    "    history = pickle.load(fp)\n",
    "\n",
    "batch_size = history[0]['batch_size']\n",
    "epochs = [history[i]['epoch_reached'] for i in range(len(history))]\n",
    "trn_accs = [history[i]['train_accs'][-1] for i in range(len(history))]\n",
    "tst_accs = [history[i]['test_accs'][-1] for i in range(len(history))]\n",
    "val_accs = [history[i]['valid_accs'][-1] for i in range(len(history))]\n",
    "\n",
    "np.set_printoptions(formatter={'float': '{: 0.4f}'.format})\n",
    "\n",
    "print \"Batch Size: {0}\".format(batch_size)\n",
    "print \"Epochs: {0}, Mean: {1}, Std: {2}\".format(epochs, np.mean(epochs), np.std(epochs))\n",
    "print \"Trn Accs: {0}, Mean: {1}, Std: {2}\".format(np.asarray(trn_accs), np.mean(trn_accs), np.std(trn_accs))\n",
    "print \"Tst Accs: {0}, Mean: {1}, Std: {2}\".format(np.asarray(tst_accs), np.mean(tst_accs), np.std(tst_accs))\n",
    "print \"Val Accs: {0}, Mean: {1}, Std: {2}\".format(np.asarray(val_accs), np.mean(val_accs), np.std(val_accs))"
   ]
  }
 ],
 "metadata": {
  "anaconda-cloud": {},
  "kernelspec": {
   "display_name": "Python [conda env:theano]",
   "language": "python",
   "name": "conda-env-theano-py"
  },
  "language_info": {
   "codemirror_mode": {
    "name": "ipython",
    "version": 2
   },
   "file_extension": ".py",
   "mimetype": "text/x-python",
   "name": "python",
   "nbconvert_exporter": "python",
   "pygments_lexer": "ipython2",
   "version": "2.7.12"
  }
 },
 "nbformat": 4,
 "nbformat_minor": 1
}
