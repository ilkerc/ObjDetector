{
 "cells": [
  {
   "cell_type": "code",
   "execution_count": 1,
   "metadata": {
    "collapsed": false
   },
   "outputs": [
    {
     "name": "stderr",
     "output_type": "stream",
     "text": [
      "Using gpu device 0: Tesla K40c (CNMeM is enabled with initial size: 33.0% of memory, cuDNN 5105)\n",
      "/home/ilker/anaconda2/envs/theano/lib/python2.7/site-packages/theano/sandbox/cuda/__init__.py:601: UserWarning: Your cuDNN version is more recent than the one Theano officially supports. If you see any problems, try updating Theano or downgrading cuDNN to version 5.\n",
      "  warnings.warn(warn)\n"
     ]
    }
   ],
   "source": [
    "%matplotlib inline\n",
    "import os\n",
    "import time\n",
    "import matplotlib\n",
    "import lasagne\n",
    "import theano\n",
    "import theano.tensor as T\n",
    "import pylab as P\n",
    "import numpy as np\n",
    "import matplotlib.pyplot as plt\n",
    "import cPickle as pickle\n",
    "from DiscreteLayer import DiscreteLayer\n",
    "#lasagne.random.set_rng(np.random.RandomState(1234))  # Set random state so we can investigate results\n",
    "#np.random.seed(123)"
   ]
  },
  {
   "cell_type": "code",
   "execution_count": 2,
   "metadata": {
    "collapsed": true
   },
   "outputs": [],
   "source": [
    "# Constants\n",
    "# theano.config.exception_verbosity = 'high'\n",
    "conv = lasagne.layers.Conv2DLayer\n",
    "pool = lasagne.layers.MaxPool2DLayer\n",
    "NUM_EPOCHS = 1500\n",
    "BATCH_SIZE = 256\n",
    "LEARNING_RATE = 0.001\n",
    "DIM = 60\n",
    "NUM_CLASSES = 10\n",
    "mnist_cluttered = \"mnist_cluttered_60x60_6distortions.npz\"\n",
    "#DISC\n",
    "DISC = False\n",
    "MINS = (.3, -.3, -.8, -.3, .5, -0.7)\n",
    "MAXS = (1.1, .1, 1.1, .4, 1.1, 1.5)\n",
    "RANGES = (50, 50, 50, 50, 50, 50)\n",
    "QUANT = np.array([0.008, 0.004, 0.019, 0.007, 0.006, 0.024], dtype='float32')\n",
    "#Test Specs\n",
    "TH_ACC = 0.98\n",
    "NUM_TEST = 10\n",
    "TEST_NAME = 'test1_disc_quantize'"
   ]
  },
  {
   "cell_type": "code",
   "execution_count": 3,
   "metadata": {
    "collapsed": false
   },
   "outputs": [
    {
     "name": "stdout",
     "output_type": "stream",
     "text": [
      "Train samples: (50000, 1, 60, 60)\n",
      "Validation samples: (10000, 1, 60, 60)\n",
      "Test samples: (10000, 1, 60, 60)\n"
     ]
    }
   ],
   "source": [
    "def load_data():\n",
    "    data = np.load(mnist_cluttered)\n",
    "    X_train, y_train = data['x_train'], np.argmax(data['y_train'], axis=-1)\n",
    "    X_valid, y_valid = data['x_valid'], np.argmax(data['y_valid'], axis=-1)\n",
    "    X_test, y_test = data['x_test'], np.argmax(data['y_test'], axis=-1)\n",
    "\n",
    "    # reshape for convolutions\n",
    "    X_train = X_train.reshape((X_train.shape[0], 1, DIM, DIM))\n",
    "    X_valid = X_valid.reshape((X_valid.shape[0], 1, DIM, DIM))\n",
    "    X_test = X_test.reshape((X_test.shape[0], 1, DIM, DIM))\n",
    "    \n",
    "    print \"Train samples:\", X_train.shape\n",
    "    print \"Validation samples:\", X_valid.shape\n",
    "    print \"Test samples:\", X_test.shape\n",
    "\n",
    "    return dict(\n",
    "        X_train=lasagne.utils.floatX(X_train),\n",
    "        y_train=y_train.astype('int32'),\n",
    "        X_valid=lasagne.utils.floatX(X_valid),\n",
    "        y_valid=y_valid.astype('int32'),\n",
    "        X_test=lasagne.utils.floatX(X_test),\n",
    "        y_test=y_test.astype('int32'),\n",
    "        num_examples_train=X_train.shape[0],\n",
    "        num_examples_valid=X_valid.shape[0],\n",
    "        num_examples_test=X_test.shape[0],\n",
    "        input_height=X_train.shape[2],\n",
    "        input_width=X_train.shape[3],\n",
    "        output_dim=10,)\n",
    "data = load_data()"
   ]
  },
  {
   "cell_type": "code",
   "execution_count": 4,
   "metadata": {
    "collapsed": false
   },
   "outputs": [
    {
     "name": "stdout",
     "output_type": "stream",
     "text": [
      "No Disc. Layer\n",
      "Transformer network output shape:  (None, 1, 20, 20)\n"
     ]
    }
   ],
   "source": [
    "def build_model(input_width, input_height, output_dim, mins, maxs, ranges,\n",
    "                batch_size=BATCH_SIZE, withdisc=True):\n",
    "    ini = lasagne.init.HeUniform()\n",
    "    l_in = lasagne.layers.InputLayer(shape=(None, 1, input_width, input_height),)\n",
    "    l_in = lasagne.layers.DropoutLayer(l_in, p=0.1)\n",
    "\n",
    "    # Localization network\n",
    "    b = np.zeros((2, 3), dtype=theano.config.floatX)\n",
    "    b[0, 0] = 1\n",
    "    b[1, 1] = 1\n",
    "    b = b.flatten()\n",
    "    loc_l1 = pool(l_in, pool_size=(2, 2))\n",
    "    loc_l2 = conv(\n",
    "        loc_l1, num_filters=20, filter_size=(5, 5), W=ini)\n",
    "    loc_l3 = pool(loc_l2, pool_size=(2, 2))\n",
    "    loc_l4 = conv(loc_l3, num_filters=20, filter_size=(5, 5), W=ini)\n",
    "    loc_l5 = lasagne.layers.DenseLayer(\n",
    "        loc_l4, num_units=50, W=lasagne.init.HeUniform('relu'))\n",
    "    loc_out = lasagne.layers.DenseLayer(\n",
    "        loc_l5, num_units=6, b=b, W=lasagne.init.Constant(0.0), \n",
    "        nonlinearity=lasagne.nonlinearities.identity, name='param_regressor')\n",
    "    \n",
    "    if withdisc:\n",
    "        l_dis = DiscreteLayer(loc_out, mins, maxs, ranges, QUANT, name='disclayer')\n",
    "        print(\"Using Discret. Layer\")\n",
    "    else:\n",
    "        l_dis = loc_out\n",
    "        print(\"No Disc. Layer\")\n",
    "    \n",
    "    # Transformer network\n",
    "    l_trans1 = lasagne.layers.TransformerLayer(l_in, l_dis, downsample_factor=3.0)\n",
    "    print \"Transformer network output shape: \", l_trans1.output_shape\n",
    "    \n",
    "    # Classification network\n",
    "    class_l1 = conv(\n",
    "        l_trans1,\n",
    "        num_filters=32,\n",
    "        filter_size=(3, 3),\n",
    "        nonlinearity=lasagne.nonlinearities.rectify,\n",
    "        W=ini,\n",
    "    )\n",
    "    class_l2 = pool(class_l1, pool_size=(2, 2))\n",
    "    class_l3 = conv(\n",
    "        class_l2,\n",
    "        num_filters=32,\n",
    "        filter_size=(3, 3),\n",
    "        nonlinearity=lasagne.nonlinearities.rectify,\n",
    "        W=ini,\n",
    "    )\n",
    "    class_l4 = pool(class_l3, pool_size=(2, 2))\n",
    "    class_l5 = lasagne.layers.DenseLayer(\n",
    "        class_l4,\n",
    "        num_units=256,\n",
    "        nonlinearity=lasagne.nonlinearities.rectify,\n",
    "        W=ini,\n",
    "    )\n",
    "\n",
    "    l_out = lasagne.layers.DenseLayer(\n",
    "        class_l5,\n",
    "        num_units=output_dim,\n",
    "        nonlinearity=lasagne.nonlinearities.softmax,\n",
    "        W=ini,\n",
    "    )\n",
    "\n",
    "    return l_out, l_trans1\n",
    "\n",
    "model, l_transform = build_model(DIM, DIM, NUM_CLASSES, MINS, MAXS, RANGES, withdisc=DISC)\n",
    "model_params = lasagne.layers.get_all_params(model, trainable=True)"
   ]
  },
  {
   "cell_type": "code",
   "execution_count": 5,
   "metadata": {
    "collapsed": false
   },
   "outputs": [],
   "source": [
    "X = T.tensor4(dtype=theano.config.floatX)\n",
    "y = T.ivector()\n",
    "\n",
    "## Layer History\n",
    "if DISC:\n",
    "    l_disc = next(l for l in lasagne.layers.get_all_layers(model) if l.name is 'disclayer')\n",
    "    l_paramreg = next(l for l in lasagne.layers.get_all_layers(model) if l.name is 'param_regressor')\n",
    "    l_disc_output, l_paramreg_output = lasagne.layers.get_output([l_disc, l_paramreg], X, deterministic=False)\n",
    "## Layer History\n",
    "\n",
    "# training output\n",
    "output_train = lasagne.layers.get_output(model, X, deterministic=False)\n",
    "\n",
    "# evaluation output. Also includes output of transform for plotting\n",
    "output_eval, transform_eval = lasagne.layers.get_output([model, l_transform], X, deterministic=True)\n",
    "\n",
    "sh_lr = theano.shared(lasagne.utils.floatX(LEARNING_RATE))\n",
    "cost = T.mean(T.nnet.categorical_crossentropy(output_train, y))\n",
    "#updates = lasagne.updates.sgd(cost, model_params, LEARNING_RATE)\n",
    "updates = lasagne.updates.adam(cost, model_params, learning_rate=sh_lr)\n",
    "\n",
    "if DISC:\n",
    "    train = theano.function([X, y], [cost, output_train, l_disc_output, l_paramreg_output], updates=updates)\n",
    "else:\n",
    "    train = theano.function([X, y], [cost, output_train], updates=updates)\n",
    "eval = theano.function([X], [output_eval, transform_eval])"
   ]
  },
  {
   "cell_type": "code",
   "execution_count": 6,
   "metadata": {
    "collapsed": true
   },
   "outputs": [],
   "source": [
    "def train_epoch(X, y):\n",
    "    # History Keeping\n",
    "    param_output = []\n",
    "    disc_output = []\n",
    "    # History\n",
    "    num_samples = X.shape[0]\n",
    "    num_batches = int(np.ceil(num_samples / float(BATCH_SIZE)))\n",
    "    costs = []\n",
    "    correct = 0\n",
    "    for i in range(num_batches):\n",
    "        idx = range(i*BATCH_SIZE, np.minimum((i+1)*BATCH_SIZE, num_samples))\n",
    "        X_batch = X[idx]\n",
    "        y_batch = y[idx]\n",
    "        if DISC:\n",
    "            cost, output_train, l_disc_output, l_paramreg_output = train(X_batch, y_batch)\n",
    "            param_output = np.append(param_output, l_paramreg_output)\n",
    "            disc_output = np.append(disc_output, l_disc_output)\n",
    "        else:\n",
    "            cost, output_train = train(X_batch, y_batch)\n",
    "        costs += [cost]\n",
    "        preds = np.argmax(output_train, axis=-1)\n",
    "        correct += np.sum(y_batch == preds)\n",
    "        \n",
    "    return np.mean(costs), correct / float(num_samples), param_output, disc_output\n",
    "\n",
    "\n",
    "def eval_epoch(X, y):\n",
    "    output_eval, transform_eval = eval(X)\n",
    "    preds = np.argmax(output_eval, axis=-1)\n",
    "    acc = np.mean(preds == y)\n",
    "    return acc, transform_eval"
   ]
  },
  {
   "cell_type": "markdown",
   "metadata": {},
   "source": [
    "# Training"
   ]
  },
  {
   "cell_type": "code",
   "execution_count": 7,
   "metadata": {
    "collapsed": false
   },
   "outputs": [
    {
     "name": "stdout",
     "output_type": "stream",
     "text": [
      "Epoch 0: T.cost 1.939713, Train acc 0.2978, val acc 0.5058, test acc 0.4997, took 5.52 sec.\n",
      "Epoch 1: T.cost 1.190406, Train acc 0.60082, val acc 0.718, test acc 0.7191, took 5.5 sec.\n",
      "Epoch 2: T.cost 0.824021, Train acc 0.72948, val acc 0.7585, test acc 0.7504, took 5.48 sec.\n",
      "Epoch 3: T.cost 0.670127, Train acc 0.78526, val acc 0.83, test acc 0.8276, took 5.49 sec.\n",
      "Epoch 4: T.cost 0.575697, Train acc 0.81364, val acc 0.8484, test acc 0.8562, took 5.49 sec.\n",
      "Epoch 5: T.cost 0.501253, Train acc 0.83736, val acc 0.8551, test acc 0.855, took 5.49 sec.\n",
      "Epoch 6: T.cost 0.442451, Train acc 0.85566, val acc 0.8724, test acc 0.878, took 5.49 sec.\n",
      "Epoch 7: T.cost 0.416017, Train acc 0.86526, val acc 0.8717, test acc 0.8701, took 5.48 sec.\n",
      "Epoch 8: T.cost 0.393244, Train acc 0.8733, val acc 0.8273, test acc 0.8295, took 5.49 sec.\n",
      "Epoch 9: T.cost 0.344561, Train acc 0.89, val acc 0.9033, test acc 0.9055, took 5.49 sec.\n",
      "Epoch 10: T.cost 0.319369, Train acc 0.89628, val acc 0.9149, test acc 0.9155, took 5.49 sec.\n",
      "Epoch 11: T.cost 0.303948, Train acc 0.90254, val acc 0.9165, test acc 0.9198, took 5.48 sec.\n",
      "Epoch 12: T.cost 0.286427, Train acc 0.9083, val acc 0.8983, test acc 0.8984, took 5.48 sec.\n",
      "Epoch 13: T.cost 0.279022, Train acc 0.90858, val acc 0.9237, test acc 0.925, took 5.49 sec.\n",
      "Epoch 14: T.cost 0.253803, Train acc 0.91722, val acc 0.9197, test acc 0.9172, took 5.49 sec.\n",
      "Epoch 15: T.cost 0.241803, Train acc 0.92124, val acc 0.93, test acc 0.9271, took 5.48 sec.\n",
      "Epoch 16: T.cost 0.224495, Train acc 0.92596, val acc 0.9312, test acc 0.9324, took 5.49 sec.\n",
      "Epoch 17: T.cost 0.230064, Train acc 0.92442, val acc 0.8961, test acc 0.8992, took 5.48 sec.\n",
      "Epoch 18: T.cost 0.214408, Train acc 0.9292, val acc 0.9316, test acc 0.9322, took 5.48 sec.\n",
      "New LR: 0.000990000047022\n",
      "Epoch 19: T.cost 0.201600, Train acc 0.93304, val acc 0.9251, test acc 0.9258, took 5.48 sec.\n",
      "Epoch 20: T.cost 0.209651, Train acc 0.93122, val acc 0.9315, test acc 0.9339, took 5.49 sec.\n",
      "Epoch 21: T.cost 0.197209, Train acc 0.9345, val acc 0.9337, test acc 0.9381, took 5.48 sec.\n",
      "Epoch 22: T.cost 0.190145, Train acc 0.93686, val acc 0.9404, test acc 0.9449, took 5.48 sec.\n",
      "Epoch 23: T.cost 0.188618, Train acc 0.93812, val acc 0.9419, test acc 0.9388, took 5.48 sec.\n",
      "Epoch 24: T.cost 0.181455, Train acc 0.93894, val acc 0.9363, test acc 0.9361, took 5.48 sec.\n",
      "Epoch 25: T.cost 0.172158, Train acc 0.9436, val acc 0.9355, test acc 0.9405, took 5.48 sec.\n",
      "Epoch 26: T.cost 0.170807, Train acc 0.94458, val acc 0.9456, test acc 0.9455, took 5.49 sec.\n",
      "Epoch 27: T.cost 0.162938, Train acc 0.94602, val acc 0.9306, test acc 0.9319, took 5.48 sec.\n",
      "Epoch 28: T.cost 0.160567, Train acc 0.94582, val acc 0.9421, test acc 0.9448, took 5.48 sec.\n",
      "Epoch 29: T.cost 0.161740, Train acc 0.94728, val acc 0.9307, test acc 0.9331, took 5.48 sec.\n",
      "Epoch 30: T.cost 0.156555, Train acc 0.94762, val acc 0.9438, test acc 0.9455, took 5.48 sec.\n",
      "Epoch 31: T.cost 0.165269, Train acc 0.94492, val acc 0.9432, test acc 0.944, took 5.48 sec.\n",
      "Epoch 32: T.cost 0.150769, Train acc 0.94998, val acc 0.9385, test acc 0.9419, took 5.48 sec.\n",
      "Epoch 33: T.cost 0.144885, Train acc 0.95214, val acc 0.9491, test acc 0.95, took 5.48 sec.\n",
      "Epoch 34: T.cost 0.146216, Train acc 0.95124, val acc 0.9414, test acc 0.9425, took 5.48 sec.\n",
      "Epoch 35: T.cost 0.139283, Train acc 0.95356, val acc 0.9482, test acc 0.9515, took 5.48 sec.\n",
      "Epoch 36: T.cost 0.142751, Train acc 0.95348, val acc 0.9436, test acc 0.9487, took 5.48 sec.\n",
      "Epoch 37: T.cost 0.140030, Train acc 0.95312, val acc 0.9479, test acc 0.9507, took 5.48 sec.\n",
      "Epoch 38: T.cost 0.136004, Train acc 0.95384, val acc 0.9509, test acc 0.9512, took 5.48 sec.\n",
      "New LR: 0.00098010008689\n",
      "Epoch 39: T.cost 0.130652, Train acc 0.95592, val acc 0.9531, test acc 0.9566, took 5.49 sec.\n",
      "Epoch 40: T.cost 0.137043, Train acc 0.95506, val acc 0.9439, test acc 0.9468, took 5.48 sec.\n",
      "Epoch 41: T.cost 0.134237, Train acc 0.9551, val acc 0.949, test acc 0.95, took 5.48 sec.\n",
      "Epoch 42: T.cost 0.127949, Train acc 0.95634, val acc 0.9468, test acc 0.9468, took 5.48 sec.\n",
      "Epoch 43: T.cost 0.126458, Train acc 0.95744, val acc 0.9396, test acc 0.9413, took 5.48 sec.\n",
      "Epoch 44: T.cost 0.123753, Train acc 0.95824, val acc 0.9526, test acc 0.9525, took 5.48 sec.\n",
      "Epoch 45: T.cost 0.120986, Train acc 0.9594, val acc 0.9555, test acc 0.9566, took 5.48 sec.\n",
      "Epoch 46: T.cost 0.126893, Train acc 0.9575, val acc 0.9351, test acc 0.9392, took 5.49 sec.\n",
      "Epoch 47: T.cost 0.124685, Train acc 0.95836, val acc 0.9503, test acc 0.9521, took 5.48 sec.\n",
      "Epoch 48: T.cost 0.116495, Train acc 0.9613, val acc 0.9514, test acc 0.9569, took 5.47 sec.\n",
      "Epoch 49: T.cost 0.120250, Train acc 0.96002, val acc 0.9506, test acc 0.9565, took 5.48 sec.\n",
      "Epoch 50: T.cost 0.109738, Train acc 0.96374, val acc 0.9497, test acc 0.9526, took 5.48 sec.\n",
      "Epoch 51: T.cost 0.104551, Train acc 0.96494, val acc 0.955, test acc 0.9601, took 5.49 sec.\n",
      "Epoch 52: T.cost 0.102511, Train acc 0.96594, val acc 0.9535, test acc 0.9564, took 5.48 sec.\n",
      "Epoch 53: T.cost 0.116826, Train acc 0.96134, val acc 0.9493, test acc 0.9512, took 5.49 sec.\n",
      "Epoch 54: T.cost 0.115029, Train acc 0.96174, val acc 0.9534, test acc 0.9543, took 5.48 sec.\n",
      "Epoch 55: T.cost 0.099500, Train acc 0.9668, val acc 0.9511, test acc 0.9529, took 5.48 sec.\n",
      "Epoch 56: T.cost 0.113758, Train acc 0.9624, val acc 0.9538, test acc 0.9548, took 5.48 sec.\n",
      "Epoch 57: T.cost 0.108759, Train acc 0.96412, val acc 0.9544, test acc 0.9548, took 5.48 sec.\n",
      "Epoch 58: T.cost 0.095636, Train acc 0.96752, val acc 0.9574, test acc 0.9598, took 5.48 sec.\n",
      "New LR: 0.000970299127512\n",
      "Epoch 59: T.cost 0.102637, Train acc 0.96574, val acc 0.9461, test acc 0.9488, took 5.48 sec.\n",
      "Epoch 60: T.cost 0.109444, Train acc 0.96344, val acc 0.9556, test acc 0.9556, took 5.48 sec.\n",
      "Epoch 61: T.cost 0.090969, Train acc 0.96956, val acc 0.9584, test acc 0.9554, took 5.48 sec.\n",
      "Epoch 62: T.cost 0.101607, Train acc 0.96654, val acc 0.9533, test acc 0.9511, took 5.5 sec.\n",
      "Epoch 63: T.cost 0.097496, Train acc 0.96718, val acc 0.9586, test acc 0.9611, took 5.51 sec.\n",
      "Epoch 64: T.cost 0.093533, Train acc 0.96828, val acc 0.9579, test acc 0.9602, took 5.51 sec.\n",
      "Epoch 65: T.cost 0.096502, Train acc 0.96642, val acc 0.9567, test acc 0.9581, took 5.5 sec.\n",
      "\n",
      "Total time spent: 361.99 seconds\n",
      "Traing Acc: 0.96642\n",
      "Test Acc: 0.9581\n",
      "Validation Acc: 0.9567\n",
      "\n"
     ]
    }
   ],
   "source": [
    "np.set_printoptions(formatter={'float': '{: 0.4f}'.format}, suppress=True)\n",
    "valid_accs, train_accs, test_accs = [], [], []\n",
    "total_time = 0\n",
    "param_outputs, disc_outputs = [], []\n",
    "try:\n",
    "    for n in range(NUM_EPOCHS):\n",
    "        start_time = time.time()\n",
    "        train_cost, train_acc, param_output, disc_output = train_epoch(data['X_train'], data['y_train'])\n",
    "        valid_acc, valid_trainsform = eval_epoch(data['X_valid'], data['y_valid'])\n",
    "        test_acc, test_transform = eval_epoch(data['X_test'], data['y_test'])\n",
    "        valid_accs += [valid_acc]\n",
    "        test_accs += [test_acc]\n",
    "        train_accs += [train_acc]\n",
    "\n",
    "        if DISC:\n",
    "            param_outputs = np.append(param_outputs, param_output)\n",
    "            disc_outputs = np.append(disc_outputs, disc_output)\n",
    "\n",
    "        if (n+1) % 20 == 0:\n",
    "            new_lr = sh_lr.get_value() * 0.99\n",
    "            print \"New LR:\", new_lr\n",
    "            sh_lr.set_value(lasagne.utils.floatX(new_lr))\n",
    "\n",
    "        time_spent = time.time() - start_time\n",
    "        total_time += time_spent\n",
    "        print \"Epoch {0}: T.cost {1:0.6f}, Train acc {2}, val acc {3}, test acc {4}, took {5:.3} sec.\".format(\n",
    "                n, train_cost, train_acc, valid_acc, test_acc, time_spent)\n",
    "\n",
    "except KeyboardInterrupt:\n",
    "    pass\n",
    "print \"\\nTotal time spent: {0:.5} seconds\\nTraing Acc: {1}\\nTest Acc: {2}\\nValidation Acc: {3}\\n\".format(total_time,\n",
    "                                                                                                         train_acc,\n",
    "                                                                                                         test_acc,\n",
    "                                                                                                         valid_acc)\n",
    "story = {'train_accs': train_accs,\n",
    "         'test_accs': test_accs,\n",
    "         'valid_accs': valid_accs,\n",
    "         'epoch_reached': n, \n",
    "         'total_time': total_time,\n",
    "         'disc_enabled': DISC,\n",
    "         'learning_rate': LEARNING_RATE,\n",
    "         'batch_size': BATCH_SIZE}                                                                                                         \n",
    "with open('test_1_disc', 'wb') as fp:\n",
    "  pickle.dump(story, fp)"
   ]
  },
  {
   "cell_type": "markdown",
   "metadata": {},
   "source": [
    "# Plot Results"
   ]
  },
  {
   "cell_type": "code",
   "execution_count": 8,
   "metadata": {
    "collapsed": false
   },
   "outputs": [
    {
     "data": {
      "image/png": "[encoded data removed]",
      "text/plain": [
       "<matplotlib.figure.Figure at 0x7fab68dfde10>"
      ]
     },
     "metadata": {},
     "output_type": "display_data"
    }
   ],
   "source": [
    "plt.figure(figsize=(5,5))\n",
    "plt.plot(1-np.array(train_accs), label='Training Error')\n",
    "plt.plot(1-np.array(valid_accs), label='Validation Error')\n",
    "plt.legend(fontsize=20)\n",
    "plt.xlabel('Epoch', fontsize=8)\n",
    "plt.ylabel('Error', fontsize=8)\n",
    "plt.show()"
   ]
  },
  {
   "cell_type": "markdown",
   "metadata": {},
   "source": [
    "# Histograms"
   ]
  },
  {
   "cell_type": "code",
   "execution_count": 9,
   "metadata": {
    "collapsed": false
   },
   "outputs": [
    {
     "ename": "AttributeError",
     "evalue": "'list' object has no attribute 'reshape'",
     "output_type": "error",
     "traceback": [
      "\u001b[0;31m---------------------------------------------------------------------------\u001b[0m",
      "\u001b[0;31mAttributeError\u001b[0m                            Traceback (most recent call last)",
      "\u001b[0;32m<ipython-input-9-b537ae794ce5>\u001b[0m in \u001b[0;36m<module>\u001b[0;34m()\u001b[0m\n\u001b[1;32m      1\u001b[0m \u001b[0;31m# Histograms\u001b[0m\u001b[0;34m\u001b[0m\u001b[0;34m\u001b[0m\u001b[0m\n\u001b[0;32m----> 2\u001b[0;31m \u001b[0mdense_params\u001b[0m \u001b[0;34m=\u001b[0m \u001b[0mparam_outputs\u001b[0m\u001b[0;34m.\u001b[0m\u001b[0mreshape\u001b[0m\u001b[0;34m(\u001b[0m\u001b[0;34m(\u001b[0m\u001b[0;34m-\u001b[0m\u001b[0;36m1\u001b[0m\u001b[0;34m,\u001b[0m \u001b[0;36m6\u001b[0m\u001b[0;34m)\u001b[0m\u001b[0;34m)\u001b[0m\u001b[0;34m\u001b[0m\u001b[0m\n\u001b[0m\u001b[1;32m      3\u001b[0m \u001b[0mdisc_params\u001b[0m \u001b[0;34m=\u001b[0m \u001b[0mdisc_outputs\u001b[0m\u001b[0;34m.\u001b[0m\u001b[0mreshape\u001b[0m\u001b[0;34m(\u001b[0m\u001b[0;34m(\u001b[0m\u001b[0;34m-\u001b[0m\u001b[0;36m1\u001b[0m\u001b[0;34m,\u001b[0m \u001b[0;36m6\u001b[0m\u001b[0;34m)\u001b[0m\u001b[0;34m)\u001b[0m\u001b[0;34m\u001b[0m\u001b[0m\n\u001b[1;32m      4\u001b[0m \u001b[0;34m\u001b[0m\u001b[0m\n\u001b[1;32m      5\u001b[0m \u001b[0mbin_count\u001b[0m \u001b[0;34m=\u001b[0m \u001b[0;36m100\u001b[0m\u001b[0;34m\u001b[0m\u001b[0m\n",
      "\u001b[0;31mAttributeError\u001b[0m: 'list' object has no attribute 'reshape'"
     ]
    }
   ],
   "source": [
    "# Histograms\n",
    "dense_params = param_outputs.reshape((-1, 6))\n",
    "disc_params = disc_outputs.reshape((-1, 6))\n",
    "\n",
    "bin_count = 100\n",
    "plot_over = True\n",
    "\n",
    "for i in range(0, 6):\n",
    "    dns = dense_params[:, i]\n",
    "    \n",
    "    min_dns = np.min(dense_params[:, i])\n",
    "    max_dns = np.max(dense_params[:, i])\n",
    "    bins_dns = np.arange(min_dns, max_dns, QUANT[i])\n",
    "    \n",
    "    dsc = disc_params[:, i]\n",
    "    print len(np.unique(dsc))\n",
    "    #PS: Using normed histograms to plot them over\n",
    "    # Theta x Dense\n",
    "    plt.figure()\n",
    "    n, bins, patches = plt.hist(dns, bin_count, normed=plot_over, histtype='stepfilled')\n",
    "    plt.setp(patches, 'facecolor', 'r', 'alpha', 0.55)\n",
    "    if not plot_over:\n",
    "        plt.xlabel(('Theta({0}) - Discrete Output').format(i+1))\n",
    "        plt.ylabel('Frequency (Consider bin size)')\n",
    "        plt.grid(True)\n",
    "        plt.figure()\n",
    "    \n",
    "    # Theta x Discrete\n",
    "    n, bins, patches = plt.hist(dsc, bins_dns, normed=plot_over, histtype='stepfilled')\n",
    "    plt.setp(patches, 'facecolor', 'g', 'alpha', 0.55)\n",
    "    if not plot_over:\n",
    "        plt.xlabel(('Theta({0}) - Discrete Output').format(i+1))\n",
    "    else:\n",
    "        plt.xlabel(('Theta({0})').format(i+1))\n",
    "    plt.ylabel('Frequency')\n",
    "    plt.grid(True)\n"
   ]
  },
  {
   "cell_type": "code",
   "execution_count": null,
   "metadata": {
    "collapsed": false
   },
   "outputs": [],
   "source": [
    "plt.figure(figsize=(7,14))\n",
    "for i in range(3):\n",
    "    plt.subplot(321+i*2)\n",
    "    plt.imshow(data['X_test'][i].reshape(DIM, DIM), cmap='gray', interpolation='none')\n",
    "    if i == 0:\n",
    "        plt.title('Original 60x60', fontsize=20)\n",
    "    plt.axis('off')\n",
    "    plt.subplot(322+i*2)\n",
    "    plt.imshow(test_transform[i].reshape(DIM//3, DIM//3), cmap='gray', interpolation='none')\n",
    "    if i == 0:\n",
    "        plt.title('Transformed 20x20', fontsize=20)\n",
    "    plt.axis('off')\n",
    "plt.tight_layout()\n"
   ]
  }
 ],
 "metadata": {
  "anaconda-cloud": {},
  "kernelspec": {
   "display_name": "Python [default]",
   "language": "python",
   "name": "python2"
  },
  "language_info": {
   "codemirror_mode": {
    "name": "ipython",
    "version": 2
   },
   "file_extension": ".py",
   "mimetype": "text/x-python",
   "name": "python",
   "nbconvert_exporter": "python",
   "pygments_lexer": "ipython2",
   "version": "2.7.12"
  }
 },
 "nbformat": 4,
 "nbformat_minor": 1
}
