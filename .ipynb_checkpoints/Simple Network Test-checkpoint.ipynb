{
 "cells": [
  {
   "cell_type": "markdown",
   "metadata": {},
   "source": [
    "# Discrete Network (Basit Örnekleri)"
   ]
  },
  {
   "cell_type": "raw",
   "metadata": {},
   "source": [
    "Few useful sources\n",
    "\n",
    "About Gradient Operations:\n",
    "# https://github.com/Theano/Theano/wiki/Cookbook\n",
    "\n",
    "Implement Own Operation:\n",
    "# https://gist.github.com/delallea/1436172\n",
    "\n",
    "ICML'17 -> Feb. 24 2017. (http://icml.cc/2017) -\n",
    "CVPR'17 -> Nov. 15 2016. (http://cvpr2017.thecvf.com/) - HAWAII\n",
    "SIGIR'17 -> Jan. 17 2017. (http://sigir.org/sigir2017) - TOKIO\n",
    "ICCV'17 -> Mar. 17 2017. (http://iccv2017.thecvf.com/submission/timeline) - ?\n",
    "BMVC'17 -> May. 2 2017. (http://bmvc2017.london/dates/) - LONDON\n",
    "\n",
    "http://deeplearning.net/software/theano/extending/extending_theano.html"
   ]
  },
  {
   "cell_type": "code",
   "execution_count": 1,
   "metadata": {
    "collapsed": false
   },
   "outputs": [],
   "source": [
    "import numpy as np\n",
    "import theano\n",
    "import lasagne\n",
    "import theano.tensor as T\n",
    "from DiscreteLayer import DiscreteLayer\n",
    "from lasagne.layers import InputLayer, DenseLayer"
   ]
  },
  {
   "cell_type": "code",
   "execution_count": 2,
   "metadata": {
    "collapsed": false
   },
   "outputs": [],
   "source": [
    "# Bins\n",
    "bins_choose = np.linspace(-3, 3, 10)\n",
    "input_size = 3\n",
    "t_size = input_size*6\n",
    "bins = np.tile(bins_choose, t_size).reshape((t_size, -1))\n",
    "    \n",
    "network = InputLayer(shape=(input_size, 6))\n",
    "# network = DenseLayer(network, num_units=6) # Uncomment this line to see the error\n",
    "network = DiscreteLayer(network, bins=bins)"
   ]
  },
  {
   "cell_type": "code",
   "execution_count": 3,
   "metadata": {
    "collapsed": false
   },
   "outputs": [
    {
     "name": "stdout",
     "output_type": "stream",
     "text": [
      "[W, b, bins]\n"
     ]
    }
   ],
   "source": [
    "# Trainer Function and Variable Holders\n",
    "X = T.matrix('inputs', dtype=theano.config.floatX)\n",
    "Y = T.matrix('targets', dtype=theano.config.floatX)\n",
    "\n",
    "params = lasagne.layers.get_all_params(network, trainable=True)\n",
    "print params\n",
    "output = lasagne.layers.get_output(network, X, deterministic=False)\n",
    "cost = T.mean(lasagne.objectives.squared_error(output, Y))\n",
    "updates = lasagne.updates.nesterov_momentum(cost, params, learning_rate=0.01, momentum=0.9)\n",
    "\n",
    "train_func = theano.function([X, Y], [cost, output], updates=updates, allow_input_downcast=True)\n",
    "eval_func = theano.function([X], [output], allow_input_downcast=True)"
   ]
  },
  {
   "cell_type": "code",
   "execution_count": 4,
   "metadata": {
    "collapsed": false
   },
   "outputs": [
    {
     "name": "stdout",
     "output_type": "stream",
     "text": [
      "---Inputs---\n",
      "\n",
      "[[ 3.24856002 -1.17029619 -1.08220988 -0.67503056  1.09004309  1.85102019]\n",
      " [-0.51203471 -1.12235786  2.18475881  0.23316078  3.16516574 -1.97244948]\n",
      " [ 1.17601041  3.8150107  -3.76002507 -1.56716639  1.0962515  -3.88497826]]\n",
      "\n",
      "---Discreted Outputs---\n",
      "\n",
      "[ 0.04336352  0.11111111  0.11111111  0.07033842  0.00343011  0.11111111\n",
      "  0.11111111  0.07644592  0.11111111  0.00151838  0.11111111  0.00647126\n",
      "  0.11111111  0.01082632  0.11111111  0.11111111  0.11111111  0.11111111]\n"
     ]
    }
   ],
   "source": [
    "inp = (np.random.rand(input_size, 6) - 0.5) * 8\n",
    "out = eval_func(inp)\n",
    "print \"---Inputs---\\n\"\n",
    "print np.array_str(inp)\n",
    "print \"\\n---Discreted Outputs---\\n\"\n",
    "print np.array_str(out[0])"
   ]
  },
  {
   "cell_type": "code",
   "execution_count": 5,
   "metadata": {
    "collapsed": false
   },
   "outputs": [
    {
     "name": "stdout",
     "output_type": "stream",
     "text": [
      "The output file is available at Simple_Network.png\n",
      "The output file is available at Simple_Network_train.png\n"
     ]
    }
   ],
   "source": [
    "# Print Network Graph\n",
    "theano.printing.pydotprint(eval_func, outfile=\"Simple_Network.png\", var_with_name_simple=True)\n",
    "theano.printing.pydotprint(train_func, outfile=\"Simple_Network_train.png\", var_with_name_simple=True)  "
   ]
  },
  {
   "cell_type": "code",
   "execution_count": null,
   "metadata": {
    "collapsed": true
   },
   "outputs": [],
   "source": []
  }
 ],
 "metadata": {
  "anaconda-cloud": {},
  "kernelspec": {
   "display_name": "Python 2",
   "language": "python",
   "name": "python2"
  },
  "language_info": {
   "codemirror_mode": {
    "name": "ipython",
    "version": 2
   },
   "file_extension": ".py",
   "mimetype": "text/x-python",
   "name": "python",
   "nbconvert_exporter": "python",
   "pygments_lexer": "ipython2",
   "version": "2.7.12"
  }
 },
 "nbformat": 4,
 "nbformat_minor": 1
}
