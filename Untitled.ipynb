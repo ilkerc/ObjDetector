{
 "cells": [
  {
   "cell_type": "code",
   "execution_count": 3,
   "metadata": {
    "collapsed": false
   },
   "outputs": [],
   "source": [
    "# Imports\n",
    "from utils.utils import iterate_minibatches\n",
    "from Models import build_mitosis_encoder\n",
    "from sampleFactory import generateSamples\n",
    "import lasagne\n",
    "import theano\n",
    "import time\n",
    "import theano.tensor as T\n",
    "import numpy as np"
   ]
  },
  {
   "cell_type": "code",
   "execution_count": 5,
   "metadata": {
    "collapsed": true
   },
   "outputs": [],
   "source": [
    "# Params\n",
    "num_epochs = 500\n",
    "use_class = 1  # 1 is for mitosis\n",
    "aug_sample = 5\n",
    "batch_size = 5\n",
    "encode_size = 100\n",
    "use_st = True\n",
    "regularize = True\n",
    "reg_weight = 0.0005"
   ]
  },
  {
   "cell_type": "code",
   "execution_count": 7,
   "metadata": {
    "collapsed": true
   },
   "outputs": [],
   "source": [
    "# Import The Data\n",
    "samples_path_x = '/home/ilker/bap/mitosis/OriginalSampleX.npy'\n",
    "samples_path_y = '/home/ilker/bap/mitosis/OriginalSampleY.npy'\n",
    "X = np.reshape(np.load(samples_path_x), (-1, 50, 50, 3))\n",
    "Y = np.load(samples_path_y)"
   ]
  },
  {
   "cell_type": "code",
   "execution_count": 8,
   "metadata": {
    "collapsed": true
   },
   "outputs": [],
   "source": [
    "# Augment Samples\n",
    "X_set = [X[i] for i in range(0, X.shape[0]) if Y[i] == use_class]\n",
    "Y_aug, X_aug = generateSamples(X_set, aug_sample)"
   ]
  },
  {
   "cell_type": "code",
   "execution_count": 9,
   "metadata": {
    "collapsed": true
   },
   "outputs": [],
   "source": [
    "# Construct the model\n",
    "Xs = np.transpose(np.asarray(X_aug), (0, 3, 2, 1))\n",
    "Ys = np.transpose(np.asarray(Y_aug), (0, 3, 2, 1))\n",
    "network = build_mitosis_encoder(Xs.shape, encoding_size=encode_size, withst=use_st)"
   ]
  },
  {
   "cell_type": "code",
   "execution_count": 11,
   "metadata": {
    "collapsed": true
   },
   "outputs": [],
   "source": [
    "# params\n",
    "params = lasagne.layers.get_all_params(network, trainable=True)\n",
    "X = T.tensor4('inputs', dtype=theano.config.floatX)\n",
    "Y = T.tensor4('targets', dtype=theano.config.floatX)\n",
    "output = lasagne.layers.get_output(network, X, deterministic=False)\n",
    "l_encoder = next(l for l in lasagne.layers.get_all_layers(network) if l.name is 'encoder')\n",
    "encoder = lasagne.layers.get_output(l_encoder, X)"
   ]
  },
  {
   "cell_type": "code",
   "execution_count": 12,
   "metadata": {
    "collapsed": true
   },
   "outputs": [],
   "source": [
    "# Train Functions\n",
    "cost = T.mean(lasagne.objectives.squared_error(output, Y))  # ssim(output, y) -> ssim is also a good metric\n",
    "if regularize:\n",
    "    all_layers = lasagne.layers.get_all_layers(network)\n",
    "    l2_penalty = lasagne.regularization.regularize_layer_params(all_layers, lasagne.regularization.l2) * reg_weight\n",
    "    cost += l2_penalty\n",
    "\n",
    "updates = lasagne.updates.nesterov_momentum(cost, params, learning_rate=0.05, momentum=0.9)\n",
    "train_func = theano.function([X, Y], [cost, output], updates=updates, allow_input_downcast=True)\n",
    "encode_func = theano.function([X], [encoder], allow_input_downcast=True)\n",
    "eval_func = theano.function([X], [output], allow_input_downcast=True)"
   ]
  },
  {
   "cell_type": "code",
   "execution_count": 13,
   "metadata": {
    "collapsed": false
   },
   "outputs": [
    {
     "name": "stdout",
     "output_type": "stream",
     "text": [
      "Training Is About to Start\n",
      "Epoch 1 of 500 took 19.348s\n",
      "  training loss:\t\t0.301175\n",
      "Epoch 2 of 500 took 19.350s\n",
      "  training loss:\t\t0.171324\n",
      "Epoch 3 of 500 took 19.347s\n",
      "  training loss:\t\t0.146517\n",
      "Epoch 4 of 500 took 19.343s\n",
      "  training loss:\t\t0.140179\n",
      "Epoch 5 of 500 took 19.347s\n",
      "  training loss:\t\t0.138009\n",
      "Epoch 6 of 500 took 19.341s\n",
      "  training loss:\t\t0.137239\n",
      "Epoch 7 of 500 took 19.407s\n",
      "  training loss:\t\t0.136838\n",
      "Epoch 8 of 500 took 19.340s\n",
      "  training loss:\t\t0.136713\n",
      "Training is interrupted\n",
      "Completed, saved\n"
     ]
    }
   ],
   "source": [
    "# Training\n",
    "print(\"Training Is About to Start\")\n",
    "trn_hist = np.zeros(num_epochs)\n",
    "try:\n",
    "    for epoch in range(num_epochs):\n",
    "        # Save the model\n",
    "        if epoch % 20 == 0:\n",
    "            np.savez('model_' + str(epoch) + '.npz', *lasagne.layers.get_all_param_values(network))\n",
    "\n",
    "        # Training\n",
    "        train_err = 0\n",
    "        train_batches = 0\n",
    "        start_time = time.time()\n",
    "        for batch in iterate_minibatches(Xs, Ys, batch_size, shuffle=True):\n",
    "            inputs, targets = batch\n",
    "            train_err += train_func(inputs, targets)[0]\n",
    "            train_batches += 1\n",
    "            trn_hist[epoch] = train_err / train_batches\n",
    "\n",
    "        # Print Results\n",
    "        print(\"Epoch {} of {} took {:.3f}s\".format(\n",
    "            epoch + 1, num_epochs, time.time() - start_time))\n",
    "        print(\"  training loss:\\t\\t{:.6f}\".format(train_err / train_batches))\n",
    "        # print(\"  validation loss:\\t\\t{:.6f}\".format(val_err / val_batches))\n",
    "\n",
    "except KeyboardInterrupt:\n",
    "    print(\"Training is interrupted\")\n",
    "    np.savez('model_' + str(epoch) + '.npz', *lasagne.layers.get_all_param_values(network))\n",
    "    pass\n",
    "print(\"Completed, saved\")"
   ]
  },
  {
   "cell_type": "code",
   "execution_count": null,
   "metadata": {
    "collapsed": true
   },
   "outputs": [],
   "source": []
  }
 ],
 "metadata": {
  "anaconda-cloud": {},
  "kernelspec": {
   "display_name": "Python [conda env:theano]",
   "language": "python",
   "name": "conda-env-theano-py"
  },
  "language_info": {
   "codemirror_mode": {
    "name": "ipython",
    "version": 2
   },
   "file_extension": ".py",
   "mimetype": "text/x-python",
   "name": "python",
   "nbconvert_exporter": "python",
   "pygments_lexer": "ipython2",
   "version": "2.7.12"
  }
 },
 "nbformat": 4,
 "nbformat_minor": 1
}
