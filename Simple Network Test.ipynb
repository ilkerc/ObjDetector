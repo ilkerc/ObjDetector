{
 "cells": [
  {
   "cell_type": "markdown",
   "metadata": {},
   "source": [
    "# Discrete Network (Basit Örnekleri)"
   ]
  },
  {
   "cell_type": "raw",
   "metadata": {},
   "source": [
    "Few useful sources\n",
    "\n",
    "About Gradient Operations:\n",
    "https://github.com/Theano/Theano/wiki/Cookbook\n",
    "\n",
    "Implement Own Operation:\n",
    "https://gist.github.com/delallea/1436172"
   ]
  },
  {
   "cell_type": "code",
   "execution_count": 9,
   "metadata": {
    "collapsed": false
   },
   "outputs": [],
   "source": [
    "import numpy as np\n",
    "import theano\n",
    "import lasagne\n",
    "import theano.tensor as T\n",
    "from DiscreteLayer import DiscreteLayer\n",
    "from lasagne.layers import InputLayer, DenseLayer"
   ]
  },
  {
   "cell_type": "code",
   "execution_count": 26,
   "metadata": {
    "collapsed": true
   },
   "outputs": [],
   "source": [
    "# Bins\n",
    "bins_choose = np.linspace(-3, 3, 100)\n",
    "input_size = 3\n",
    "t_size = input_size*6\n",
    "bins = np.tile(bins_choose, t_size).reshape((t_size, -1))\n",
    "    \n",
    "network = InputLayer(shape=(input_size, 6))\n",
    "#network = DenseLayer(network, num_units=6) # Uncomment this line to see the error\n",
    "network = DiscreteLayer(network, bins=bins)"
   ]
  },
  {
   "cell_type": "code",
   "execution_count": 27,
   "metadata": {
    "collapsed": false
   },
   "outputs": [],
   "source": [
    "# Trainer Function and Variable Holders\n",
    "X = T.matrix('inputs', dtype=theano.config.floatX)\n",
    "Y = T.matrix('targets', dtype=theano.config.floatX)\n",
    "\n",
    "params = lasagne.layers.get_all_params(network, trainable=True)\n",
    "output = lasagne.layers.get_output(network, X, deterministic=False)\n",
    "cost = T.mean(lasagne.objectives.squared_error(output, Y))\n",
    "updates = lasagne.updates.nesterov_momentum(cost, params, learning_rate=0.01, momentum=0.9)\n",
    "\n",
    "train_func = theano.function([X, Y], [cost, output], updates=updates, allow_input_downcast=True)\n",
    "eval_func = theano.function([X], [output], allow_input_downcast=True)"
   ]
  },
  {
   "cell_type": "code",
   "execution_count": 31,
   "metadata": {
    "collapsed": false
   },
   "outputs": [
    {
     "name": "stdout",
     "output_type": "stream",
     "text": [
      "---Inputs---\n",
      "\n",
      "[[ 0.6315526   0.23863341  0.96095111  0.66420804  0.85523071  0.36330735]\n",
      " [ 0.1099402   0.40556576  0.05734222  0.7279611   0.4082129   0.53728607]\n",
      " [ 0.726888    0.38444794  0.04176623  0.42993391  0.08866254  0.95197624]]\n",
      "\n",
      "---Discreted Outputs---\n",
      "\n",
      "[[ 0.63636363  0.21212122  0.93939394  0.63636363  0.87878788  0.33333334]\n",
      " [ 0.09090909  0.39393941  0.03030303  0.75757575  0.39393941  0.5151515 ]\n",
      " [ 0.69696969  0.39393941  0.03030303  0.45454547  0.09090909  0.93939394]]\n"
     ]
    }
   ],
   "source": [
    "inp = np.random.rand(input_size, 6)\n",
    "out = eval_func(inp)\n",
    "print \"---Inputs---\\n\"\n",
    "print np.array_str(inp)\n",
    "print \"\\n---Discreted Outputs---\\n\"\n",
    "print np.array_str(out[0])"
   ]
  },
  {
   "cell_type": "code",
   "execution_count": 20,
   "metadata": {
    "collapsed": false
   },
   "outputs": [
    {
     "name": "stdout",
     "output_type": "stream",
     "text": [
      "The output file is available at Simple_Network.png\n",
      "The output file is available at Simple_Network_train.png\n"
     ]
    }
   ],
   "source": [
    "# Print Network Graph\n",
    "theano.printing.pydotprint(eval_func, outfile=\"Simple_Network.png\", var_with_name_simple=True)\n",
    "theano.printing.pydotprint(train_func, outfile=\"Simple_Network_train.png\", var_with_name_simple=True)  "
   ]
  },
  {
   "cell_type": "code",
   "execution_count": null,
   "metadata": {
    "collapsed": true
   },
   "outputs": [],
   "source": []
  }
 ],
 "metadata": {
  "anaconda-cloud": {},
  "kernelspec": {
   "display_name": "Python [conda env:theano]",
   "language": "python",
   "name": "conda-env-theano-py"
  },
  "language_info": {
   "codemirror_mode": {
    "name": "ipython",
    "version": 2
   },
   "file_extension": ".py",
   "mimetype": "text/x-python",
   "name": "python",
   "nbconvert_exporter": "python",
   "pygments_lexer": "ipython2",
   "version": "2.7.12"
  }
 },
 "nbformat": 4,
 "nbformat_minor": 1
}
