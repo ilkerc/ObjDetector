{
 "cells": [
  {
   "cell_type": "markdown",
   "metadata": {},
   "source": [
    "# Discrete Network (Basit Örnekleri)"
   ]
  },
  {
   "cell_type": "raw",
   "metadata": {},
   "source": [
    "Few useful sources\n",
    "\n",
    "About Gradient Operations:\n",
    "# https://github.com/Theano/Theano/wiki/Cookbook\n",
    "\n",
    "Implement Own Operation:\n",
    "# https://gist.github.com/delallea/1436172\n",
    "\n",
    "Reverse Gradient\n",
    "# http://stackoverflow.com/questions/33879736/can-i-selectively-invert-theano-gradients-during-backpropagation\n",
    "paper : https://arxiv.org/pdf/1409.7495.pdf\n",
    "\n",
    "ICML'17 -> Feb. 24 2017. (http://icml.cc/2017) -\n",
    "CVPR'17 -> Nov. 15 2016. (http://cvpr2017.thecvf.com/) - HAWAII\n",
    "SIGIR'17 -> Jan. 17 2017. (http://sigir.org/sigir2017) - TOKIO\n",
    "ICCV'17 -> Mar. 17 2017. (http://iccv2017.thecvf.com/submission/timeline) - ?\n",
    "BMVC'17 -> May. 2 2017. (http://bmvc2017.london/dates/) - LONDON\n",
    "\n",
    "http://deeplearning.net/software/theano/extending/extending_theano.html"
   ]
  },
  {
   "cell_type": "code",
   "execution_count": 1,
   "metadata": {
    "collapsed": false
   },
   "outputs": [],
   "source": [
    "import numpy as np\n",
    "import theano\n",
    "import lasagne\n",
    "import theano.tensor as T\n",
    "from helpers.DiscreteLayer import DiscreteLayer\n",
    "from lasagne.layers import InputLayer, DenseLayer"
   ]
  },
  {
   "cell_type": "code",
   "execution_count": 33,
   "metadata": {
    "collapsed": false
   },
   "outputs": [],
   "source": [
    "# Bins\n",
    "bins_choose = np.linspace(-1, 1, 5)\n",
    "input_size = 1\n",
    "t_size = input_size*6\n",
    "bins = np.tile(bins_choose, t_size).reshape((t_size, -1))\n",
    "    \n",
    "network = InputLayer(shape=(input_size, 6))\n",
    "network = DenseLayer(network, num_units=6, b=None, nonlinearity=lasagne.nonlinearities.linear) # Uncomment this line to see the error\n",
    "network = DiscreteLayer(network, bins=bins)"
   ]
  },
  {
   "cell_type": "code",
   "execution_count": 34,
   "metadata": {
    "collapsed": false
   },
   "outputs": [
    {
     "name": "stdout",
     "output_type": "stream",
     "text": [
      "Reshape{2}.0\n"
     ]
    }
   ],
   "source": [
    "# Trainer Function and Variable Holders\n",
    "X = T.matrix('inputs', dtype=theano.config.floatX)\n",
    "Y = T.matrix('targets', dtype=theano.config.floatX)\n",
    "\n",
    "params = lasagne.layers.get_all_params(network, trainable=True)\n",
    "output = lasagne.layers.get_output(network, X, deterministic=False, withdiscrete=True)\n",
    "output_cont = lasagne.layers.get_output(network, X, deterministic=False, withdiscrete=False)\n",
    "\n",
    "print output\n",
    "\n",
    "cost = T.mean(lasagne.objectives.squared_error(output_cont, Y))\n",
    "updates = lasagne.updates.nesterov_momentum(cost, params, learning_rate=0.01, momentum=0.9)\n",
    "\n",
    "train_func = theano.function([X, Y], [cost, output], updates=updates, allow_input_downcast=True)\n",
    "eval_func = theano.function([X], [output], allow_input_downcast=True)"
   ]
  },
  {
   "cell_type": "code",
   "execution_count": 35,
   "metadata": {
    "collapsed": false
   },
   "outputs": [
    {
     "name": "stdout",
     "output_type": "stream",
     "text": [
      "---Inputs---\n",
      "\n",
      "[[ 2.02136626 -1.54619561  3.5279553  -2.17063914 -3.58257767 -2.94635859]]\n",
      "\n",
      "---Discreted Outputs---\n",
      "\n",
      "[[-1.  1. -1.  1.  1.  1.]]\n",
      "\n",
      "\n",
      "\n",
      "[-1.  -0.5  0.   0.5  1. ]\n"
     ]
    }
   ],
   "source": [
    "inp = (np.random.rand(input_size, 6) - 0.5) * 8\n",
    "out = eval_func(inp)\n",
    "print \"---Inputs---\\n\"\n",
    "print np.array_str(inp)\n",
    "print \"\\n---Discreted Outputs---\\n\"\n",
    "print np.array_str(out[0])\n",
    "\n",
    "print \"\\n\\n\"\n",
    "print bins_choose"
   ]
  },
  {
   "cell_type": "code",
   "execution_count": 5,
   "metadata": {
    "collapsed": false
   },
   "outputs": [
    {
     "name": "stdout",
     "output_type": "stream",
     "text": [
      "The output file is available at Simple_Network.png\n",
      "The output file is available at Simple_Network_train.png\n"
     ]
    }
   ],
   "source": [
    "# Print Network Graph\n",
    "theano.printing.pydotprint(eval_func, outfile=\"Simple_Network.png\", var_with_name_simple=True)\n",
    "theano.printing.pydotprint(train_func, outfile=\"Simple_Network_train.png\", var_with_name_simple=True)  "
   ]
  },
  {
   "cell_type": "markdown",
   "metadata": {
    "collapsed": true
   },
   "source": [
    "# "
   ]
  }
 ],
 "metadata": {
  "anaconda-cloud": {},
  "kernelspec": {
   "display_name": "Python [default]",
   "language": "python",
   "name": "python2"
  },
  "language_info": {
   "codemirror_mode": {
    "name": "ipython",
    "version": 2
   },
   "file_extension": ".py",
   "mimetype": "text/x-python",
   "name": "python",
   "nbconvert_exporter": "python",
   "pygments_lexer": "ipython2",
   "version": "2.7.12"
  }
 },
 "nbformat": 4,
 "nbformat_minor": 1
}
