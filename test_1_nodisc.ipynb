{
 "cells": [
  {
   "cell_type": "code",
   "execution_count": 1,
   "metadata": {
    "collapsed": false
   },
   "outputs": [
    {
     "name": "stderr",
     "output_type": "stream",
     "text": [
      "Using gpu device 0: Tesla K40c (CNMeM is enabled with initial size: 69.0% of memory, cuDNN 5105)\n",
      "/home/ilker/anaconda2/envs/theano/lib/python2.7/site-packages/theano/sandbox/cuda/__init__.py:601: UserWarning: Your cuDNN version is more recent than the one Theano officially supports. If you see any problems, try updating Theano or downgrading cuDNN to version 5.\n",
      "  warnings.warn(warn)\n"
     ]
    }
   ],
   "source": [
    "%matplotlib inline\n",
    "import os\n",
    "import time\n",
    "import matplotlib\n",
    "import numpy as np\n",
    "import matplotlib.pyplot as plt\n",
    "import lasagne\n",
    "import theano\n",
    "import theano.tensor as T\n",
    "import pylab as P\n",
    "from DiscreteLayer import DiscreteLayer\n",
    "os.environ['THEANO_FLAGS']='device=gpu0'\n",
    "np.random.seed(123)"
   ]
  },
  {
   "cell_type": "code",
   "execution_count": 2,
   "metadata": {
    "collapsed": true
   },
   "outputs": [],
   "source": [
    "# Constants\n",
    "conv = lasagne.layers.Conv2DLayer\n",
    "pool = lasagne.layers.MaxPool2DLayer\n",
    "NUM_EPOCHS = 51\n",
    "BATCH_SIZE = 256\n",
    "LEARNING_RATE = 0.001\n",
    "DIM = 60\n",
    "NUM_CLASSES = 10\n",
    "mnist_cluttered = \"mnist_cluttered_60x60_6distortions.npz\"\n",
    "#DISC\n",
    "DISC = False\n",
    "MINS = (.3, -.3, -.8, -.3, .5, -0.7)\n",
    "MAXS = (1.1, .1, 1.1, .4, 1.1, 1.5)\n",
    "RANGES = (50, 50, 50, 50, 50, 50)"
   ]
  },
  {
   "cell_type": "code",
   "execution_count": 3,
   "metadata": {
    "collapsed": false
   },
   "outputs": [
    {
     "name": "stdout",
     "output_type": "stream",
     "text": [
      "Train samples: (50000, 1, 60, 60)\n",
      "Validation samples: (10000, 1, 60, 60)\n",
      "Test samples: (10000, 1, 60, 60)\n"
     ]
    }
   ],
   "source": [
    "def load_data():\n",
    "    data = np.load(mnist_cluttered)\n",
    "    X_train, y_train = data['x_train'], np.argmax(data['y_train'], axis=-1)\n",
    "    X_valid, y_valid = data['x_valid'], np.argmax(data['y_valid'], axis=-1)\n",
    "    X_test, y_test = data['x_test'], np.argmax(data['y_test'], axis=-1)\n",
    "\n",
    "    # reshape for convolutions\n",
    "    X_train = X_train.reshape((X_train.shape[0], 1, DIM, DIM))\n",
    "    X_valid = X_valid.reshape((X_valid.shape[0], 1, DIM, DIM))\n",
    "    X_test = X_test.reshape((X_test.shape[0], 1, DIM, DIM))\n",
    "    \n",
    "    print \"Train samples:\", X_train.shape\n",
    "    print \"Validation samples:\", X_valid.shape\n",
    "    print \"Test samples:\", X_test.shape\n",
    "\n",
    "    return dict(\n",
    "        X_train=lasagne.utils.floatX(X_train),\n",
    "        y_train=y_train.astype('int32'),\n",
    "        X_valid=lasagne.utils.floatX(X_valid),\n",
    "        y_valid=y_valid.astype('int32'),\n",
    "        X_test=lasagne.utils.floatX(X_test),\n",
    "        y_test=y_test.astype('int32'),\n",
    "        num_examples_train=X_train.shape[0],\n",
    "        num_examples_valid=X_valid.shape[0],\n",
    "        num_examples_test=X_test.shape[0],\n",
    "        input_height=X_train.shape[2],\n",
    "        input_width=X_train.shape[3],\n",
    "        output_dim=10,)\n",
    "data = load_data()"
   ]
  },
  {
   "cell_type": "code",
   "execution_count": 4,
   "metadata": {
    "collapsed": false
   },
   "outputs": [
    {
     "name": "stdout",
     "output_type": "stream",
     "text": [
      "No Disc. Layer\n",
      "Transformer network output shape:  (None, 1, 20, 20)\n"
     ]
    }
   ],
   "source": [
    "def build_model(input_width, input_height, output_dim, mins, maxs, ranges,\n",
    "                batch_size=BATCH_SIZE, withdisc=True):\n",
    "    ini = lasagne.init.HeUniform()\n",
    "    l_in = lasagne.layers.InputLayer(shape=(None, 1, input_width, input_height),)\n",
    "\n",
    "    # Localization network\n",
    "    b = np.zeros((2, 3), dtype=theano.config.floatX)\n",
    "    b[0, 0] = 1\n",
    "    b[1, 1] = 1\n",
    "    b = b.flatten()\n",
    "    loc_l1 = pool(l_in, pool_size=(2, 2))\n",
    "    loc_l2 = conv(\n",
    "        loc_l1, num_filters=20, filter_size=(5, 5), W=ini)\n",
    "    loc_l3 = pool(loc_l2, pool_size=(2, 2))\n",
    "    loc_l4 = conv(loc_l3, num_filters=20, filter_size=(5, 5), W=ini)\n",
    "    loc_l5 = lasagne.layers.DenseLayer(\n",
    "        loc_l4, num_units=50, W=lasagne.init.HeUniform('relu'))\n",
    "    loc_out = lasagne.layers.DenseLayer(\n",
    "        loc_l5, num_units=6, b=b, W=lasagne.init.Constant(0.0), \n",
    "        nonlinearity=lasagne.nonlinearities.identity, name='param_regressor')\n",
    "    \n",
    "    if withdisc:\n",
    "        l_dis = DiscreteLayer(loc_out, mins, maxs, ranges, name='disclayer')\n",
    "        print(\"Using Discret. Layer\")\n",
    "    else:\n",
    "        l_dis = loc_out\n",
    "        print(\"No Disc. Layer\")\n",
    "    \n",
    "    # Transformer network\n",
    "    l_trans1 = lasagne.layers.TransformerLayer(l_in, l_dis, downsample_factor=3.0)\n",
    "    print \"Transformer network output shape: \", l_trans1.output_shape\n",
    "    \n",
    "    # Classification network\n",
    "    class_l1 = conv(\n",
    "        l_trans1,\n",
    "        num_filters=32,\n",
    "        filter_size=(3, 3),\n",
    "        nonlinearity=lasagne.nonlinearities.rectify,\n",
    "        W=ini,\n",
    "    )\n",
    "    class_l2 = pool(class_l1, pool_size=(2, 2))\n",
    "    class_l3 = conv(\n",
    "        class_l2,\n",
    "        num_filters=32,\n",
    "        filter_size=(3, 3),\n",
    "        nonlinearity=lasagne.nonlinearities.rectify,\n",
    "        W=ini,\n",
    "    )\n",
    "    class_l4 = pool(class_l3, pool_size=(2, 2))\n",
    "    class_l5 = lasagne.layers.DenseLayer(\n",
    "        class_l4,\n",
    "        num_units=256,\n",
    "        nonlinearity=lasagne.nonlinearities.rectify,\n",
    "        W=ini,\n",
    "    )\n",
    "\n",
    "    l_out = lasagne.layers.DenseLayer(\n",
    "        class_l5,\n",
    "        num_units=output_dim,\n",
    "        nonlinearity=lasagne.nonlinearities.softmax,\n",
    "        W=ini,\n",
    "    )\n",
    "\n",
    "    return l_out, l_trans1\n",
    "\n",
    "model, l_transform = build_model(DIM, DIM, NUM_CLASSES, MINS, MAXS, RANGES, withdisc=DISC)\n",
    "model_params = lasagne.layers.get_all_params(model, trainable=True)"
   ]
  },
  {
   "cell_type": "code",
   "execution_count": 5,
   "metadata": {
    "collapsed": false
   },
   "outputs": [],
   "source": [
    "X = T.tensor4(dtype=theano.config.floatX)\n",
    "y = T.ivector()\n",
    "\n",
    "## Layer History\n",
    "if DISC:\n",
    "    l_disc = next(l for l in lasagne.layers.get_all_layers(model) if l.name is 'disclayer')\n",
    "    l_paramreg = next(l for l in lasagne.layers.get_all_layers(model) if l.name is 'param_regressor')\n",
    "    l_disc_output, l_paramreg_output = lasagne.layers.get_output([l_disc, l_paramreg], X, deterministic=False)\n",
    "## Layer History\n",
    "\n",
    "# training output\n",
    "output_train = lasagne.layers.get_output(model, X, deterministic=False)\n",
    "\n",
    "# evaluation output. Also includes output of transform for plotting\n",
    "output_eval, transform_eval = lasagne.layers.get_output([model, l_transform], X, deterministic=True)\n",
    "\n",
    "sh_lr = theano.shared(lasagne.utils.floatX(LEARNING_RATE))\n",
    "cost = T.mean(T.nnet.categorical_crossentropy(output_train, y))\n",
    "updates = lasagne.updates.adam(cost, model_params, learning_rate=sh_lr)\n",
    "\n",
    "if DISC:\n",
    "    train = theano.function([X, y], [cost, output_train, l_disc_output, l_paramreg_output], updates=updates)\n",
    "else:\n",
    "    train = theano.function([X, y], [cost, output_train], updates=updates)\n",
    "eval = theano.function([X], [output_eval, transform_eval])"
   ]
  },
  {
   "cell_type": "code",
   "execution_count": 6,
   "metadata": {
    "collapsed": true
   },
   "outputs": [],
   "source": [
    "def train_epoch(X, y):\n",
    "    # History Keeping\n",
    "    param_output = []\n",
    "    disc_output = []\n",
    "    # History\n",
    "    num_samples = X.shape[0]\n",
    "    num_batches = int(np.ceil(num_samples / float(BATCH_SIZE)))\n",
    "    costs = []\n",
    "    correct = 0\n",
    "    for i in range(num_batches):\n",
    "        idx = range(i*BATCH_SIZE, np.minimum((i+1)*BATCH_SIZE, num_samples))\n",
    "        X_batch = X[idx]\n",
    "        y_batch = y[idx]\n",
    "        if DISC:\n",
    "            cost_batch, output_train, l_disc_output, l_paramreg_output = train(X_batch, y_batch)\n",
    "            param_output = np.append(param_output, l_paramreg_output)\n",
    "            disc_output = np.append(disc_output, l_disc_output)\n",
    "        else:\n",
    "            cost_batch, output_train = train(X_batch, y_batch)\n",
    "        costs += [cost_batch]\n",
    "        preds = np.argmax(output_train, axis=-1)\n",
    "        correct += np.sum(y_batch == preds)\n",
    "        \n",
    "    return np.mean(costs), correct / float(num_samples), param_output, disc_output\n",
    "\n",
    "\n",
    "def eval_epoch(X, y):\n",
    "    output_eval, transform_eval = eval(X)\n",
    "    preds = np.argmax(output_eval, axis=-1)\n",
    "    acc = np.mean(preds == y)\n",
    "    return acc, transform_eval"
   ]
  },
  {
   "cell_type": "markdown",
   "metadata": {},
   "source": [
    "# Training"
   ]
  },
  {
   "cell_type": "code",
   "execution_count": 7,
   "metadata": {
    "collapsed": false
   },
   "outputs": [
    {
     "name": "stdout",
     "output_type": "stream",
     "text": [
      "Epoch 0: Train cost 1.88776659966, Train acc 0.32194, val acc 0.536, test acc 0.5315, took 5.43 sec.\n",
      "Epoch 1: Train cost 1.04516208172, Train acc 0.65464, val acc 0.7364, test acc 0.7256, took 5.41 sec.\n",
      "Epoch 2: Train cost 0.709784388542, Train acc 0.76968, val acc 0.7961, test acc 0.7892, took 5.4 sec.\n",
      "Epoch 3: Train cost 0.539156377316, Train acc 0.82626, val acc 0.8389, test acc 0.8387, took 5.4 sec.\n",
      "Epoch 4: Train cost 0.465112268925, Train acc 0.84938, val acc 0.85, test acc 0.8485, took 5.4 sec.\n",
      "Epoch 5: Train cost 0.403544723988, Train acc 0.8707, val acc 0.8792, test acc 0.8815, took 5.4 sec.\n",
      "Epoch 6: Train cost 0.343468517065, Train acc 0.8885, val acc 0.8976, test acc 0.8953, took 5.4 sec.\n",
      "Epoch 7: Train cost 0.306323260069, Train acc 0.90114, val acc 0.8943, test acc 0.896, took 5.39 sec.\n",
      "Epoch 8: Train cost 0.283219814301, Train acc 0.90784, val acc 0.91, test acc 0.9075, took 5.41 sec.\n",
      "Epoch 9: Train cost 0.254841148853, Train acc 0.91834, val acc 0.9153, test acc 0.9159, took 5.4 sec.\n",
      "Epoch 10: Train cost 0.23846155405, Train acc 0.9215, val acc 0.9171, test acc 0.9194, took 5.4 sec.\n",
      "Epoch 11: Train cost 0.21063503623, Train acc 0.932, val acc 0.9187, test acc 0.9196, took 5.4 sec.\n",
      "Epoch 12: Train cost 0.20685954392, Train acc 0.93256, val acc 0.9302, test acc 0.9298, took 5.4 sec.\n",
      "Epoch 13: Train cost 0.193098187447, Train acc 0.93816, val acc 0.9246, test acc 0.9265, took 5.4 sec.\n",
      "Epoch 14: Train cost 0.177606225014, Train acc 0.94164, val acc 0.9329, test acc 0.9337, took 5.4 sec.\n",
      "Epoch 15: Train cost 0.171079397202, Train acc 0.9431, val acc 0.9356, test acc 0.9356, took 5.4 sec.\n",
      "Epoch 16: Train cost 0.161249741912, Train acc 0.94766, val acc 0.9393, test acc 0.9344, took 5.4 sec.\n",
      "Epoch 17: Train cost 0.156759873033, Train acc 0.94752, val acc 0.943, test acc 0.9421, took 5.4 sec.\n",
      "Epoch 18: Train cost 0.156131371856, Train acc 0.94812, val acc 0.9356, test acc 0.9396, took 5.39 sec.\n",
      "New LR: 0.000700000033248\n",
      "Epoch 19: Train cost 0.139899179339, Train acc 0.95398, val acc 0.94, test acc 0.9391, took 5.4 sec.\n",
      "Epoch 20: Train cost 0.123161546886, Train acc 0.95962, val acc 0.945, test acc 0.9428, took 5.39 sec.\n",
      "Epoch 21: Train cost 0.115698635578, Train acc 0.96148, val acc 0.9466, test acc 0.9485, took 5.39 sec.\n",
      "Epoch 22: Train cost 0.12180904299, Train acc 0.9606, val acc 0.9474, test acc 0.9482, took 5.41 sec.\n",
      "Epoch 23: Train cost 0.109474398196, Train acc 0.964, val acc 0.9501, test acc 0.95, took 5.39 sec.\n",
      "Epoch 24: Train cost 0.113735258579, Train acc 0.96286, val acc 0.9463, test acc 0.9459, took 5.39 sec.\n",
      "Epoch 25: Train cost 0.101356230676, Train acc 0.96688, val acc 0.9461, test acc 0.9472, took 5.4 sec.\n",
      "Epoch 26: Train cost 0.110088564456, Train acc 0.96378, val acc 0.9478, test acc 0.9505, took 5.39 sec.\n",
      "Epoch 27: Train cost 0.100770384073, Train acc 0.96686, val acc 0.9486, test acc 0.9498, took 5.39 sec.\n",
      "Epoch 28: Train cost 0.094747826457, Train acc 0.96854, val acc 0.9493, test acc 0.9514, took 5.4 sec.\n",
      "Epoch 29: Train cost 0.0924050882459, Train acc 0.9694, val acc 0.9518, test acc 0.9528, took 5.4 sec.\n",
      "Epoch 30: Train cost 0.0856000334024, Train acc 0.9718, val acc 0.952, test acc 0.9521, took 5.39 sec.\n",
      "Epoch 31: Train cost 0.0851102396846, Train acc 0.9718, val acc 0.9529, test acc 0.9533, took 5.4 sec.\n",
      "Epoch 32: Train cost 0.0826776847243, Train acc 0.97212, val acc 0.9537, test acc 0.955, took 5.39 sec.\n",
      "Epoch 33: Train cost 0.0789493620396, Train acc 0.97386, val acc 0.9519, test acc 0.951, took 5.39 sec.\n",
      "Epoch 34: Train cost 0.0759597718716, Train acc 0.97414, val acc 0.9572, test acc 0.958, took 5.4 sec.\n",
      "Epoch 35: Train cost 0.0817636102438, Train acc 0.97208, val acc 0.9563, test acc 0.9584, took 5.39 sec.\n",
      "Epoch 36: Train cost 0.0795290246606, Train acc 0.97264, val acc 0.9551, test acc 0.9557, took 5.39 sec.\n",
      "Epoch 37: Train cost 0.0739438980818, Train acc 0.97564, val acc 0.9538, test acc 0.9554, took 5.4 sec.\n",
      "Epoch 38: Train cost 0.0631189271808, Train acc 0.97952, val acc 0.9558, test acc 0.9549, took 5.39 sec.\n",
      "New LR: 0.000490000023274\n",
      "Epoch 39: Train cost 0.0615561641753, Train acc 0.97954, val acc 0.9557, test acc 0.9563, took 5.39 sec.\n",
      "Epoch 40: Train cost 0.0548580698669, Train acc 0.98088, val acc 0.9562, test acc 0.9555, took 5.4 sec.\n",
      "Epoch 41: Train cost 0.0532993040979, Train acc 0.98256, val acc 0.958, test acc 0.9544, took 5.39 sec.\n",
      "Epoch 42: Train cost 0.047408439219, Train acc 0.985, val acc 0.9596, test acc 0.9577, took 5.39 sec.\n",
      "Epoch 43: Train cost 0.0466693937778, Train acc 0.98432, val acc 0.957, test acc 0.9581, took 5.4 sec.\n",
      "Epoch 44: Train cost 0.0430804565549, Train acc 0.98572, val acc 0.9582, test acc 0.9558, took 5.39 sec.\n",
      "Epoch 45: Train cost 0.043748203665, Train acc 0.9857, val acc 0.9563, test acc 0.9516, took 5.39 sec.\n",
      "Epoch 46: Train cost 0.0437583439052, Train acc 0.98594, val acc 0.9557, test acc 0.9549, took 5.4 sec.\n",
      "Epoch 47: Train cost 0.0418261736631, Train acc 0.98578, val acc 0.959, test acc 0.9577, took 5.39 sec.\n",
      "Epoch 48: Train cost 0.0374946445227, Train acc 0.98738, val acc 0.96, test acc 0.9614, took 5.4 sec.\n",
      "Epoch 49: Train cost 0.03518435359, Train acc 0.98832, val acc 0.9585, test acc 0.9579, took 5.39 sec.\n",
      "Epoch 50: Train cost 0.0353211984038, Train acc 0.9881, val acc 0.9595, test acc 0.9583, took 5.39 sec.\n",
      "\n",
      "Total time spent: 275.26 seconds\n",
      "Traing Acc: 0.9881\n",
      "Test Acc: 0.9583\n",
      "Validation Acc: 0.9595\n"
     ]
    }
   ],
   "source": [
    "theano.config.exception_verbosity = 'high'\n",
    "valid_accs, train_accs, test_accs = [], [], []\n",
    "param_outputs, disc_outputs = [], []\n",
    "total_time = 0\n",
    "try:\n",
    "    for n in range(NUM_EPOCHS):\n",
    "        start_time = time.time()\n",
    "        train_cost, train_acc, param_output, disc_output = train_epoch(data['X_train'], data['y_train'])\n",
    "        valid_acc, valid_trainsform = eval_epoch(data['X_valid'], data['y_valid'])\n",
    "        test_acc, test_transform = eval_epoch(data['X_test'], data['y_test'])\n",
    "        valid_accs += [valid_acc]\n",
    "        test_accs += [test_acc]\n",
    "        train_accs += [train_acc]\n",
    "        #import pdb; pdb.set_trace()\n",
    "        \n",
    "        if DISC:\n",
    "            param_outputs = np.append(param_outputs, param_output)\n",
    "            disc_outputs = np.append(disc_outputs, disc_output)\n",
    "        \n",
    "        if (n+1) % 20 == 0:\n",
    "            new_lr = sh_lr.get_value() * 0.7\n",
    "            print \"New LR:\", new_lr\n",
    "            sh_lr.set_value(lasagne.utils.floatX(new_lr))\n",
    "        time_spent = time.time() - start_time\n",
    "        total_time += time_spent\n",
    "        print \"Epoch {0}: Train cost {1}, Train acc {2}, val acc {3}, test acc {4}, took {5:.3} sec.\".format(\n",
    "                n, train_cost, train_acc, valid_acc, test_acc, time_spent)\n",
    "except KeyboardInterrupt:\n",
    "    pass\n",
    "print \"\\nTotal time spent: {0:.5} seconds\\nTraing Acc: {1}\\nTest Acc: {2}\\nValidation Acc: {3}\".format(total_time,\n",
    "                                                                                                         train_acc,\n",
    "                                                                                                         test_acc,\n",
    "                                                                                                         valid_acc)"
   ]
  },
  {
   "cell_type": "markdown",
   "metadata": {},
   "source": [
    "# Plot Results"
   ]
  },
  {
   "cell_type": "code",
   "execution_count": 8,
   "metadata": {
    "collapsed": false
   },
   "outputs": [
    {
     "data": {
      "image/png": "[encoded data removed]",
      "text/plain": [
       "<matplotlib.figure.Figure at 0x7f2f7cda1e10>"
      ]
     },
     "metadata": {},
     "output_type": "display_data"
    }
   ],
   "source": [
    "plt.figure(figsize=(5,5))\n",
    "plt.plot(1-np.array(train_accs), label='Training Error')\n",
    "plt.plot(1-np.array(valid_accs), label='Validation Error')\n",
    "plt.legend(fontsize=20)\n",
    "plt.xlabel('Epoch', fontsize=8)\n",
    "plt.ylabel('Error', fontsize=8)\n",
    "plt.show()"
   ]
  },
  {
   "cell_type": "markdown",
   "metadata": {},
   "source": [
    "# Histograms"
   ]
  },
  {
   "cell_type": "code",
   "execution_count": 9,
   "metadata": {
    "collapsed": false
   },
   "outputs": [
    {
     "ename": "AttributeError",
     "evalue": "'list' object has no attribute 'reshape'",
     "output_type": "error",
     "traceback": [
      "\u001b[0;31m---------------------------------------------------------------------------\u001b[0m",
      "\u001b[0;31mAttributeError\u001b[0m                            Traceback (most recent call last)",
      "\u001b[0;32m<ipython-input-9-69ed8b1bc679>\u001b[0m in \u001b[0;36m<module>\u001b[0;34m()\u001b[0m\n\u001b[1;32m      1\u001b[0m \u001b[0;31m# Histograms\u001b[0m\u001b[0;34m\u001b[0m\u001b[0;34m\u001b[0m\u001b[0m\n\u001b[0;32m----> 2\u001b[0;31m \u001b[0mdense_params\u001b[0m \u001b[0;34m=\u001b[0m \u001b[0mparam_outputs\u001b[0m\u001b[0;34m.\u001b[0m\u001b[0mreshape\u001b[0m\u001b[0;34m(\u001b[0m\u001b[0;34m(\u001b[0m\u001b[0;34m-\u001b[0m\u001b[0;36m1\u001b[0m\u001b[0;34m,\u001b[0m \u001b[0;36m6\u001b[0m\u001b[0;34m)\u001b[0m\u001b[0;34m)\u001b[0m\u001b[0;34m\u001b[0m\u001b[0m\n\u001b[0m\u001b[1;32m      3\u001b[0m \u001b[0mbin_count\u001b[0m \u001b[0;34m=\u001b[0m \u001b[0;36m1000\u001b[0m\u001b[0;34m\u001b[0m\u001b[0m\n\u001b[1;32m      4\u001b[0m \u001b[0mplot_over\u001b[0m \u001b[0;34m=\u001b[0m \u001b[0mFalse\u001b[0m\u001b[0;34m\u001b[0m\u001b[0m\n\u001b[1;32m      5\u001b[0m \u001b[0;34m\u001b[0m\u001b[0m\n",
      "\u001b[0;31mAttributeError\u001b[0m: 'list' object has no attribute 'reshape'"
     ]
    }
   ],
   "source": [
    "# Histograms\n",
    "dense_params = param_outputs.reshape((-1, 6))\n",
    "bin_count = 1000\n",
    "plot_over = False\n",
    "\n",
    "for i in range(0, 6):\n",
    "    dns = dense_params[:, i]\n",
    "    \n",
    "    #PS: Using normed histograms to plot them over\n",
    "    # Theta x Dense\n",
    "    plt.figure()\n",
    "    n, bins, patches = plt.hist(dns, bin_count, normed=plot_over, histtype='stepfilled')\n",
    "    plt.setp(patches, 'facecolor', 'r', 'alpha', 0.55)\n",
    "    if not plot_over:\n",
    "        plt.xlabel(('Theta({0}) - Discrete Output').format(i+1))\n",
    "        plt.ylabel('Frequency (Consider bin size)')\n",
    "        plt.grid(True)\n",
    "        plt.figure()"
   ]
  }
 ],
 "metadata": {
  "anaconda-cloud": {},
  "kernelspec": {
   "display_name": "Python [conda env:theano]",
   "language": "python",
   "name": "conda-env-theano-py"
  },
  "language_info": {
   "codemirror_mode": {
    "name": "ipython",
    "version": 2
   },
   "file_extension": ".py",
   "mimetype": "text/x-python",
   "name": "python",
   "nbconvert_exporter": "python",
   "pygments_lexer": "ipython2",
   "version": "2.7.12"
  }
 },
 "nbformat": 4,
 "nbformat_minor": 1
}
