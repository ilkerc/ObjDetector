{
 "cells": [
  {
   "cell_type": "code",
   "execution_count": 1,
   "metadata": {
    "collapsed": false
   },
   "outputs": [
    {
     "name": "stderr",
     "output_type": "stream",
     "text": [
      "Using gpu device 0: Tesla K40c (CNMeM is enabled with initial size: 69.0% of memory, cuDNN 5105)\n",
      "/home/ilker/anaconda2/envs/theano/lib/python2.7/site-packages/theano/sandbox/cuda/__init__.py:601: UserWarning: Your cuDNN version is more recent than the one Theano officially supports. If you see any problems, try updating Theano or downgrading cuDNN to version 5.\n",
      "  warnings.warn(warn)\n"
     ]
    }
   ],
   "source": [
    "%matplotlib inline\n",
    "import os\n",
    "import time\n",
    "os.environ['THEANO_FLAGS']='device=gpu0'\n",
    "\n",
    "import matplotlib\n",
    "import numpy as np\n",
    "np.random.seed(123)\n",
    "import matplotlib.pyplot as plt\n",
    "import lasagne\n",
    "import theano\n",
    "import theano.tensor as T\n",
    "from DiscreteLayer import DiscreteLayer\n",
    "conv = lasagne.layers.Conv2DLayer\n",
    "pool = lasagne.layers.MaxPool2DLayer\n",
    "NUM_EPOCHS = 500\n",
    "BATCH_SIZE = 256\n",
    "LEARNING_RATE = 0.001\n",
    "DIM = 60\n",
    "NUM_CLASSES = 10\n",
    "mnist_cluttered = \"mnist_cluttered_60x60_6distortions.npz\"\n",
    "#DISC\n",
    "DISC = True\n",
    "MINS = (.3, -.3, -.8, .5, -0.7)\n",
    "MAXS = (1.1, .1, 1.1, .4, 1.1, 1.5)\n",
    "RANGES = (50, 50, 50, 50, 50, 50)"
   ]
  },
  {
   "cell_type": "markdown",
   "metadata": {},
   "source": [
    "#Spatial Transformer Network\n",
    "We use lasagne to classify cluttered MNIST digits using the spatial transformer network introduced in [1]. The spatial Transformer Network applies a learned affine transformation to its input.\n",
    "\n",
    "\n",
    "\n",
    "## Load data\n",
    "We test the spatial transformer network using cluttered MNIST data.\n",
    "\n",
    "**Download the data (41 mb) with:**"
   ]
  },
  {
   "cell_type": "code",
   "execution_count": 2,
   "metadata": {
    "collapsed": false
   },
   "outputs": [],
   "source": [
    "#!wget -N https://s3.amazonaws.com/lasagne/recipes/datasets/mnist_cluttered_60x60_6distortions.npz"
   ]
  },
  {
   "cell_type": "code",
   "execution_count": 3,
   "metadata": {
    "collapsed": false
   },
   "outputs": [
    {
     "name": "stdout",
     "output_type": "stream",
     "text": [
      "Train samples: (50000, 1, 60, 60)\n",
      "Validation samples: (10000, 1, 60, 60)\n",
      "Test samples: (10000, 1, 60, 60)\n"
     ]
    }
   ],
   "source": [
    "def load_data():\n",
    "    data = np.load(mnist_cluttered)\n",
    "    X_train, y_train = data['x_train'], np.argmax(data['y_train'], axis=-1)\n",
    "    X_valid, y_valid = data['x_valid'], np.argmax(data['y_valid'], axis=-1)\n",
    "    X_test, y_test = data['x_test'], np.argmax(data['y_test'], axis=-1)\n",
    "\n",
    "    # reshape for convolutions\n",
    "    X_train = X_train.reshape((X_train.shape[0], 1, DIM, DIM))\n",
    "    X_valid = X_valid.reshape((X_valid.shape[0], 1, DIM, DIM))\n",
    "    X_test = X_test.reshape((X_test.shape[0], 1, DIM, DIM))\n",
    "    \n",
    "    print \"Train samples:\", X_train.shape\n",
    "    print \"Validation samples:\", X_valid.shape\n",
    "    print \"Test samples:\", X_test.shape\n",
    "\n",
    "    return dict(\n",
    "        X_train=lasagne.utils.floatX(X_train),\n",
    "        y_train=y_train.astype('int32'),\n",
    "        X_valid=lasagne.utils.floatX(X_valid),\n",
    "        y_valid=y_valid.astype('int32'),\n",
    "        X_test=lasagne.utils.floatX(X_test),\n",
    "        y_test=y_test.astype('int32'),\n",
    "        num_examples_train=X_train.shape[0],\n",
    "        num_examples_valid=X_valid.shape[0],\n",
    "        num_examples_test=X_test.shape[0],\n",
    "        input_height=X_train.shape[2],\n",
    "        input_width=X_train.shape[3],\n",
    "        output_dim=10,)\n",
    "data = load_data()"
   ]
  },
  {
   "cell_type": "code",
   "execution_count": 4,
   "metadata": {
    "collapsed": false
   },
   "outputs": [
    {
     "data": {
      "image/png": "[encoded data removed]",
      "text/plain": [
       "<matplotlib.figure.Figure at 0x7efdddeeef50>"
      ]
     },
     "metadata": {},
     "output_type": "display_data"
    }
   ],
   "source": [
    "plt.figure(figsize=(7,7))\n",
    "plt.imshow(data['X_train'][2].reshape(DIM, DIM), cmap='gray', interpolation='none')\n",
    "plt.title('Cluttered MNIST', fontsize=20)\n",
    "plt.axis('off')\n",
    "plt.show()"
   ]
  },
  {
   "cell_type": "markdown",
   "metadata": {},
   "source": [
    "# Building the model\n",
    "We use a model where the localization network is a two layer convolution network which operates directly on the image input. The output from the localization network is a 6 dimensional vector specifying the parameters in the affine transformation. \n",
    "\n",
    "The localization feeds into the transformer layer which applies the transformation to the image input. In our setup the transformer layer downsamples the input by a factor 3. \n",
    "\n",
    "Finally a 2 layer convolution layer and 2 fully connected layers calculates the output probabilities. \n",
    "\n",
    "**The model**\n",
    "\n",
    "\n",
    "    Input -> localization_network -> TransformerLayer -> output_network -> predictions\n",
    "       |                                |\n",
    "       >--------------------------------^"
   ]
  },
  {
   "cell_type": "code",
   "execution_count": 5,
   "metadata": {
    "collapsed": false
   },
   "outputs": [
    {
     "name": "stdout",
     "output_type": "stream",
     "text": [
      "Using Discret. Layer\n",
      "Transformer network output shape:  (None, 1, 20, 20)\n"
     ]
    }
   ],
   "source": [
    "def build_model(input_width, input_height, output_dim, mins, maxs, ranges,\n",
    "                batch_size=BATCH_SIZE, withdisc=True):\n",
    "    ini = lasagne.init.HeUniform()\n",
    "    l_in = lasagne.layers.InputLayer(shape=(None, 1, input_width, input_height),)\n",
    "\n",
    "    # Localization network\n",
    "    b = np.zeros((2, 3), dtype=theano.config.floatX)\n",
    "    b[0, 0] = 1\n",
    "    b[1, 1] = 1\n",
    "    b = b.flatten()\n",
    "    loc_l1 = pool(l_in, pool_size=(2, 2))\n",
    "    loc_l2 = conv(\n",
    "        loc_l1, num_filters=20, filter_size=(5, 5), W=ini)\n",
    "    loc_l3 = pool(loc_l2, pool_size=(2, 2))\n",
    "    loc_l4 = conv(loc_l3, num_filters=20, filter_size=(5, 5), W=ini)\n",
    "    loc_l5 = lasagne.layers.DenseLayer(\n",
    "        loc_l4, num_units=50, W=lasagne.init.HeUniform('relu'))\n",
    "    loc_out = lasagne.layers.DenseLayer(\n",
    "        loc_l5, num_units=6, b=b, W=lasagne.init.Constant(0.0), \n",
    "        nonlinearity=lasagne.nonlinearities.identity, name='param_regressor')\n",
    "    \n",
    "    if withdisc:\n",
    "        l_dis = DiscreteLayer(loc_out, mins, maxs, ranges, name='disclayer')\n",
    "        print(\"Using Discret. Layer\")\n",
    "    else:\n",
    "        l_dis = loc_out\n",
    "        Print(\"No Disc. Layer\")\n",
    "    \n",
    "    # Transformer network\n",
    "    l_trans1 = lasagne.layers.TransformerLayer(l_in, l_dis, downsample_factor=3.0)\n",
    "    print \"Transformer network output shape: \", l_trans1.output_shape\n",
    "    \n",
    "    # Classification network\n",
    "    class_l1 = conv(\n",
    "        l_trans1,\n",
    "        num_filters=32,\n",
    "        filter_size=(3, 3),\n",
    "        nonlinearity=lasagne.nonlinearities.rectify,\n",
    "        W=ini,\n",
    "    )\n",
    "    class_l2 = pool(class_l1, pool_size=(2, 2))\n",
    "    class_l3 = conv(\n",
    "        class_l2,\n",
    "        num_filters=32,\n",
    "        filter_size=(3, 3),\n",
    "        nonlinearity=lasagne.nonlinearities.rectify,\n",
    "        W=ini,\n",
    "    )\n",
    "    class_l4 = pool(class_l3, pool_size=(2, 2))\n",
    "    class_l5 = lasagne.layers.DenseLayer(\n",
    "        class_l4,\n",
    "        num_units=256,\n",
    "        nonlinearity=lasagne.nonlinearities.rectify,\n",
    "        W=ini,\n",
    "    )\n",
    "\n",
    "    l_out = lasagne.layers.DenseLayer(\n",
    "        class_l5,\n",
    "        num_units=output_dim,\n",
    "        nonlinearity=lasagne.nonlinearities.softmax,\n",
    "        W=ini,\n",
    "    )\n",
    "\n",
    "    return l_out, l_trans1\n",
    "\n",
    "model, l_transform = build_model(DIM, DIM, NUM_CLASSES, MINS, MAXS, RANGES, withdisc=DISC)\n",
    "model_params = lasagne.layers.get_all_params(model, trainable=True)"
   ]
  },
  {
   "cell_type": "code",
   "execution_count": 6,
   "metadata": {
    "collapsed": false
   },
   "outputs": [],
   "source": [
    "X = T.tensor4(dtype=theano.config.floatX)\n",
    "y = T.ivector()\n",
    "\n",
    "## Layer History\n",
    "l_disc = next(l for l in lasagne.layers.get_all_layers(model) if l.name is 'disclayer')\n",
    "l_paramreg = next(l for l in lasagne.layers.get_all_layers(model) if l.name is 'param_regressor')\n",
    "\n",
    "l_disc_output, l_paramreg_output = lasagne.layers.get_output([l_disc, l_paramreg], X, deterministic=False)\n",
    "## Layer History\n",
    "\n",
    "# training output\n",
    "output_train = lasagne.layers.get_output(model, X, deterministic=False)\n",
    "\n",
    "# evaluation output. Also includes output of transform for plotting\n",
    "output_eval, transform_eval = lasagne.layers.get_output([model, l_transform], X, deterministic=True)\n",
    "\n",
    "sh_lr = theano.shared(lasagne.utils.floatX(LEARNING_RATE))\n",
    "cost = T.mean(T.nnet.categorical_crossentropy(output_train, y))\n",
    "updates = lasagne.updates.adam(cost, model_params, learning_rate=sh_lr)\n",
    "\n",
    "train = theano.function([X, y], [cost, output_train, l_disc_output, l_paramreg_output], updates=updates)\n",
    "eval = theano.function([X], [output_eval, transform_eval])"
   ]
  },
  {
   "cell_type": "code",
   "execution_count": 7,
   "metadata": {
    "collapsed": false
   },
   "outputs": [],
   "source": [
    "def train_epoch(X, y):\n",
    "    # History Keeping\n",
    "    param_output = []\n",
    "    disc_output = []\n",
    "    # History\n",
    "    num_samples = X.shape[0]\n",
    "    num_batches = int(np.ceil(num_samples / float(BATCH_SIZE)))\n",
    "    costs = []\n",
    "    correct = 0\n",
    "    for i in range(num_batches):\n",
    "        idx = range(i*BATCH_SIZE, np.minimum((i+1)*BATCH_SIZE, num_samples))\n",
    "        X_batch = X[idx]\n",
    "        y_batch = y[idx]\n",
    "        cost_batch, output_train, l_disc_output, l_paramreg_output = train(X_batch, y_batch)\n",
    "        param_output = np.append(param_output, l_paramreg_output)\n",
    "        disc_output = np.append(disc_output, l_disc_output)\n",
    "        costs += [cost_batch]\n",
    "        preds = np.argmax(output_train, axis=-1)\n",
    "        correct += np.sum(y_batch == preds)\n",
    "        \n",
    "    return np.mean(costs), correct / float(num_samples), param_output, disc_output\n",
    "\n",
    "\n",
    "def eval_epoch(X, y):\n",
    "    output_eval, transform_eval = eval(X)\n",
    "    preds = np.argmax(output_eval, axis=-1)\n",
    "    acc = np.mean(preds == y)\n",
    "    return acc, transform_eval"
   ]
  },
  {
   "cell_type": "markdown",
   "metadata": {},
   "source": [
    "# Training"
   ]
  },
  {
   "cell_type": "code",
   "execution_count": 8,
   "metadata": {
    "collapsed": false
   },
   "outputs": [
    {
     "name": "stdout",
     "output_type": "stream",
     "text": [
      "(3, 1, 60, 60)\n"
     ]
    }
   ],
   "source": [
    "print data['X_train'][0:3].shape"
   ]
  },
  {
   "cell_type": "code",
   "execution_count": 9,
   "metadata": {
    "collapsed": false,
    "scrolled": true
   },
   "outputs": [
    {
     "ename": "IndexError",
     "evalue": "tuple index out of range\nApply node that caused the error: DiscOP{mins=(0.3, -0.3, -0.8, 0.5, -0.7), maxs=(1.1, 0.1, 1.1, 0.4, 1.1, 1.5), ranges=(50, 50, 50, 50, 50, 50)}(HostFromGpu.0)\nToposort index: 151\nInputs types: [TensorType(float32, matrix)]\nInputs shapes: [(256, 6)]\nInputs strides: [(24, 4)]\nInputs values: ['not shown']\nInputs type_num: [11]\nOutputs clients: [[Reshape{2}(DiscOP{mins=(0.3, -0.3, -0.8, 0.5, -0.7), maxs=(1.1, 0.1, 1.1, 0.4, 1.1, 1.5), ranges=(50, 50, 50, 50, 50, 50)}.0, MakeVector{dtype='int64'}.0), Shape_i{0}(DiscOP{mins=(0.3, -0.3, -0.8, 0.5, -0.7), maxs=(1.1, 0.1, 1.1, 0.4, 1.1, 1.5), ranges=(50, 50, 50, 50, 50, 50)}.0), Shape_i{1}(DiscOP{mins=(0.3, -0.3, -0.8, 0.5, -0.7), maxs=(1.1, 0.1, 1.1, 0.4, 1.1, 1.5), ranges=(50, 50, 50, 50, 50, 50)}.0), 'output']]\n\nBacktrace when the node is created(use Theano flag traceback.limit=N to make it longer):\n  File \"/home/ilker/anaconda2/envs/theano/lib/python2.7/site-packages/ipykernel/ipkernel.py\", line 196, in do_execute\n    res = shell.run_cell(code, store_history=store_history, silent=silent)\n  File \"/home/ilker/anaconda2/envs/theano/lib/python2.7/site-packages/ipykernel/zmqshell.py\", line 501, in run_cell\n    return super(ZMQInteractiveShell, self).run_cell(*args, **kwargs)\n  File \"/home/ilker/anaconda2/envs/theano/lib/python2.7/site-packages/IPython/core/interactiveshell.py\", line 2717, in run_cell\n    interactivity=interactivity, compiler=compiler, result=result)\n  File \"/home/ilker/anaconda2/envs/theano/lib/python2.7/site-packages/IPython/core/interactiveshell.py\", line 2821, in run_ast_nodes\n    if self.run_code(code, result):\n  File \"/home/ilker/anaconda2/envs/theano/lib/python2.7/site-packages/IPython/core/interactiveshell.py\", line 2881, in run_code\n    exec(code_obj, self.user_global_ns, self.user_ns)\n  File \"<ipython-input-6-a3cf72fa4d3e>\", line 8, in <module>\n    l_disc_output, l_paramreg_output = lasagne.layers.get_output([l_disc, l_paramreg], X, deterministic=False)\n  File \"/home/ilker/anaconda2/envs/theano/lib/python2.7/site-packages/lasagne/layers/helper.py\", line 191, in get_output\n    all_outputs[layer] = layer.get_output_for(layer_inputs, **kwargs)\n  File \"DiscreteLayer.py\", line 13, in get_output_for\n    return self.op(theta)\n\nDebugprint of the apply node: \nDiscOP{mins=(0.3, -0.3, -0.8, 0.5, -0.7), maxs=(1.1, 0.1, 1.1, 0.4, 1.1, 1.5), ranges=(50, 50, 50, 50, 50, 50)} [id A] <TensorType(float32, matrix)> ''   \n |HostFromGpu [id B] <TensorType(float32, matrix)> ''   \n   |GpuElemwise{Add}[(0, 0)] [id C] <CudaNdarrayType(float32, matrix)> ''   \n     |GpuDot22 [id D] <CudaNdarrayType(float32, matrix)> ''   \n     | |GpuElemwise{Composite{(i0 * (i1 + Abs(i1)))},no_inplace} [id E] <CudaNdarrayType(float32, matrix)> ''   \n     | | |CudaNdarrayConstant{[[ 0.5]]} [id F] <CudaNdarrayType(float32, (True, True))>\n     | | |GpuElemwise{Add}[(0, 0)] [id G] <CudaNdarrayType(float32, matrix)> ''   \n     | |   |GpuDot22 [id H] <CudaNdarrayType(float32, matrix)> ''   \n     | |   | |GpuReshape{2} [id I] <CudaNdarrayType(float32, matrix)> ''   \n     | |   | | |GpuElemwise{Composite{(i0 * (i1 + Abs(i1)))},no_inplace} [id J] <CudaNdarrayType(float32, 4D)> ''   \n     | |   | | | |CudaNdarrayConstant{[[[[ 0.5]]]]} [id K] <CudaNdarrayType(float32, (True, True, True, True))>\n     | |   | | | |GpuElemwise{Add}[(0, 0)] [id L] <CudaNdarrayType(float32, 4D)> ''   \n     | |   | | |   |GpuDnnConv{algo='small', inplace=True} [id M] <CudaNdarrayType(float32, 4D)> ''   \n     | |   | | |   | |GpuContiguous [id N] <CudaNdarrayType(float32, 4D)> ''   \n     | |   | | |   | | |GpuDnnPool{mode='max'} [id O] <CudaNdarrayType(float32, 4D)> ''   \n     | |   | | |   | |   |GpuContiguous [id P] <CudaNdarrayType(float32, 4D)> ''   \n     | |   | | |   | |   | |GpuElemwise{Composite{(i0 * (i1 + Abs(i1)))},no_inplace} [id Q] <CudaNdarrayType(float32, 4D)> ''   \n     | |   | | |   | |   |   |CudaNdarrayConstant{[[[[ 0.5]]]]} [id K] <CudaNdarrayType(float32, (True, True, True, True))>\n     | |   | | |   | |   |   |GpuElemwise{Add}[(0, 0)] [id R] <CudaNdarrayType(float32, 4D)> ''   \n     | |   | | |   | |   |     |GpuDnnConv{algo='small', inplace=True} [id S] <CudaNdarrayType(float32, 4D)> ''   \n     | |   | | |   | |   |     | |GpuContiguous [id T] <CudaNdarrayType(float32, 4D)> ''   \n     | |   | | |   | |   |     | | |GpuDnnPool{mode='max'} [id U] <CudaNdarrayType(float32, 4D)> ''   \n     | |   | | |   | |   |     | |   |GpuContiguous [id V] <CudaNdarrayType(float32, 4D)> ''   \n     | |   | | |   | |   |     | |   | |GpuFromHost [id W] <CudaNdarrayType(float32, 4D)> ''   \n     | |   | | |   | |   |     | |   |   |<TensorType(float32, 4D)> [id X] <TensorType(float32, 4D)>\n     | |   | | |   | |   |     | |   |TensorConstant{(2,) of 2} [id Y] <TensorType(int64, vector)>\n     | |   | | |   | |   |     | |   |TensorConstant{(2,) of 2} [id Y] <TensorType(int64, vector)>\n     | |   | | |   | |   |     | |   |TensorConstant{(2,) of 0} [id Z] <TensorType(int64, vector)>\n     | |   | | |   | |   |     | |GpuContiguous [id BA] <CudaNdarrayType(float32, (False, True, False, False))> ''   \n     | |   | | |   | |   |     | | |W [id BB] <CudaNdarrayType(float32, (False, True, False, False))>\n     | |   | | |   | |   |     | |GpuAllocEmpty [id BC] <CudaNdarrayType(float32, 4D)> ''   \n     | |   | | |   | |   |     | | |Shape_i{0} [id BD] <TensorType(int64, scalar)> ''   \n     | |   | | |   | |   |     | | | |<TensorType(float32, 4D)> [id X] <TensorType(float32, 4D)>\n     | |   | | |   | |   |     | | |Shape_i{0} [id BE] <TensorType(int64, scalar)> ''   \n     | |   | | |   | |   |     | | | |W [id BB] <CudaNdarrayType(float32, (False, True, False, False))>\n     | |   | | |   | |   |     | | |Elemwise{Composite{((i0 - (((i1 - i2) * i3) + i2)) + i2)}}[(0, 0)] [id BF] <TensorType(int64, scalar)> ''   \n     | |   | | |   | |   |     | | | |Elemwise{int_div,no_inplace} [id BG] <TensorType(int64, scalar)> ''   \n     | |   | | |   | |   |     | | | | |Shape_i{2} [id BH] <TensorType(int64, scalar)> ''   \n     | |   | | |   | |   |     | | | | | |<TensorType(float32, 4D)> [id X] <TensorType(float32, 4D)>\n     | |   | | |   | |   |     | | | | |TensorConstant{2} [id BI] <TensorType(int8, scalar)>\n     | |   | | |   | |   |     | | | |Shape_i{2} [id BJ] <TensorType(int64, scalar)> ''   \n     | |   | | |   | |   |     | | | | |W [id BB] <CudaNdarrayType(float32, (False, True, False, False))>\n     | |   | | |   | |   |     | | | |TensorConstant{1} [id BK] <TensorType(int8, scalar)>\n     | |   | | |   | |   |     | | | |TensorConstant{1} [id BL] <TensorType(int64, scalar)>\n     | |   | | |   | |   |     | | |Elemwise{Composite{((i0 - (((i1 - i2) * i3) + i2)) + i2)}}[(0, 0)] [id BM] <TensorType(int64, scalar)> ''   \n     | |   | | |   | |   |     | |   |Elemwise{int_div,no_inplace} [id BN] <TensorType(int64, scalar)> ''   \n     | |   | | |   | |   |     | |   | |Shape_i{3} [id BO] <TensorType(int64, scalar)> ''   \n     | |   | | |   | |   |     | |   | | |<TensorType(float32, 4D)> [id X] <TensorType(float32, 4D)>\n     | |   | | |   | |   |     | |   | |TensorConstant{2} [id BI] <TensorType(int8, scalar)>\n     | |   | | |   | |   |     | |   |Shape_i{3} [id BP] <TensorType(int64, scalar)> ''   \n     | |   | | |   | |   |     | |   | |W [id BB] <CudaNdarrayType(float32, (False, True, False, False))>\n     | |   | | |   | |   |     | |   |TensorConstant{1} [id BK] <TensorType(int8, scalar)>\n     | |   | | |   | |   |     | |   |TensorConstant{1} [id BL] <TensorType(int64, scalar)>\n     | |   | | |   | |   |     | |GpuDnnConvDesc{border_mode='valid', subsample=(1, 1), conv_mode='conv', precision='float32'} [id BQ] <CDataType{cudnnConvolutionDescriptor_t}> ''   \n     | |   | | |   | |   |     | | |MakeVector{dtype='int64'} [id BR] <TensorType(int64, vector)> ''   \n     | |   | | |   | |   |     | | | |Shape_i{0} [id BD] <TensorType(int64, scalar)> ''   \n     | |   | | |   | |   |     | | | |Shape_i{1} [id BS] <TensorType(int64, scalar)> ''   \n     | |   | | |   | |   |     | | | | |<TensorType(float32, 4D)> [id X] <TensorType(float32, 4D)>\n     | |   | | |   | |   |     | | | |Elemwise{int_div,no_inplace} [id BG] <TensorType(int64, scalar)> ''   \n     | |   | | |   | |   |     | | | |Elemwise{int_div,no_inplace} [id BN] <TensorType(int64, scalar)> ''   \n     | |   | | |   | |   |     | | |MakeVector{dtype='int64'} [id BT] <TensorType(int64, vector)> ''   \n     | |   | | |   | |   |     | |   |Shape_i{0} [id BE] <TensorType(int64, scalar)> ''   \n     | |   | | |   | |   |     | |   |TensorConstant{1} [id BL] <TensorType(int64, scalar)>\n     | |   | | |   | |   |     | |   |Shape_i{2} [id BJ] <TensorType(int64, scalar)> ''   \n     | |   | | |   | |   |     | |   |Shape_i{3} [id BP] <TensorType(int64, scalar)> ''   \n     | |   | | |   | |   |     | |Constant{1.0} [id BU] <float32>\n     | |   | | |   | |   |     | |Constant{0.0} [id BV] <float32>\n     | |   | | |   | |   |     |GpuDimShuffle{x,0,x,x} [id BW] <CudaNdarrayType(float32, (True, False, True, True))> ''   \n     | |   | | |   | |   |       |b [id BX] <CudaNdarrayType(float32, vector)>\n     | |   | | |   | |   |TensorConstant{(2,) of 2} [id Y] <TensorType(int64, vector)>\n     | |   | | |   | |   |TensorConstant{(2,) of 2} [id Y] <TensorType(int64, vector)>\n     | |   | | |   | |   |TensorConstant{(2,) of 0} [id Z] <TensorType(int64, vector)>\n     | |   | | |   | |GpuContiguous [id BY] <CudaNdarrayType(float32, 4D)> ''   \n     | |   | | |   | | |W [id BZ] <CudaNdarrayType(float32, 4D)>\n     | |   | | |   | |GpuAllocEmpty [id CA] <CudaNdarrayType(float32, 4D)> ''   \n     | |   | | |   | | |Shape_i{0} [id BD] <TensorType(int64, scalar)> ''   \n     | |   | | |   | | |Shape_i{0} [id CB] <TensorType(int64, scalar)> ''   \n     | |   | | |   | | | |W [id BZ] <CudaNdarrayType(float32, 4D)>\n     | |   | | |   | | |Elemwise{Composite{((i0 - (((i1 - i2) * i3) + i2)) + i2)}} [id CC] <TensorType(int64, scalar)> ''   \n     | |   | | |   | | | |TensorConstant{13} [id CD] <TensorType(int64, scalar)>\n     | |   | | |   | | | |Shape_i{2} [id CE] <TensorType(int64, scalar)> ''   \n     | |   | | |   | | | | |W [id BZ] <CudaNdarrayType(float32, 4D)>\n     | |   | | |   | | | |TensorConstant{1} [id BK] <TensorType(int8, scalar)>\n     | |   | | |   | | | |TensorConstant{1} [id BL] <TensorType(int64, scalar)>\n     | |   | | |   | | |Elemwise{Composite{((i0 - (((i1 - i2) * i3) + i2)) + i2)}} [id CF] <TensorType(int64, scalar)> ''   \n     | |   | | |   | |   |TensorConstant{13} [id CD] <TensorType(int64, scalar)>\n     | |   | | |   | |   |Shape_i{3} [id CG] <TensorType(int64, scalar)> ''   \n     | |   | | |   | |   | |W [id BZ] <CudaNdarrayType(float32, 4D)>\n     | |   | | |   | |   |TensorConstant{1} [id BK] <TensorType(int8, scalar)>\n     | |   | | |   | |   |TensorConstant{1} [id BL] <TensorType(int64, scalar)>\n     | |   | | |   | |GpuDnnConvDesc{border_mode='valid', subsample=(1, 1), conv_mode='conv', precision='float32'} [id CH] <CDataType{cudnnConvolutionDescriptor_t}> ''   \n     | |   | | |   | | |MakeVector{dtype='int64'} [id CI] <TensorType(int64, vector)> ''   \n     | |   | | |   | | | |Shape_i{0} [id BD] <TensorType(int64, scalar)> ''   \n     | |   | | |   | | | |TensorConstant{20} [id CJ] <TensorType(int64, scalar)>\n     | |   | | |   | | | |TensorConstant{13} [id CD] <TensorType(int64, scalar)>\n     | |   | | |   | | | |TensorConstant{13} [id CD] <TensorType(int64, scalar)>\n     | |   | | |   | | |MakeVector{dtype='int64'} [id CK] <TensorType(int64, vector)> ''   \n     | |   | | |   | |   |Shape_i{0} [id CB] <TensorType(int64, scalar)> ''   \n     | |   | | |   | |   |Shape_i{1} [id CL] <TensorType(int64, scalar)> ''   \n     | |   | | |   | |   | |W [id BZ] <CudaNdarrayType(float32, 4D)>\n     | |   | | |   | |   |Shape_i{2} [id CE] <TensorType(int64, scalar)> ''   \n     | |   | | |   | |   |Shape_i{3} [id CG] <TensorType(int64, scalar)> ''   \n     | |   | | |   | |Constant{1.0} [id BU] <float32>\n     | |   | | |   | |Constant{0.0} [id BV] <float32>\n     | |   | | |   |GpuDimShuffle{x,0,x,x} [id CM] <CudaNdarrayType(float32, (True, False, True, True))> ''   \n     | |   | | |     |b [id CN] <CudaNdarrayType(float32, vector)>\n     | |   | | |MakeVector{dtype='int64'} [id CO] <TensorType(int64, vector)> ''   \n     | |   | |   |Shape_i{0} [id BD] <TensorType(int64, scalar)> ''   \n     | |   | |   |TensorConstant{-1} [id CP] <TensorType(int64, scalar)>\n     | |   | |W [id CQ] <CudaNdarrayType(float32, matrix)>\n     | |   |GpuDimShuffle{x,0} [id CR] <CudaNdarrayType(float32, row)> ''   \n     | |     |b [id CS] <CudaNdarrayType(float32, vector)>\n     | |param_regressor.W [id CT] <CudaNdarrayType(float32, matrix)>\n     |GpuDimShuffle{x,0} [id CU] <CudaNdarrayType(float32, row)> ''   \n       |param_regressor.b [id CV] <CudaNdarrayType(float32, vector)>\n\nStorage map footprint:\n - GpuContiguous.0, Shape: (256, 20, 26, 26), ElemSize: 4 Byte(s), TotalSize: 13844480 Byte(s)\n - GpuElemwise{Add}[(0, 0)].0, Shape: (256, 20, 26, 26), ElemSize: 4 Byte(s), TotalSize: 13844480 Byte(s)\n - <TensorType(float32, 4D)>, Input, Shape: (256, 1, 60, 60), ElemSize: 4 Byte(s), TotalSize: 3686400 Byte(s)\n - GpuFromHost.0, Shape: (256, 1, 60, 60), ElemSize: 4 Byte(s), TotalSize: 3686400 Byte(s)\n - GpuContiguous.0, Shape: (256, 20, 13, 13), ElemSize: 4 Byte(s), TotalSize: 3461120 Byte(s)\n - GpuReshape{2}.0, Shape: (256, 1620), ElemSize: 4 Byte(s), TotalSize: 1658880 Byte(s)\n - GpuElemwise{Add}[(0, 0)].0, Shape: (256, 20, 9, 9), ElemSize: 4 Byte(s), TotalSize: 1658880 Byte(s)\n - GpuContiguous.0, Shape: (256, 1, 30, 30), ElemSize: 4 Byte(s), TotalSize: 921600 Byte(s)\n - <CudaNdarrayType(float32, matrix)>, Shared Input, Shape: (1620, 50), ElemSize: 4 Byte(s), TotalSize: 324000 Byte(s)\n - W, Shared Input, Shape: (1620, 50), ElemSize: 4 Byte(s), TotalSize: 324000 Byte(s)\n - <CudaNdarrayType(float32, matrix)>, Shared Input, Shape: (1620, 50), ElemSize: 4 Byte(s), TotalSize: 324000 Byte(s)\n - <CudaNdarrayType(float32, matrix)>, Shared Input, Shape: (288, 256), ElemSize: 4 Byte(s), TotalSize: 294912 Byte(s)\n - <CudaNdarrayType(float32, matrix)>, Shared Input, Shape: (288, 256), ElemSize: 4 Byte(s), TotalSize: 294912 Byte(s)\n - W, Shared Input, Shape: (288, 256), ElemSize: 4 Byte(s), TotalSize: 294912 Byte(s)\n - GpuElemwise{Add}[(0, 0)].0, Shape: (256, 50), ElemSize: 4 Byte(s), TotalSize: 51200 Byte(s)\n - GpuElemwise{Composite{(i0 * (i1 + Abs(i1)))},no_inplace}.0, Shape: (256, 50), ElemSize: 4 Byte(s), TotalSize: 51200 Byte(s)\n - GpuContiguous.0, Shape: (20, 20, 5, 5), ElemSize: 4 Byte(s), TotalSize: 40000 Byte(s)\n - W, Shared Input, Shape: (20, 20, 5, 5), ElemSize: 4 Byte(s), TotalSize: 40000 Byte(s)\n - <CudaNdarrayType(float32, 4D)>, Shared Input, Shape: (20, 20, 5, 5), ElemSize: 4 Byte(s), TotalSize: 40000 Byte(s)\n - <CudaNdarrayType(float32, 4D)>, Shared Input, Shape: (20, 20, 5, 5), ElemSize: 4 Byte(s), TotalSize: 40000 Byte(s)\n - <CudaNdarrayType(float32, 4D)>, Shared Input, Shape: (32, 32, 3, 3), ElemSize: 4 Byte(s), TotalSize: 36864 Byte(s)\n - W, Shared Input, Shape: (32, 32, 3, 3), ElemSize: 4 Byte(s), TotalSize: 36864 Byte(s)\n - <CudaNdarrayType(float32, 4D)>, Shared Input, Shape: (32, 32, 3, 3), ElemSize: 4 Byte(s), TotalSize: 36864 Byte(s)\n - <CudaNdarrayType(float32, matrix)>, Shared Input, Shape: (256, 10), ElemSize: 4 Byte(s), TotalSize: 10240 Byte(s)\n - W, Shared Input, Shape: (256, 10), ElemSize: 4 Byte(s), TotalSize: 10240 Byte(s)\n - <CudaNdarrayType(float32, matrix)>, Shared Input, Shape: (256, 10), ElemSize: 4 Byte(s), TotalSize: 10240 Byte(s)\n - HostFromGpu.0, Shape: (256, 6), ElemSize: 4 Byte(s), TotalSize: 6144 Byte(s)\n - <CudaNdarrayType(float32, (False, True, False, False))>, Shared Input, Shape: (20, 1, 5, 5), ElemSize: 4 Byte(s), TotalSize: 2000 Byte(s)\n - <CudaNdarrayType(float32, (False, True, False, False))>, Shared Input, Shape: (20, 1, 5, 5), ElemSize: 4 Byte(s), TotalSize: 2000 Byte(s)\n - W, Shared Input, Shape: (20, 1, 5, 5), ElemSize: 4 Byte(s), TotalSize: 2000 Byte(s)\n - <CudaNdarrayType(float32, matrix)>, Shared Input, Shape: (50, 6), ElemSize: 4 Byte(s), TotalSize: 1200 Byte(s)\n - param_regressor.W, Shared Input, Shape: (50, 6), ElemSize: 4 Byte(s), TotalSize: 1200 Byte(s)\n - <CudaNdarrayType(float32, matrix)>, Shared Input, Shape: (50, 6), ElemSize: 4 Byte(s), TotalSize: 1200 Byte(s)\n - W, Shared Input, Shape: (32, 1, 3, 3), ElemSize: 4 Byte(s), TotalSize: 1152 Byte(s)\n - <CudaNdarrayType(float32, (False, True, False, False))>, Shared Input, Shape: (32, 1, 3, 3), ElemSize: 4 Byte(s), TotalSize: 1152 Byte(s)\n - <CudaNdarrayType(float32, (False, True, False, False))>, Shared Input, Shape: (32, 1, 3, 3), ElemSize: 4 Byte(s), TotalSize: 1152 Byte(s)\n - b, Shared Input, Shape: (256,), ElemSize: 4 Byte(s), TotalSize: 1024 Byte(s)\n - <TensorType(int32, vector)>, Input, Shape: (256,), ElemSize: 4 Byte(s), TotalSize: 1024 Byte(s)\n - <CudaNdarrayType(float32, vector)>, Shared Input, Shape: (256,), ElemSize: 4 Byte(s), TotalSize: 1024 Byte(s)\n - <CudaNdarrayType(float32, vector)>, Shared Input, Shape: (256,), ElemSize: 4 Byte(s), TotalSize: 1024 Byte(s)\n - b, Shared Input, Shape: (50,), ElemSize: 4 Byte(s), TotalSize: 200 Byte(s)\n - <CudaNdarrayType(float32, vector)>, Shared Input, Shape: (50,), ElemSize: 4 Byte(s), TotalSize: 200 Byte(s)\n - <CudaNdarrayType(float32, vector)>, Shared Input, Shape: (50,), ElemSize: 4 Byte(s), TotalSize: 200 Byte(s)\n - <CudaNdarrayType(float32, vector)>, Shared Input, Shape: (32,), ElemSize: 4 Byte(s), TotalSize: 128 Byte(s)\n - <CudaNdarrayType(float32, vector)>, Shared Input, Shape: (32,), ElemSize: 4 Byte(s), TotalSize: 128 Byte(s)\n - b, Shared Input, Shape: (32,), ElemSize: 4 Byte(s), TotalSize: 128 Byte(s)\n - <CudaNdarrayType(float32, vector)>, Shared Input, Shape: (32,), ElemSize: 4 Byte(s), TotalSize: 128 Byte(s)\n - b, Shared Input, Shape: (32,), ElemSize: 4 Byte(s), TotalSize: 128 Byte(s)\n - <CudaNdarrayType(float32, vector)>, Shared Input, Shape: (32,), ElemSize: 4 Byte(s), TotalSize: 128 Byte(s)\n - b, Shared Input, Shape: (20,), ElemSize: 4 Byte(s), TotalSize: 80 Byte(s)\n - <CudaNdarrayType(float32, vector)>, Shared Input, Shape: (20,), ElemSize: 4 Byte(s), TotalSize: 80 Byte(s)\n - b, Shared Input, Shape: (20,), ElemSize: 4 Byte(s), TotalSize: 80 Byte(s)\n - <CudaNdarrayType(float32, vector)>, Shared Input, Shape: (20,), ElemSize: 4 Byte(s), TotalSize: 80 Byte(s)\n - <CudaNdarrayType(float32, vector)>, Shared Input, Shape: (20,), ElemSize: 4 Byte(s), TotalSize: 80 Byte(s)\n - <CudaNdarrayType(float32, vector)>, Shared Input, Shape: (20,), ElemSize: 4 Byte(s), TotalSize: 80 Byte(s)\n - b, Shared Input, Shape: (10,), ElemSize: 4 Byte(s), TotalSize: 40 Byte(s)\n - <CudaNdarrayType(float32, vector)>, Shared Input, Shape: (10,), ElemSize: 4 Byte(s), TotalSize: 40 Byte(s)\n - <CudaNdarrayType(float32, vector)>, Shared Input, Shape: (10,), ElemSize: 4 Byte(s), TotalSize: 40 Byte(s)\n - TensorConstant{(4,) of 1}, Shape: (4,), ElemSize: 8 Byte(s), TotalSize: 32 Byte(s)\n - MakeVector{dtype='int64'}.0, Shape: (4,), ElemSize: 8 Byte(s), TotalSize: 32 Byte(s)\n - MakeVector{dtype='int64'}.0, Shape: (4,), ElemSize: 8 Byte(s), TotalSize: 32 Byte(s)\n - param_regressor.b, Shared Input, Shape: (6,), ElemSize: 4 Byte(s), TotalSize: 24 Byte(s)\n - <CudaNdarrayType(float32, vector)>, Shared Input, Shape: (6,), ElemSize: 4 Byte(s), TotalSize: 24 Byte(s)\n - <CudaNdarrayType(float32, vector)>, Shared Input, Shape: (6,), ElemSize: 4 Byte(s), TotalSize: 24 Byte(s)\n - TensorConstant{(2,) of 2}, Shape: (2,), ElemSize: 8 Byte(s), TotalSize: 16 Byte(s)\n - TensorConstant{[ 1 -1]}, Shape: (2,), ElemSize: 8 Byte(s), TotalSize: 16 Byte(s)\n - MakeVector{dtype='int64'}.0, Shape: (2,), ElemSize: 8 Byte(s), TotalSize: 16 Byte(s)\n - TensorConstant{(2,) of 0}, Shape: (2,), ElemSize: 8 Byte(s), TotalSize: 16 Byte(s)\n - TensorConstant{6}, Shape: (), ElemSize: 8 Byte(s), TotalSize: 8.0 Byte(s)\n - Shape_i{1}.0, Shape: (), ElemSize: 8 Byte(s), TotalSize: 8.0 Byte(s)\n - Shape_i{1}.0, Shape: (), ElemSize: 8 Byte(s), TotalSize: 8.0 Byte(s)\n - Shape_i{2}.0, Shape: (), ElemSize: 8 Byte(s), TotalSize: 8.0 Byte(s)\n - Shape_i{3}.0, Shape: (), ElemSize: 8 Byte(s), TotalSize: 8.0 Byte(s)\n - Constant{1}, Shape: (), ElemSize: 8 Byte(s), TotalSize: 8.0 Byte(s)\n - Constant{0}, Shape: (), ElemSize: 8 Byte(s), TotalSize: 8.0 Byte(s)\n - Shape_i{2}.0, Shape: (), ElemSize: 8 Byte(s), TotalSize: 8.0 Byte(s)\n - Shape_i{0}.0, Shape: (), ElemSize: 8 Byte(s), TotalSize: 8.0 Byte(s)\n - TensorConstant{-6}, Shape: (), ElemSize: 8 Byte(s), TotalSize: 8.0 Byte(s)\n - Shape_i{2}.0, Shape: (), ElemSize: 8 Byte(s), TotalSize: 8.0 Byte(s)\n - TensorConstant{0.333333333333}, Shape: (), ElemSize: 8 Byte(s), TotalSize: 8.0 Byte(s)\n - TensorConstant{13}, Shape: (), ElemSize: 8 Byte(s), TotalSize: 8.0 Byte(s)\n - Shape_i{3}.0, Shape: (), ElemSize: 8 Byte(s), TotalSize: 8.0 Byte(s)\n - Shape_i{3}.0, Shape: (), ElemSize: 8 Byte(s), TotalSize: 8.0 Byte(s)\n - TensorConstant{1}, Shape: (), ElemSize: 8 Byte(s), TotalSize: 8.0 Byte(s)\n - TensorConstant{32}, Shape: (), ElemSize: 8 Byte(s), TotalSize: 8.0 Byte(s)\n - TensorConstant{(1,) of -1}, Shape: (1,), ElemSize: 8 Byte(s), TotalSize: 8 Byte(s)\n - TensorConstant{-1}, Shape: (), ElemSize: 8 Byte(s), TotalSize: 8.0 Byte(s)\n - TensorConstant{4}, Shape: (), ElemSize: 8 Byte(s), TotalSize: 8.0 Byte(s)\n - TensorConstant{9}, Shape: (), ElemSize: 8 Byte(s), TotalSize: 8.0 Byte(s)\n - TensorConstant{3}, Shape: (), ElemSize: 8 Byte(s), TotalSize: 8.0 Byte(s)\n - TensorConstant{0}, Shape: (), ElemSize: 8 Byte(s), TotalSize: 8.0 Byte(s)\n - TensorConstant{2}, Shape: (), ElemSize: 8 Byte(s), TotalSize: 8.0 Byte(s)\n - TensorConstant{20}, Shape: (), ElemSize: 8 Byte(s), TotalSize: 8.0 Byte(s)\n - TensorConstant{-3}, Shape: (), ElemSize: 8 Byte(s), TotalSize: 8.0 Byte(s)\n - TensorConstant{(1,) of 2.0}, Shape: (1,), ElemSize: 4 Byte(s), TotalSize: 4 Byte(s)\n - CudaNdarrayConstant{[[[[ 0.10000002]]]]}, Shape: (1, 1, 1, 1), ElemSize: 4 Byte(s), TotalSize: 4 Byte(s)\n - CudaNdarrayConstant{[  9.99999994e-09]}, Shape: (1,), ElemSize: 4 Byte(s), TotalSize: 4 Byte(s)\n - CudaNdarrayConstant{[[ 0.00099999]]}, Shape: (1, 1), ElemSize: 4 Byte(s), TotalSize: 4 Byte(s)\n - CudaNdarrayConstant{[ 0.99900001]}, Shape: (1,), ElemSize: 4 Byte(s), TotalSize: 4 Byte(s)\n - CudaNdarrayConstant{[[[[ 0.5]]]]}, Shape: (1, 1, 1, 1), ElemSize: 4 Byte(s), TotalSize: 4 Byte(s)\n - CudaNdarrayConstant{[ 0.00099999]}, Shape: (1,), ElemSize: 4 Byte(s), TotalSize: 4 Byte(s)\n - CudaNdarrayConstant{[[[[ 0.00099999]]]]}, Shape: (1, 1, 1, 1), ElemSize: 4 Byte(s), TotalSize: 4 Byte(s)\n - TensorConstant{(1,) of 0.5}, Shape: (1,), ElemSize: 4 Byte(s), TotalSize: 4 Byte(s)\n - <CudaNdarrayType(float32, scalar)>, Shared Input, Shape: (), ElemSize: 4 Byte(s), TotalSize: 4.0 Byte(s)\n - TensorConstant{0.100000023842}, Shape: (), ElemSize: 4 Byte(s), TotalSize: 4.0 Byte(s)\n - <CudaNdarrayType(float32, scalar)>, Shared Input, Shape: (), ElemSize: 4 Byte(s), TotalSize: 4.0 Byte(s)\n - TensorConstant{0.0}, Shape: (), ElemSize: 4 Byte(s), TotalSize: 4.0 Byte(s)\n - CudaNdarrayConstant{[[[[ 0.99900001]]]]}, Shape: (1, 1, 1, 1), ElemSize: 4 Byte(s), TotalSize: 4 Byte(s)\n - CudaNdarrayConstant{[[[[ 0.89999998]]]]}, Shape: (1, 1, 1, 1), ElemSize: 4 Byte(s), TotalSize: 4 Byte(s)\n - Constant{1.0}, Shape: (), ElemSize: 4 Byte(s), TotalSize: 4.0 Byte(s)\n - Constant{0.0}, Shape: (), ElemSize: 4 Byte(s), TotalSize: 4.0 Byte(s)\n - CudaNdarrayConstant{[[  9.99999994e-09]]}, Shape: (1, 1), ElemSize: 4 Byte(s), TotalSize: 4 Byte(s)\n - TensorConstant{1.0}, Shape: (), ElemSize: 4 Byte(s), TotalSize: 4.0 Byte(s)\n - CudaNdarrayConstant{[[ 0.99900001]]}, Shape: (1, 1), ElemSize: 4 Byte(s), TotalSize: 4 Byte(s)\n - CudaNdarrayConstant{[ 0.10000002]}, Shape: (1,), ElemSize: 4 Byte(s), TotalSize: 4 Byte(s)\n - TensorConstant{0.5}, Shape: (), ElemSize: 4 Byte(s), TotalSize: 4.0 Byte(s)\n - CudaNdarrayConstant{0.899999976158}, Shape: (), ElemSize: 4 Byte(s), TotalSize: 4.0 Byte(s)\n - TensorConstant{(1,) of 1.0}, Shape: (1,), ElemSize: 4 Byte(s), TotalSize: 4 Byte(s)\n - CudaNdarrayConstant{[[ 0.89999998]]}, Shape: (1, 1), ElemSize: 4 Byte(s), TotalSize: 4 Byte(s)\n - CudaNdarrayConstant{[[ 0.5]]}, Shape: (1, 1), ElemSize: 4 Byte(s), TotalSize: 4 Byte(s)\n - TensorConstant{(1,) of -1.0}, Shape: (1,), ElemSize: 4 Byte(s), TotalSize: 4 Byte(s)\n - CudaNdarrayConstant{[ 0.89999998]}, Shape: (1,), ElemSize: 4 Byte(s), TotalSize: 4 Byte(s)\n - CudaNdarrayConstant{[[[[  9.99999994e-09]]]]}, Shape: (1, 1, 1, 1), ElemSize: 4 Byte(s), TotalSize: 4 Byte(s)\n - CudaNdarrayConstant{0.999000012875}, Shape: (), ElemSize: 4 Byte(s), TotalSize: 4.0 Byte(s)\n - CudaNdarrayConstant{[ 0.5]}, Shape: (1,), ElemSize: 4 Byte(s), TotalSize: 4 Byte(s)\n - CudaNdarrayConstant{[[[ 0.]]]}, Shape: (1, 1, 1), ElemSize: 4 Byte(s), TotalSize: 4 Byte(s)\n - CudaNdarrayConstant{1.0}, Shape: (), ElemSize: 4 Byte(s), TotalSize: 4.0 Byte(s)\n - TensorConstant{(1, 1) of 1.0}, Shape: (1, 1), ElemSize: 4 Byte(s), TotalSize: 4 Byte(s)\n - Constant{0.1}, Shape: (), ElemSize: 4 Byte(s), TotalSize: 4.0 Byte(s)\n - TensorConstant{0}, Shape: (), ElemSize: 1 Byte(s), TotalSize: 1.0 Byte(s)\n - TensorConstant{(1,) of -1}, Shape: (1,), ElemSize: 1 Byte(s), TotalSize: 1 Byte(s)\n - TensorConstant{1}, Shape: (), ElemSize: 1 Byte(s), TotalSize: 1.0 Byte(s)\n - TensorConstant{2}, Shape: (), ElemSize: 1 Byte(s), TotalSize: 1.0 Byte(s)\n - TensorConstant{(1,) of 1}, Shape: (1,), ElemSize: 1 Byte(s), TotalSize: 1 Byte(s)\n - TensorConstant{-1}, Shape: (), ElemSize: 1 Byte(s), TotalSize: 1.0 Byte(s)\n TotalSize: 45008538.0 Byte(s) 0.042 GB\n TotalSize inputs: 5824002.0 Byte(s) 0.005 GB\n\n",
     "output_type": "error",
     "traceback": [
      "\u001b[0;31m----------------------------------------------------------------------\u001b[0m",
      "\u001b[0;31mIndexError\u001b[0m                           Traceback (most recent call last)",
      "\u001b[0;32m<ipython-input-9-71b1f1fdbae3>\u001b[0m in \u001b[0;36m<module>\u001b[0;34m()\u001b[0m\n\u001b[1;32m      5\u001b[0m     \u001b[0;32mfor\u001b[0m \u001b[0mn\u001b[0m \u001b[0;32min\u001b[0m \u001b[0mrange\u001b[0m\u001b[0;34m(\u001b[0m\u001b[0mNUM_EPOCHS\u001b[0m\u001b[0;34m)\u001b[0m\u001b[0;34m:\u001b[0m\u001b[0;34m\u001b[0m\u001b[0m\n\u001b[1;32m      6\u001b[0m         \u001b[0mstart_time\u001b[0m \u001b[0;34m=\u001b[0m \u001b[0mtime\u001b[0m\u001b[0;34m.\u001b[0m\u001b[0mtime\u001b[0m\u001b[0;34m(\u001b[0m\u001b[0;34m)\u001b[0m\u001b[0;34m\u001b[0m\u001b[0m\n\u001b[0;32m----> 7\u001b[0;31m         \u001b[0mtrain_cost\u001b[0m\u001b[0;34m,\u001b[0m \u001b[0mtrain_acc\u001b[0m\u001b[0;34m,\u001b[0m \u001b[0mparam_output\u001b[0m\u001b[0;34m,\u001b[0m \u001b[0mdisc_output\u001b[0m \u001b[0;34m=\u001b[0m \u001b[0mtrain_epoch\u001b[0m\u001b[0;34m(\u001b[0m\u001b[0mdata\u001b[0m\u001b[0;34m[\u001b[0m\u001b[0;34m'X_train'\u001b[0m\u001b[0;34m]\u001b[0m\u001b[0;34m,\u001b[0m \u001b[0mdata\u001b[0m\u001b[0;34m[\u001b[0m\u001b[0;34m'y_train'\u001b[0m\u001b[0;34m]\u001b[0m\u001b[0;34m)\u001b[0m\u001b[0;34m\u001b[0m\u001b[0m\n\u001b[0m\u001b[1;32m      8\u001b[0m         \u001b[0mvalid_acc\u001b[0m\u001b[0;34m,\u001b[0m \u001b[0mvalid_trainsform\u001b[0m \u001b[0;34m=\u001b[0m \u001b[0meval_epoch\u001b[0m\u001b[0;34m(\u001b[0m\u001b[0mdata\u001b[0m\u001b[0;34m[\u001b[0m\u001b[0;34m'X_valid'\u001b[0m\u001b[0;34m]\u001b[0m\u001b[0;34m,\u001b[0m \u001b[0mdata\u001b[0m\u001b[0;34m[\u001b[0m\u001b[0;34m'y_valid'\u001b[0m\u001b[0;34m]\u001b[0m\u001b[0;34m)\u001b[0m\u001b[0;34m\u001b[0m\u001b[0m\n\u001b[1;32m      9\u001b[0m         \u001b[0mtest_acc\u001b[0m\u001b[0;34m,\u001b[0m \u001b[0mtest_transform\u001b[0m \u001b[0;34m=\u001b[0m \u001b[0meval_epoch\u001b[0m\u001b[0;34m(\u001b[0m\u001b[0mdata\u001b[0m\u001b[0;34m[\u001b[0m\u001b[0;34m'X_test'\u001b[0m\u001b[0;34m]\u001b[0m\u001b[0;34m,\u001b[0m \u001b[0mdata\u001b[0m\u001b[0;34m[\u001b[0m\u001b[0;34m'y_test'\u001b[0m\u001b[0;34m]\u001b[0m\u001b[0;34m)\u001b[0m\u001b[0;34m\u001b[0m\u001b[0m\n",
      "\u001b[0;32m<ipython-input-7-5bb775d1820b>\u001b[0m in \u001b[0;36mtrain_epoch\u001b[0;34m(X, y)\u001b[0m\n\u001b[1;32m     12\u001b[0m         \u001b[0mX_batch\u001b[0m \u001b[0;34m=\u001b[0m \u001b[0mX\u001b[0m\u001b[0;34m[\u001b[0m\u001b[0midx\u001b[0m\u001b[0;34m]\u001b[0m\u001b[0;34m\u001b[0m\u001b[0m\n\u001b[1;32m     13\u001b[0m         \u001b[0my_batch\u001b[0m \u001b[0;34m=\u001b[0m \u001b[0my\u001b[0m\u001b[0;34m[\u001b[0m\u001b[0midx\u001b[0m\u001b[0;34m]\u001b[0m\u001b[0;34m\u001b[0m\u001b[0m\n\u001b[0;32m---> 14\u001b[0;31m         \u001b[0mcost_batch\u001b[0m\u001b[0;34m,\u001b[0m \u001b[0moutput_train\u001b[0m\u001b[0;34m,\u001b[0m \u001b[0ml_disc_output\u001b[0m\u001b[0;34m,\u001b[0m \u001b[0ml_paramreg_output\u001b[0m \u001b[0;34m=\u001b[0m \u001b[0mtrain\u001b[0m\u001b[0;34m(\u001b[0m\u001b[0mX_batch\u001b[0m\u001b[0;34m,\u001b[0m \u001b[0my_batch\u001b[0m\u001b[0;34m)\u001b[0m\u001b[0;34m\u001b[0m\u001b[0m\n\u001b[0m\u001b[1;32m     15\u001b[0m         \u001b[0mparam_output\u001b[0m \u001b[0;34m=\u001b[0m \u001b[0mnp\u001b[0m\u001b[0;34m.\u001b[0m\u001b[0mappend\u001b[0m\u001b[0;34m(\u001b[0m\u001b[0mparam_output\u001b[0m\u001b[0;34m,\u001b[0m \u001b[0ml_paramreg_output\u001b[0m\u001b[0;34m)\u001b[0m\u001b[0;34m\u001b[0m\u001b[0m\n\u001b[1;32m     16\u001b[0m         \u001b[0mdisc_output\u001b[0m \u001b[0;34m=\u001b[0m \u001b[0mnp\u001b[0m\u001b[0;34m.\u001b[0m\u001b[0mappend\u001b[0m\u001b[0;34m(\u001b[0m\u001b[0mdisc_output\u001b[0m\u001b[0;34m,\u001b[0m \u001b[0ml_disc_output\u001b[0m\u001b[0;34m)\u001b[0m\u001b[0;34m\u001b[0m\u001b[0m\n",
      "\u001b[0;32m/home/ilker/anaconda2/envs/theano/lib/python2.7/site-packages/theano/compile/function_module.pyc\u001b[0m in \u001b[0;36m__call__\u001b[0;34m(self, *args, **kwargs)\u001b[0m\n\u001b[1;32m    873\u001b[0m                     \u001b[0mnode\u001b[0m\u001b[0;34m=\u001b[0m\u001b[0mself\u001b[0m\u001b[0;34m.\u001b[0m\u001b[0mfn\u001b[0m\u001b[0;34m.\u001b[0m\u001b[0mnodes\u001b[0m\u001b[0;34m[\u001b[0m\u001b[0mself\u001b[0m\u001b[0;34m.\u001b[0m\u001b[0mfn\u001b[0m\u001b[0;34m.\u001b[0m\u001b[0mposition_of_error\u001b[0m\u001b[0;34m]\u001b[0m\u001b[0;34m,\u001b[0m\u001b[0;34m\u001b[0m\u001b[0m\n\u001b[1;32m    874\u001b[0m                     \u001b[0mthunk\u001b[0m\u001b[0;34m=\u001b[0m\u001b[0mthunk\u001b[0m\u001b[0;34m,\u001b[0m\u001b[0;34m\u001b[0m\u001b[0m\n\u001b[0;32m--> 875\u001b[0;31m                     storage_map=getattr(self.fn, 'storage_map', None))\n\u001b[0m\u001b[1;32m    876\u001b[0m             \u001b[0;32melse\u001b[0m\u001b[0;34m:\u001b[0m\u001b[0;34m\u001b[0m\u001b[0m\n\u001b[1;32m    877\u001b[0m                 \u001b[0;31m# old-style linkers raise their own exceptions\u001b[0m\u001b[0;34m\u001b[0m\u001b[0;34m\u001b[0m\u001b[0m\n",
      "\u001b[0;32m/home/ilker/anaconda2/envs/theano/lib/python2.7/site-packages/theano/gof/link.pyc\u001b[0m in \u001b[0;36mraise_with_op\u001b[0;34m(node, thunk, exc_info, storage_map)\u001b[0m\n\u001b[1;32m    323\u001b[0m         \u001b[0;31m# extra long error message in that case.\u001b[0m\u001b[0;34m\u001b[0m\u001b[0;34m\u001b[0m\u001b[0m\n\u001b[1;32m    324\u001b[0m         \u001b[0;32mpass\u001b[0m\u001b[0;34m\u001b[0m\u001b[0m\n\u001b[0;32m--> 325\u001b[0;31m     \u001b[0mreraise\u001b[0m\u001b[0;34m(\u001b[0m\u001b[0mexc_type\u001b[0m\u001b[0;34m,\u001b[0m \u001b[0mexc_value\u001b[0m\u001b[0;34m,\u001b[0m \u001b[0mexc_trace\u001b[0m\u001b[0;34m)\u001b[0m\u001b[0;34m\u001b[0m\u001b[0m\n\u001b[0m\u001b[1;32m    326\u001b[0m \u001b[0;34m\u001b[0m\u001b[0m\n\u001b[1;32m    327\u001b[0m \u001b[0;34m\u001b[0m\u001b[0m\n",
      "\u001b[0;32m/home/ilker/anaconda2/envs/theano/lib/python2.7/site-packages/theano/compile/function_module.pyc\u001b[0m in \u001b[0;36m__call__\u001b[0;34m(self, *args, **kwargs)\u001b[0m\n\u001b[1;32m    860\u001b[0m         \u001b[0;32mtry\u001b[0m\u001b[0;34m:\u001b[0m\u001b[0;34m\u001b[0m\u001b[0m\n\u001b[1;32m    861\u001b[0m             \u001b[0moutputs\u001b[0m \u001b[0;34m=\u001b[0m\u001b[0;31m\\\u001b[0m\u001b[0;34m\u001b[0m\u001b[0m\n\u001b[0;32m--> 862\u001b[0;31m                 \u001b[0mself\u001b[0m\u001b[0;34m.\u001b[0m\u001b[0mfn\u001b[0m\u001b[0;34m(\u001b[0m\u001b[0;34m)\u001b[0m \u001b[0;32mif\u001b[0m \u001b[0moutput_subset\u001b[0m \u001b[0;32mis\u001b[0m \u001b[0mNone\u001b[0m \u001b[0;32melse\u001b[0m\u001b[0;31m\\\u001b[0m\u001b[0;34m\u001b[0m\u001b[0m\n\u001b[0m\u001b[1;32m    863\u001b[0m                 \u001b[0mself\u001b[0m\u001b[0;34m.\u001b[0m\u001b[0mfn\u001b[0m\u001b[0;34m(\u001b[0m\u001b[0moutput_subset\u001b[0m\u001b[0;34m=\u001b[0m\u001b[0moutput_subset\u001b[0m\u001b[0;34m)\u001b[0m\u001b[0;34m\u001b[0m\u001b[0m\n\u001b[1;32m    864\u001b[0m         \u001b[0;32mexcept\u001b[0m \u001b[0mException\u001b[0m\u001b[0;34m:\u001b[0m\u001b[0;34m\u001b[0m\u001b[0m\n",
      "\u001b[0;32m/home/ilker/anaconda2/envs/theano/lib/python2.7/site-packages/theano/gof/op.pyc\u001b[0m in \u001b[0;36mrval\u001b[0;34m(p, i, o, n)\u001b[0m\n\u001b[1;32m    906\u001b[0m             \u001b[0;31m# default arguments are stored in the closure of `rval`\u001b[0m\u001b[0;34m\u001b[0m\u001b[0;34m\u001b[0m\u001b[0m\n\u001b[1;32m    907\u001b[0m             \u001b[0;32mdef\u001b[0m \u001b[0mrval\u001b[0m\u001b[0;34m(\u001b[0m\u001b[0mp\u001b[0m\u001b[0;34m=\u001b[0m\u001b[0mp\u001b[0m\u001b[0;34m,\u001b[0m \u001b[0mi\u001b[0m\u001b[0;34m=\u001b[0m\u001b[0mnode_input_storage\u001b[0m\u001b[0;34m,\u001b[0m \u001b[0mo\u001b[0m\u001b[0;34m=\u001b[0m\u001b[0mnode_output_storage\u001b[0m\u001b[0;34m,\u001b[0m \u001b[0mn\u001b[0m\u001b[0;34m=\u001b[0m\u001b[0mnode\u001b[0m\u001b[0;34m)\u001b[0m\u001b[0;34m:\u001b[0m\u001b[0;34m\u001b[0m\u001b[0m\n\u001b[0;32m--> 908\u001b[0;31m                 \u001b[0mr\u001b[0m \u001b[0;34m=\u001b[0m \u001b[0mp\u001b[0m\u001b[0;34m(\u001b[0m\u001b[0mn\u001b[0m\u001b[0;34m,\u001b[0m \u001b[0;34m[\u001b[0m\u001b[0mx\u001b[0m\u001b[0;34m[\u001b[0m\u001b[0;36m0\u001b[0m\u001b[0;34m]\u001b[0m \u001b[0;32mfor\u001b[0m \u001b[0mx\u001b[0m \u001b[0;32min\u001b[0m \u001b[0mi\u001b[0m\u001b[0;34m]\u001b[0m\u001b[0;34m,\u001b[0m \u001b[0mo\u001b[0m\u001b[0;34m)\u001b[0m\u001b[0;34m\u001b[0m\u001b[0m\n\u001b[0m\u001b[1;32m    909\u001b[0m                 \u001b[0;32mfor\u001b[0m \u001b[0mo\u001b[0m \u001b[0;32min\u001b[0m \u001b[0mnode\u001b[0m\u001b[0;34m.\u001b[0m\u001b[0moutputs\u001b[0m\u001b[0;34m:\u001b[0m\u001b[0;34m\u001b[0m\u001b[0m\n\u001b[1;32m    910\u001b[0m                     \u001b[0mcompute_map\u001b[0m\u001b[0;34m[\u001b[0m\u001b[0mo\u001b[0m\u001b[0;34m]\u001b[0m\u001b[0;34m[\u001b[0m\u001b[0;36m0\u001b[0m\u001b[0;34m]\u001b[0m \u001b[0;34m=\u001b[0m \u001b[0mTrue\u001b[0m\u001b[0;34m\u001b[0m\u001b[0m\n",
      "\u001b[0;32m/home/ilker/bap/ObjDetector/helpers/DiscOP.pyc\u001b[0m in \u001b[0;36mperform\u001b[0;34m(self, node, inputs, output_storage)\u001b[0m\n\u001b[1;32m     25\u001b[0m \u001b[0;34m\u001b[0m\u001b[0m\n\u001b[1;32m     26\u001b[0m         \u001b[0;31m# Calculation\u001b[0m\u001b[0;34m\u001b[0m\u001b[0;34m\u001b[0m\u001b[0m\n\u001b[0;32m---> 27\u001b[0;31m         \u001b[0mnew_theta\u001b[0m \u001b[0;34m=\u001b[0m \u001b[0mself\u001b[0m\u001b[0;34m.\u001b[0m\u001b[0mdiscrete_theta\u001b[0m\u001b[0;34m(\u001b[0m\u001b[0mx\u001b[0m\u001b[0;34m)\u001b[0m\u001b[0;34m\u001b[0m\u001b[0m\n\u001b[0m\u001b[1;32m     28\u001b[0m \u001b[0;34m\u001b[0m\u001b[0m\n\u001b[1;32m     29\u001b[0m         \u001b[0;31m# Output Setting\u001b[0m\u001b[0;34m\u001b[0m\u001b[0;34m\u001b[0m\u001b[0m\n",
      "\u001b[0;32m/home/ilker/bap/ObjDetector/helpers/DiscOP.pyc\u001b[0m in \u001b[0;36mdiscrete_theta\u001b[0;34m(self, theta)\u001b[0m\n\u001b[1;32m     43\u001b[0m         \u001b[0mt_4\u001b[0m \u001b[0;34m=\u001b[0m \u001b[0mnp\u001b[0m\u001b[0;34m.\u001b[0m\u001b[0mtile\u001b[0m\u001b[0;34m(\u001b[0m\u001b[0mnp\u001b[0m\u001b[0;34m.\u001b[0m\u001b[0mlinspace\u001b[0m\u001b[0;34m(\u001b[0m\u001b[0mself\u001b[0m\u001b[0;34m.\u001b[0m\u001b[0mmins\u001b[0m\u001b[0;34m[\u001b[0m\u001b[0;36m3\u001b[0m\u001b[0;34m]\u001b[0m\u001b[0;34m,\u001b[0m \u001b[0mself\u001b[0m\u001b[0;34m.\u001b[0m\u001b[0mmaxs\u001b[0m\u001b[0;34m[\u001b[0m\u001b[0;36m3\u001b[0m\u001b[0;34m]\u001b[0m\u001b[0;34m,\u001b[0m \u001b[0mself\u001b[0m\u001b[0;34m.\u001b[0m\u001b[0mranges\u001b[0m\u001b[0;34m[\u001b[0m\u001b[0;36m3\u001b[0m\u001b[0;34m]\u001b[0m\u001b[0;34m)\u001b[0m\u001b[0;34m,\u001b[0m \u001b[0mbatch_size\u001b[0m\u001b[0;34m)\u001b[0m\u001b[0;34m.\u001b[0m\u001b[0mreshape\u001b[0m\u001b[0;34m(\u001b[0m\u001b[0;34m(\u001b[0m\u001b[0mbatch_size\u001b[0m\u001b[0;34m,\u001b[0m \u001b[0;34m-\u001b[0m\u001b[0;36m1\u001b[0m\u001b[0;34m)\u001b[0m\u001b[0;34m)\u001b[0m\u001b[0;34m\u001b[0m\u001b[0m\n\u001b[1;32m     44\u001b[0m         \u001b[0mt_5\u001b[0m \u001b[0;34m=\u001b[0m \u001b[0mnp\u001b[0m\u001b[0;34m.\u001b[0m\u001b[0mtile\u001b[0m\u001b[0;34m(\u001b[0m\u001b[0mnp\u001b[0m\u001b[0;34m.\u001b[0m\u001b[0mlinspace\u001b[0m\u001b[0;34m(\u001b[0m\u001b[0mself\u001b[0m\u001b[0;34m.\u001b[0m\u001b[0mmins\u001b[0m\u001b[0;34m[\u001b[0m\u001b[0;36m4\u001b[0m\u001b[0;34m]\u001b[0m\u001b[0;34m,\u001b[0m \u001b[0mself\u001b[0m\u001b[0;34m.\u001b[0m\u001b[0mmaxs\u001b[0m\u001b[0;34m[\u001b[0m\u001b[0;36m4\u001b[0m\u001b[0;34m]\u001b[0m\u001b[0;34m,\u001b[0m \u001b[0mself\u001b[0m\u001b[0;34m.\u001b[0m\u001b[0mranges\u001b[0m\u001b[0;34m[\u001b[0m\u001b[0;36m4\u001b[0m\u001b[0;34m]\u001b[0m\u001b[0;34m)\u001b[0m\u001b[0;34m,\u001b[0m \u001b[0mbatch_size\u001b[0m\u001b[0;34m)\u001b[0m\u001b[0;34m.\u001b[0m\u001b[0mreshape\u001b[0m\u001b[0;34m(\u001b[0m\u001b[0;34m(\u001b[0m\u001b[0mbatch_size\u001b[0m\u001b[0;34m,\u001b[0m \u001b[0;34m-\u001b[0m\u001b[0;36m1\u001b[0m\u001b[0;34m)\u001b[0m\u001b[0;34m)\u001b[0m\u001b[0;34m\u001b[0m\u001b[0m\n\u001b[0;32m---> 45\u001b[0;31m         \u001b[0mt_6\u001b[0m \u001b[0;34m=\u001b[0m \u001b[0mnp\u001b[0m\u001b[0;34m.\u001b[0m\u001b[0mtile\u001b[0m\u001b[0;34m(\u001b[0m\u001b[0mnp\u001b[0m\u001b[0;34m.\u001b[0m\u001b[0mlinspace\u001b[0m\u001b[0;34m(\u001b[0m\u001b[0mself\u001b[0m\u001b[0;34m.\u001b[0m\u001b[0mmins\u001b[0m\u001b[0;34m[\u001b[0m\u001b[0;36m5\u001b[0m\u001b[0;34m]\u001b[0m\u001b[0;34m,\u001b[0m \u001b[0mself\u001b[0m\u001b[0;34m.\u001b[0m\u001b[0mmaxs\u001b[0m\u001b[0;34m[\u001b[0m\u001b[0;36m5\u001b[0m\u001b[0;34m]\u001b[0m\u001b[0;34m,\u001b[0m \u001b[0mself\u001b[0m\u001b[0;34m.\u001b[0m\u001b[0mranges\u001b[0m\u001b[0;34m[\u001b[0m\u001b[0;36m5\u001b[0m\u001b[0;34m]\u001b[0m\u001b[0;34m)\u001b[0m\u001b[0;34m,\u001b[0m \u001b[0mbatch_size\u001b[0m\u001b[0;34m)\u001b[0m\u001b[0;34m.\u001b[0m\u001b[0mreshape\u001b[0m\u001b[0;34m(\u001b[0m\u001b[0;34m(\u001b[0m\u001b[0mbatch_size\u001b[0m\u001b[0;34m,\u001b[0m \u001b[0;34m-\u001b[0m\u001b[0;36m1\u001b[0m\u001b[0;34m)\u001b[0m\u001b[0;34m)\u001b[0m\u001b[0;34m\u001b[0m\u001b[0m\n\u001b[0m\u001b[1;32m     46\u001b[0m \u001b[0;34m\u001b[0m\u001b[0m\n\u001b[1;32m     47\u001b[0m         \u001b[0mt_1_o\u001b[0m \u001b[0;34m=\u001b[0m \u001b[0mnp\u001b[0m\u001b[0;34m.\u001b[0m\u001b[0mexpand_dims\u001b[0m\u001b[0;34m(\u001b[0m\u001b[0mtheta\u001b[0m\u001b[0;34m[\u001b[0m\u001b[0;34m:\u001b[0m\u001b[0;34m,\u001b[0m \u001b[0;36m0\u001b[0m\u001b[0;34m]\u001b[0m\u001b[0;34m,\u001b[0m \u001b[0maxis\u001b[0m\u001b[0;34m=\u001b[0m\u001b[0;36m0\u001b[0m\u001b[0;34m)\u001b[0m\u001b[0;34m\u001b[0m\u001b[0m\n",
      "\u001b[0;31mIndexError\u001b[0m: tuple index out of range\nApply node that caused the error: DiscOP{mins=(0.3, -0.3, -0.8, 0.5, -0.7), maxs=(1.1, 0.1, 1.1, 0.4, 1.1, 1.5), ranges=(50, 50, 50, 50, 50, 50)}(HostFromGpu.0)\nToposort index: 151\nInputs types: [TensorType(float32, matrix)]\nInputs shapes: [(256, 6)]\nInputs strides: [(24, 4)]\nInputs values: ['not shown']\nInputs type_num: [11]\nOutputs clients: [[Reshape{2}(DiscOP{mins=(0.3, -0.3, -0.8, 0.5, -0.7), maxs=(1.1, 0.1, 1.1, 0.4, 1.1, 1.5), ranges=(50, 50, 50, 50, 50, 50)}.0, MakeVector{dtype='int64'}.0), Shape_i{0}(DiscOP{mins=(0.3, -0.3, -0.8, 0.5, -0.7), maxs=(1.1, 0.1, 1.1, 0.4, 1.1, 1.5), ranges=(50, 50, 50, 50, 50, 50)}.0), Shape_i{1}(DiscOP{mins=(0.3, -0.3, -0.8, 0.5, -0.7), maxs=(1.1, 0.1, 1.1, 0.4, 1.1, 1.5), ranges=(50, 50, 50, 50, 50, 50)}.0), 'output']]\n\nBacktrace when the node is created(use Theano flag traceback.limit=N to make it longer):\n  File \"/home/ilker/anaconda2/envs/theano/lib/python2.7/site-packages/ipykernel/ipkernel.py\", line 196, in do_execute\n    res = shell.run_cell(code, store_history=store_history, silent=silent)\n  File \"/home/ilker/anaconda2/envs/theano/lib/python2.7/site-packages/ipykernel/zmqshell.py\", line 501, in run_cell\n    return super(ZMQInteractiveShell, self).run_cell(*args, **kwargs)\n  File \"/home/ilker/anaconda2/envs/theano/lib/python2.7/site-packages/IPython/core/interactiveshell.py\", line 2717, in run_cell\n    interactivity=interactivity, compiler=compiler, result=result)\n  File \"/home/ilker/anaconda2/envs/theano/lib/python2.7/site-packages/IPython/core/interactiveshell.py\", line 2821, in run_ast_nodes\n    if self.run_code(code, result):\n  File \"/home/ilker/anaconda2/envs/theano/lib/python2.7/site-packages/IPython/core/interactiveshell.py\", line 2881, in run_code\n    exec(code_obj, self.user_global_ns, self.user_ns)\n  File \"<ipython-input-6-a3cf72fa4d3e>\", line 8, in <module>\n    l_disc_output, l_paramreg_output = lasagne.layers.get_output([l_disc, l_paramreg], X, deterministic=False)\n  File \"/home/ilker/anaconda2/envs/theano/lib/python2.7/site-packages/lasagne/layers/helper.py\", line 191, in get_output\n    all_outputs[layer] = layer.get_output_for(layer_inputs, **kwargs)\n  File \"DiscreteLayer.py\", line 13, in get_output_for\n    return self.op(theta)\n\nDebugprint of the apply node: \nDiscOP{mins=(0.3, -0.3, -0.8, 0.5, -0.7), maxs=(1.1, 0.1, 1.1, 0.4, 1.1, 1.5), ranges=(50, 50, 50, 50, 50, 50)} [id A] <TensorType(float32, matrix)> ''   \n |HostFromGpu [id B] <TensorType(float32, matrix)> ''   \n   |GpuElemwise{Add}[(0, 0)] [id C] <CudaNdarrayType(float32, matrix)> ''   \n     |GpuDot22 [id D] <CudaNdarrayType(float32, matrix)> ''   \n     | |GpuElemwise{Composite{(i0 * (i1 + Abs(i1)))},no_inplace} [id E] <CudaNdarrayType(float32, matrix)> ''   \n     | | |CudaNdarrayConstant{[[ 0.5]]} [id F] <CudaNdarrayType(float32, (True, True))>\n     | | |GpuElemwise{Add}[(0, 0)] [id G] <CudaNdarrayType(float32, matrix)> ''   \n     | |   |GpuDot22 [id H] <CudaNdarrayType(float32, matrix)> ''   \n     | |   | |GpuReshape{2} [id I] <CudaNdarrayType(float32, matrix)> ''   \n     | |   | | |GpuElemwise{Composite{(i0 * (i1 + Abs(i1)))},no_inplace} [id J] <CudaNdarrayType(float32, 4D)> ''   \n     | |   | | | |CudaNdarrayConstant{[[[[ 0.5]]]]} [id K] <CudaNdarrayType(float32, (True, True, True, True))>\n     | |   | | | |GpuElemwise{Add}[(0, 0)] [id L] <CudaNdarrayType(float32, 4D)> ''   \n     | |   | | |   |GpuDnnConv{algo='small', inplace=True} [id M] <CudaNdarrayType(float32, 4D)> ''   \n     | |   | | |   | |GpuContiguous [id N] <CudaNdarrayType(float32, 4D)> ''   \n     | |   | | |   | | |GpuDnnPool{mode='max'} [id O] <CudaNdarrayType(float32, 4D)> ''   \n     | |   | | |   | |   |GpuContiguous [id P] <CudaNdarrayType(float32, 4D)> ''   \n     | |   | | |   | |   | |GpuElemwise{Composite{(i0 * (i1 + Abs(i1)))},no_inplace} [id Q] <CudaNdarrayType(float32, 4D)> ''   \n     | |   | | |   | |   |   |CudaNdarrayConstant{[[[[ 0.5]]]]} [id K] <CudaNdarrayType(float32, (True, True, True, True))>\n     | |   | | |   | |   |   |GpuElemwise{Add}[(0, 0)] [id R] <CudaNdarrayType(float32, 4D)> ''   \n     | |   | | |   | |   |     |GpuDnnConv{algo='small', inplace=True} [id S] <CudaNdarrayType(float32, 4D)> ''   \n     | |   | | |   | |   |     | |GpuContiguous [id T] <CudaNdarrayType(float32, 4D)> ''   \n     | |   | | |   | |   |     | | |GpuDnnPool{mode='max'} [id U] <CudaNdarrayType(float32, 4D)> ''   \n     | |   | | |   | |   |     | |   |GpuContiguous [id V] <CudaNdarrayType(float32, 4D)> ''   \n     | |   | | |   | |   |     | |   | |GpuFromHost [id W] <CudaNdarrayType(float32, 4D)> ''   \n     | |   | | |   | |   |     | |   |   |<TensorType(float32, 4D)> [id X] <TensorType(float32, 4D)>\n     | |   | | |   | |   |     | |   |TensorConstant{(2,) of 2} [id Y] <TensorType(int64, vector)>\n     | |   | | |   | |   |     | |   |TensorConstant{(2,) of 2} [id Y] <TensorType(int64, vector)>\n     | |   | | |   | |   |     | |   |TensorConstant{(2,) of 0} [id Z] <TensorType(int64, vector)>\n     | |   | | |   | |   |     | |GpuContiguous [id BA] <CudaNdarrayType(float32, (False, True, False, False))> ''   \n     | |   | | |   | |   |     | | |W [id BB] <CudaNdarrayType(float32, (False, True, False, False))>\n     | |   | | |   | |   |     | |GpuAllocEmpty [id BC] <CudaNdarrayType(float32, 4D)> ''   \n     | |   | | |   | |   |     | | |Shape_i{0} [id BD] <TensorType(int64, scalar)> ''   \n     | |   | | |   | |   |     | | | |<TensorType(float32, 4D)> [id X] <TensorType(float32, 4D)>\n     | |   | | |   | |   |     | | |Shape_i{0} [id BE] <TensorType(int64, scalar)> ''   \n     | |   | | |   | |   |     | | | |W [id BB] <CudaNdarrayType(float32, (False, True, False, False))>\n     | |   | | |   | |   |     | | |Elemwise{Composite{((i0 - (((i1 - i2) * i3) + i2)) + i2)}}[(0, 0)] [id BF] <TensorType(int64, scalar)> ''   \n     | |   | | |   | |   |     | | | |Elemwise{int_div,no_inplace} [id BG] <TensorType(int64, scalar)> ''   \n     | |   | | |   | |   |     | | | | |Shape_i{2} [id BH] <TensorType(int64, scalar)> ''   \n     | |   | | |   | |   |     | | | | | |<TensorType(float32, 4D)> [id X] <TensorType(float32, 4D)>\n     | |   | | |   | |   |     | | | | |TensorConstant{2} [id BI] <TensorType(int8, scalar)>\n     | |   | | |   | |   |     | | | |Shape_i{2} [id BJ] <TensorType(int64, scalar)> ''   \n     | |   | | |   | |   |     | | | | |W [id BB] <CudaNdarrayType(float32, (False, True, False, False))>\n     | |   | | |   | |   |     | | | |TensorConstant{1} [id BK] <TensorType(int8, scalar)>\n     | |   | | |   | |   |     | | | |TensorConstant{1} [id BL] <TensorType(int64, scalar)>\n     | |   | | |   | |   |     | | |Elemwise{Composite{((i0 - (((i1 - i2) * i3) + i2)) + i2)}}[(0, 0)] [id BM] <TensorType(int64, scalar)> ''   \n     | |   | | |   | |   |     | |   |Elemwise{int_div,no_inplace} [id BN] <TensorType(int64, scalar)> ''   \n     | |   | | |   | |   |     | |   | |Shape_i{3} [id BO] <TensorType(int64, scalar)> ''   \n     | |   | | |   | |   |     | |   | | |<TensorType(float32, 4D)> [id X] <TensorType(float32, 4D)>\n     | |   | | |   | |   |     | |   | |TensorConstant{2} [id BI] <TensorType(int8, scalar)>\n     | |   | | |   | |   |     | |   |Shape_i{3} [id BP] <TensorType(int64, scalar)> ''   \n     | |   | | |   | |   |     | |   | |W [id BB] <CudaNdarrayType(float32, (False, True, False, False))>\n     | |   | | |   | |   |     | |   |TensorConstant{1} [id BK] <TensorType(int8, scalar)>\n     | |   | | |   | |   |     | |   |TensorConstant{1} [id BL] <TensorType(int64, scalar)>\n     | |   | | |   | |   |     | |GpuDnnConvDesc{border_mode='valid', subsample=(1, 1), conv_mode='conv', precision='float32'} [id BQ] <CDataType{cudnnConvolutionDescriptor_t}> ''   \n     | |   | | |   | |   |     | | |MakeVector{dtype='int64'} [id BR] <TensorType(int64, vector)> ''   \n     | |   | | |   | |   |     | | | |Shape_i{0} [id BD] <TensorType(int64, scalar)> ''   \n     | |   | | |   | |   |     | | | |Shape_i{1} [id BS] <TensorType(int64, scalar)> ''   \n     | |   | | |   | |   |     | | | | |<TensorType(float32, 4D)> [id X] <TensorType(float32, 4D)>\n     | |   | | |   | |   |     | | | |Elemwise{int_div,no_inplace} [id BG] <TensorType(int64, scalar)> ''   \n     | |   | | |   | |   |     | | | |Elemwise{int_div,no_inplace} [id BN] <TensorType(int64, scalar)> ''   \n     | |   | | |   | |   |     | | |MakeVector{dtype='int64'} [id BT] <TensorType(int64, vector)> ''   \n     | |   | | |   | |   |     | |   |Shape_i{0} [id BE] <TensorType(int64, scalar)> ''   \n     | |   | | |   | |   |     | |   |TensorConstant{1} [id BL] <TensorType(int64, scalar)>\n     | |   | | |   | |   |     | |   |Shape_i{2} [id BJ] <TensorType(int64, scalar)> ''   \n     | |   | | |   | |   |     | |   |Shape_i{3} [id BP] <TensorType(int64, scalar)> ''   \n     | |   | | |   | |   |     | |Constant{1.0} [id BU] <float32>\n     | |   | | |   | |   |     | |Constant{0.0} [id BV] <float32>\n     | |   | | |   | |   |     |GpuDimShuffle{x,0,x,x} [id BW] <CudaNdarrayType(float32, (True, False, True, True))> ''   \n     | |   | | |   | |   |       |b [id BX] <CudaNdarrayType(float32, vector)>\n     | |   | | |   | |   |TensorConstant{(2,) of 2} [id Y] <TensorType(int64, vector)>\n     | |   | | |   | |   |TensorConstant{(2,) of 2} [id Y] <TensorType(int64, vector)>\n     | |   | | |   | |   |TensorConstant{(2,) of 0} [id Z] <TensorType(int64, vector)>\n     | |   | | |   | |GpuContiguous [id BY] <CudaNdarrayType(float32, 4D)> ''   \n     | |   | | |   | | |W [id BZ] <CudaNdarrayType(float32, 4D)>\n     | |   | | |   | |GpuAllocEmpty [id CA] <CudaNdarrayType(float32, 4D)> ''   \n     | |   | | |   | | |Shape_i{0} [id BD] <TensorType(int64, scalar)> ''   \n     | |   | | |   | | |Shape_i{0} [id CB] <TensorType(int64, scalar)> ''   \n     | |   | | |   | | | |W [id BZ] <CudaNdarrayType(float32, 4D)>\n     | |   | | |   | | |Elemwise{Composite{((i0 - (((i1 - i2) * i3) + i2)) + i2)}} [id CC] <TensorType(int64, scalar)> ''   \n     | |   | | |   | | | |TensorConstant{13} [id CD] <TensorType(int64, scalar)>\n     | |   | | |   | | | |Shape_i{2} [id CE] <TensorType(int64, scalar)> ''   \n     | |   | | |   | | | | |W [id BZ] <CudaNdarrayType(float32, 4D)>\n     | |   | | |   | | | |TensorConstant{1} [id BK] <TensorType(int8, scalar)>\n     | |   | | |   | | | |TensorConstant{1} [id BL] <TensorType(int64, scalar)>\n     | |   | | |   | | |Elemwise{Composite{((i0 - (((i1 - i2) * i3) + i2)) + i2)}} [id CF] <TensorType(int64, scalar)> ''   \n     | |   | | |   | |   |TensorConstant{13} [id CD] <TensorType(int64, scalar)>\n     | |   | | |   | |   |Shape_i{3} [id CG] <TensorType(int64, scalar)> ''   \n     | |   | | |   | |   | |W [id BZ] <CudaNdarrayType(float32, 4D)>\n     | |   | | |   | |   |TensorConstant{1} [id BK] <TensorType(int8, scalar)>\n     | |   | | |   | |   |TensorConstant{1} [id BL] <TensorType(int64, scalar)>\n     | |   | | |   | |GpuDnnConvDesc{border_mode='valid', subsample=(1, 1), conv_mode='conv', precision='float32'} [id CH] <CDataType{cudnnConvolutionDescriptor_t}> ''   \n     | |   | | |   | | |MakeVector{dtype='int64'} [id CI] <TensorType(int64, vector)> ''   \n     | |   | | |   | | | |Shape_i{0} [id BD] <TensorType(int64, scalar)> ''   \n     | |   | | |   | | | |TensorConstant{20} [id CJ] <TensorType(int64, scalar)>\n     | |   | | |   | | | |TensorConstant{13} [id CD] <TensorType(int64, scalar)>\n     | |   | | |   | | | |TensorConstant{13} [id CD] <TensorType(int64, scalar)>\n     | |   | | |   | | |MakeVector{dtype='int64'} [id CK] <TensorType(int64, vector)> ''   \n     | |   | | |   | |   |Shape_i{0} [id CB] <TensorType(int64, scalar)> ''   \n     | |   | | |   | |   |Shape_i{1} [id CL] <TensorType(int64, scalar)> ''   \n     | |   | | |   | |   | |W [id BZ] <CudaNdarrayType(float32, 4D)>\n     | |   | | |   | |   |Shape_i{2} [id CE] <TensorType(int64, scalar)> ''   \n     | |   | | |   | |   |Shape_i{3} [id CG] <TensorType(int64, scalar)> ''   \n     | |   | | |   | |Constant{1.0} [id BU] <float32>\n     | |   | | |   | |Constant{0.0} [id BV] <float32>\n     | |   | | |   |GpuDimShuffle{x,0,x,x} [id CM] <CudaNdarrayType(float32, (True, False, True, True))> ''   \n     | |   | | |     |b [id CN] <CudaNdarrayType(float32, vector)>\n     | |   | | |MakeVector{dtype='int64'} [id CO] <TensorType(int64, vector)> ''   \n     | |   | |   |Shape_i{0} [id BD] <TensorType(int64, scalar)> ''   \n     | |   | |   |TensorConstant{-1} [id CP] <TensorType(int64, scalar)>\n     | |   | |W [id CQ] <CudaNdarrayType(float32, matrix)>\n     | |   |GpuDimShuffle{x,0} [id CR] <CudaNdarrayType(float32, row)> ''   \n     | |     |b [id CS] <CudaNdarrayType(float32, vector)>\n     | |param_regressor.W [id CT] <CudaNdarrayType(float32, matrix)>\n     |GpuDimShuffle{x,0} [id CU] <CudaNdarrayType(float32, row)> ''   \n       |param_regressor.b [id CV] <CudaNdarrayType(float32, vector)>\n\nStorage map footprint:\n - GpuContiguous.0, Shape: (256, 20, 26, 26), ElemSize: 4 Byte(s), TotalSize: 13844480 Byte(s)\n - GpuElemwise{Add}[(0, 0)].0, Shape: (256, 20, 26, 26), ElemSize: 4 Byte(s), TotalSize: 13844480 Byte(s)\n - <TensorType(float32, 4D)>, Input, Shape: (256, 1, 60, 60), ElemSize: 4 Byte(s), TotalSize: 3686400 Byte(s)\n - GpuFromHost.0, Shape: (256, 1, 60, 60), ElemSize: 4 Byte(s), TotalSize: 3686400 Byte(s)\n - GpuContiguous.0, Shape: (256, 20, 13, 13), ElemSize: 4 Byte(s), TotalSize: 3461120 Byte(s)\n - GpuReshape{2}.0, Shape: (256, 1620), ElemSize: 4 Byte(s), TotalSize: 1658880 Byte(s)\n - GpuElemwise{Add}[(0, 0)].0, Shape: (256, 20, 9, 9), ElemSize: 4 Byte(s), TotalSize: 1658880 Byte(s)\n - GpuContiguous.0, Shape: (256, 1, 30, 30), ElemSize: 4 Byte(s), TotalSize: 921600 Byte(s)\n - <CudaNdarrayType(float32, matrix)>, Shared Input, Shape: (1620, 50), ElemSize: 4 Byte(s), TotalSize: 324000 Byte(s)\n - W, Shared Input, Shape: (1620, 50), ElemSize: 4 Byte(s), TotalSize: 324000 Byte(s)\n - <CudaNdarrayType(float32, matrix)>, Shared Input, Shape: (1620, 50), ElemSize: 4 Byte(s), TotalSize: 324000 Byte(s)\n - <CudaNdarrayType(float32, matrix)>, Shared Input, Shape: (288, 256), ElemSize: 4 Byte(s), TotalSize: 294912 Byte(s)\n - <CudaNdarrayType(float32, matrix)>, Shared Input, Shape: (288, 256), ElemSize: 4 Byte(s), TotalSize: 294912 Byte(s)\n - W, Shared Input, Shape: (288, 256), ElemSize: 4 Byte(s), TotalSize: 294912 Byte(s)\n - GpuElemwise{Add}[(0, 0)].0, Shape: (256, 50), ElemSize: 4 Byte(s), TotalSize: 51200 Byte(s)\n - GpuElemwise{Composite{(i0 * (i1 + Abs(i1)))},no_inplace}.0, Shape: (256, 50), ElemSize: 4 Byte(s), TotalSize: 51200 Byte(s)\n - GpuContiguous.0, Shape: (20, 20, 5, 5), ElemSize: 4 Byte(s), TotalSize: 40000 Byte(s)\n - W, Shared Input, Shape: (20, 20, 5, 5), ElemSize: 4 Byte(s), TotalSize: 40000 Byte(s)\n - <CudaNdarrayType(float32, 4D)>, Shared Input, Shape: (20, 20, 5, 5), ElemSize: 4 Byte(s), TotalSize: 40000 Byte(s)\n - <CudaNdarrayType(float32, 4D)>, Shared Input, Shape: (20, 20, 5, 5), ElemSize: 4 Byte(s), TotalSize: 40000 Byte(s)\n - <CudaNdarrayType(float32, 4D)>, Shared Input, Shape: (32, 32, 3, 3), ElemSize: 4 Byte(s), TotalSize: 36864 Byte(s)\n - W, Shared Input, Shape: (32, 32, 3, 3), ElemSize: 4 Byte(s), TotalSize: 36864 Byte(s)\n - <CudaNdarrayType(float32, 4D)>, Shared Input, Shape: (32, 32, 3, 3), ElemSize: 4 Byte(s), TotalSize: 36864 Byte(s)\n - <CudaNdarrayType(float32, matrix)>, Shared Input, Shape: (256, 10), ElemSize: 4 Byte(s), TotalSize: 10240 Byte(s)\n - W, Shared Input, Shape: (256, 10), ElemSize: 4 Byte(s), TotalSize: 10240 Byte(s)\n - <CudaNdarrayType(float32, matrix)>, Shared Input, Shape: (256, 10), ElemSize: 4 Byte(s), TotalSize: 10240 Byte(s)\n - HostFromGpu.0, Shape: (256, 6), ElemSize: 4 Byte(s), TotalSize: 6144 Byte(s)\n - <CudaNdarrayType(float32, (False, True, False, False))>, Shared Input, Shape: (20, 1, 5, 5), ElemSize: 4 Byte(s), TotalSize: 2000 Byte(s)\n - <CudaNdarrayType(float32, (False, True, False, False))>, Shared Input, Shape: (20, 1, 5, 5), ElemSize: 4 Byte(s), TotalSize: 2000 Byte(s)\n - W, Shared Input, Shape: (20, 1, 5, 5), ElemSize: 4 Byte(s), TotalSize: 2000 Byte(s)\n - <CudaNdarrayType(float32, matrix)>, Shared Input, Shape: (50, 6), ElemSize: 4 Byte(s), TotalSize: 1200 Byte(s)\n - param_regressor.W, Shared Input, Shape: (50, 6), ElemSize: 4 Byte(s), TotalSize: 1200 Byte(s)\n - <CudaNdarrayType(float32, matrix)>, Shared Input, Shape: (50, 6), ElemSize: 4 Byte(s), TotalSize: 1200 Byte(s)\n - W, Shared Input, Shape: (32, 1, 3, 3), ElemSize: 4 Byte(s), TotalSize: 1152 Byte(s)\n - <CudaNdarrayType(float32, (False, True, False, False))>, Shared Input, Shape: (32, 1, 3, 3), ElemSize: 4 Byte(s), TotalSize: 1152 Byte(s)\n - <CudaNdarrayType(float32, (False, True, False, False))>, Shared Input, Shape: (32, 1, 3, 3), ElemSize: 4 Byte(s), TotalSize: 1152 Byte(s)\n - b, Shared Input, Shape: (256,), ElemSize: 4 Byte(s), TotalSize: 1024 Byte(s)\n - <TensorType(int32, vector)>, Input, Shape: (256,), ElemSize: 4 Byte(s), TotalSize: 1024 Byte(s)\n - <CudaNdarrayType(float32, vector)>, Shared Input, Shape: (256,), ElemSize: 4 Byte(s), TotalSize: 1024 Byte(s)\n - <CudaNdarrayType(float32, vector)>, Shared Input, Shape: (256,), ElemSize: 4 Byte(s), TotalSize: 1024 Byte(s)\n - b, Shared Input, Shape: (50,), ElemSize: 4 Byte(s), TotalSize: 200 Byte(s)\n - <CudaNdarrayType(float32, vector)>, Shared Input, Shape: (50,), ElemSize: 4 Byte(s), TotalSize: 200 Byte(s)\n - <CudaNdarrayType(float32, vector)>, Shared Input, Shape: (50,), ElemSize: 4 Byte(s), TotalSize: 200 Byte(s)\n - <CudaNdarrayType(float32, vector)>, Shared Input, Shape: (32,), ElemSize: 4 Byte(s), TotalSize: 128 Byte(s)\n - <CudaNdarrayType(float32, vector)>, Shared Input, Shape: (32,), ElemSize: 4 Byte(s), TotalSize: 128 Byte(s)\n - b, Shared Input, Shape: (32,), ElemSize: 4 Byte(s), TotalSize: 128 Byte(s)\n - <CudaNdarrayType(float32, vector)>, Shared Input, Shape: (32,), ElemSize: 4 Byte(s), TotalSize: 128 Byte(s)\n - b, Shared Input, Shape: (32,), ElemSize: 4 Byte(s), TotalSize: 128 Byte(s)\n - <CudaNdarrayType(float32, vector)>, Shared Input, Shape: (32,), ElemSize: 4 Byte(s), TotalSize: 128 Byte(s)\n - b, Shared Input, Shape: (20,), ElemSize: 4 Byte(s), TotalSize: 80 Byte(s)\n - <CudaNdarrayType(float32, vector)>, Shared Input, Shape: (20,), ElemSize: 4 Byte(s), TotalSize: 80 Byte(s)\n - b, Shared Input, Shape: (20,), ElemSize: 4 Byte(s), TotalSize: 80 Byte(s)\n - <CudaNdarrayType(float32, vector)>, Shared Input, Shape: (20,), ElemSize: 4 Byte(s), TotalSize: 80 Byte(s)\n - <CudaNdarrayType(float32, vector)>, Shared Input, Shape: (20,), ElemSize: 4 Byte(s), TotalSize: 80 Byte(s)\n - <CudaNdarrayType(float32, vector)>, Shared Input, Shape: (20,), ElemSize: 4 Byte(s), TotalSize: 80 Byte(s)\n - b, Shared Input, Shape: (10,), ElemSize: 4 Byte(s), TotalSize: 40 Byte(s)\n - <CudaNdarrayType(float32, vector)>, Shared Input, Shape: (10,), ElemSize: 4 Byte(s), TotalSize: 40 Byte(s)\n - <CudaNdarrayType(float32, vector)>, Shared Input, Shape: (10,), ElemSize: 4 Byte(s), TotalSize: 40 Byte(s)\n - TensorConstant{(4,) of 1}, Shape: (4,), ElemSize: 8 Byte(s), TotalSize: 32 Byte(s)\n - MakeVector{dtype='int64'}.0, Shape: (4,), ElemSize: 8 Byte(s), TotalSize: 32 Byte(s)\n - MakeVector{dtype='int64'}.0, Shape: (4,), ElemSize: 8 Byte(s), TotalSize: 32 Byte(s)\n - param_regressor.b, Shared Input, Shape: (6,), ElemSize: 4 Byte(s), TotalSize: 24 Byte(s)\n - <CudaNdarrayType(float32, vector)>, Shared Input, Shape: (6,), ElemSize: 4 Byte(s), TotalSize: 24 Byte(s)\n - <CudaNdarrayType(float32, vector)>, Shared Input, Shape: (6,), ElemSize: 4 Byte(s), TotalSize: 24 Byte(s)\n - TensorConstant{(2,) of 2}, Shape: (2,), ElemSize: 8 Byte(s), TotalSize: 16 Byte(s)\n - TensorConstant{[ 1 -1]}, Shape: (2,), ElemSize: 8 Byte(s), TotalSize: 16 Byte(s)\n - MakeVector{dtype='int64'}.0, Shape: (2,), ElemSize: 8 Byte(s), TotalSize: 16 Byte(s)\n - TensorConstant{(2,) of 0}, Shape: (2,), ElemSize: 8 Byte(s), TotalSize: 16 Byte(s)\n - TensorConstant{6}, Shape: (), ElemSize: 8 Byte(s), TotalSize: 8.0 Byte(s)\n - Shape_i{1}.0, Shape: (), ElemSize: 8 Byte(s), TotalSize: 8.0 Byte(s)\n - Shape_i{1}.0, Shape: (), ElemSize: 8 Byte(s), TotalSize: 8.0 Byte(s)\n - Shape_i{2}.0, Shape: (), ElemSize: 8 Byte(s), TotalSize: 8.0 Byte(s)\n - Shape_i{3}.0, Shape: (), ElemSize: 8 Byte(s), TotalSize: 8.0 Byte(s)\n - Constant{1}, Shape: (), ElemSize: 8 Byte(s), TotalSize: 8.0 Byte(s)\n - Constant{0}, Shape: (), ElemSize: 8 Byte(s), TotalSize: 8.0 Byte(s)\n - Shape_i{2}.0, Shape: (), ElemSize: 8 Byte(s), TotalSize: 8.0 Byte(s)\n - Shape_i{0}.0, Shape: (), ElemSize: 8 Byte(s), TotalSize: 8.0 Byte(s)\n - TensorConstant{-6}, Shape: (), ElemSize: 8 Byte(s), TotalSize: 8.0 Byte(s)\n - Shape_i{2}.0, Shape: (), ElemSize: 8 Byte(s), TotalSize: 8.0 Byte(s)\n - TensorConstant{0.333333333333}, Shape: (), ElemSize: 8 Byte(s), TotalSize: 8.0 Byte(s)\n - TensorConstant{13}, Shape: (), ElemSize: 8 Byte(s), TotalSize: 8.0 Byte(s)\n - Shape_i{3}.0, Shape: (), ElemSize: 8 Byte(s), TotalSize: 8.0 Byte(s)\n - Shape_i{3}.0, Shape: (), ElemSize: 8 Byte(s), TotalSize: 8.0 Byte(s)\n - TensorConstant{1}, Shape: (), ElemSize: 8 Byte(s), TotalSize: 8.0 Byte(s)\n - TensorConstant{32}, Shape: (), ElemSize: 8 Byte(s), TotalSize: 8.0 Byte(s)\n - TensorConstant{(1,) of -1}, Shape: (1,), ElemSize: 8 Byte(s), TotalSize: 8 Byte(s)\n - TensorConstant{-1}, Shape: (), ElemSize: 8 Byte(s), TotalSize: 8.0 Byte(s)\n - TensorConstant{4}, Shape: (), ElemSize: 8 Byte(s), TotalSize: 8.0 Byte(s)\n - TensorConstant{9}, Shape: (), ElemSize: 8 Byte(s), TotalSize: 8.0 Byte(s)\n - TensorConstant{3}, Shape: (), ElemSize: 8 Byte(s), TotalSize: 8.0 Byte(s)\n - TensorConstant{0}, Shape: (), ElemSize: 8 Byte(s), TotalSize: 8.0 Byte(s)\n - TensorConstant{2}, Shape: (), ElemSize: 8 Byte(s), TotalSize: 8.0 Byte(s)\n - TensorConstant{20}, Shape: (), ElemSize: 8 Byte(s), TotalSize: 8.0 Byte(s)\n - TensorConstant{-3}, Shape: (), ElemSize: 8 Byte(s), TotalSize: 8.0 Byte(s)\n - TensorConstant{(1,) of 2.0}, Shape: (1,), ElemSize: 4 Byte(s), TotalSize: 4 Byte(s)\n - CudaNdarrayConstant{[[[[ 0.10000002]]]]}, Shape: (1, 1, 1, 1), ElemSize: 4 Byte(s), TotalSize: 4 Byte(s)\n - CudaNdarrayConstant{[  9.99999994e-09]}, Shape: (1,), ElemSize: 4 Byte(s), TotalSize: 4 Byte(s)\n - CudaNdarrayConstant{[[ 0.00099999]]}, Shape: (1, 1), ElemSize: 4 Byte(s), TotalSize: 4 Byte(s)\n - CudaNdarrayConstant{[ 0.99900001]}, Shape: (1,), ElemSize: 4 Byte(s), TotalSize: 4 Byte(s)\n - CudaNdarrayConstant{[[[[ 0.5]]]]}, Shape: (1, 1, 1, 1), ElemSize: 4 Byte(s), TotalSize: 4 Byte(s)\n - CudaNdarrayConstant{[ 0.00099999]}, Shape: (1,), ElemSize: 4 Byte(s), TotalSize: 4 Byte(s)\n - CudaNdarrayConstant{[[[[ 0.00099999]]]]}, Shape: (1, 1, 1, 1), ElemSize: 4 Byte(s), TotalSize: 4 Byte(s)\n - TensorConstant{(1,) of 0.5}, Shape: (1,), ElemSize: 4 Byte(s), TotalSize: 4 Byte(s)\n - <CudaNdarrayType(float32, scalar)>, Shared Input, Shape: (), ElemSize: 4 Byte(s), TotalSize: 4.0 Byte(s)\n - TensorConstant{0.100000023842}, Shape: (), ElemSize: 4 Byte(s), TotalSize: 4.0 Byte(s)\n - <CudaNdarrayType(float32, scalar)>, Shared Input, Shape: (), ElemSize: 4 Byte(s), TotalSize: 4.0 Byte(s)\n - TensorConstant{0.0}, Shape: (), ElemSize: 4 Byte(s), TotalSize: 4.0 Byte(s)\n - CudaNdarrayConstant{[[[[ 0.99900001]]]]}, Shape: (1, 1, 1, 1), ElemSize: 4 Byte(s), TotalSize: 4 Byte(s)\n - CudaNdarrayConstant{[[[[ 0.89999998]]]]}, Shape: (1, 1, 1, 1), ElemSize: 4 Byte(s), TotalSize: 4 Byte(s)\n - Constant{1.0}, Shape: (), ElemSize: 4 Byte(s), TotalSize: 4.0 Byte(s)\n - Constant{0.0}, Shape: (), ElemSize: 4 Byte(s), TotalSize: 4.0 Byte(s)\n - CudaNdarrayConstant{[[  9.99999994e-09]]}, Shape: (1, 1), ElemSize: 4 Byte(s), TotalSize: 4 Byte(s)\n - TensorConstant{1.0}, Shape: (), ElemSize: 4 Byte(s), TotalSize: 4.0 Byte(s)\n - CudaNdarrayConstant{[[ 0.99900001]]}, Shape: (1, 1), ElemSize: 4 Byte(s), TotalSize: 4 Byte(s)\n - CudaNdarrayConstant{[ 0.10000002]}, Shape: (1,), ElemSize: 4 Byte(s), TotalSize: 4 Byte(s)\n - TensorConstant{0.5}, Shape: (), ElemSize: 4 Byte(s), TotalSize: 4.0 Byte(s)\n - CudaNdarrayConstant{0.899999976158}, Shape: (), ElemSize: 4 Byte(s), TotalSize: 4.0 Byte(s)\n - TensorConstant{(1,) of 1.0}, Shape: (1,), ElemSize: 4 Byte(s), TotalSize: 4 Byte(s)\n - CudaNdarrayConstant{[[ 0.89999998]]}, Shape: (1, 1), ElemSize: 4 Byte(s), TotalSize: 4 Byte(s)\n - CudaNdarrayConstant{[[ 0.5]]}, Shape: (1, 1), ElemSize: 4 Byte(s), TotalSize: 4 Byte(s)\n - TensorConstant{(1,) of -1.0}, Shape: (1,), ElemSize: 4 Byte(s), TotalSize: 4 Byte(s)\n - CudaNdarrayConstant{[ 0.89999998]}, Shape: (1,), ElemSize: 4 Byte(s), TotalSize: 4 Byte(s)\n - CudaNdarrayConstant{[[[[  9.99999994e-09]]]]}, Shape: (1, 1, 1, 1), ElemSize: 4 Byte(s), TotalSize: 4 Byte(s)\n - CudaNdarrayConstant{0.999000012875}, Shape: (), ElemSize: 4 Byte(s), TotalSize: 4.0 Byte(s)\n - CudaNdarrayConstant{[ 0.5]}, Shape: (1,), ElemSize: 4 Byte(s), TotalSize: 4 Byte(s)\n - CudaNdarrayConstant{[[[ 0.]]]}, Shape: (1, 1, 1), ElemSize: 4 Byte(s), TotalSize: 4 Byte(s)\n - CudaNdarrayConstant{1.0}, Shape: (), ElemSize: 4 Byte(s), TotalSize: 4.0 Byte(s)\n - TensorConstant{(1, 1) of 1.0}, Shape: (1, 1), ElemSize: 4 Byte(s), TotalSize: 4 Byte(s)\n - Constant{0.1}, Shape: (), ElemSize: 4 Byte(s), TotalSize: 4.0 Byte(s)\n - TensorConstant{0}, Shape: (), ElemSize: 1 Byte(s), TotalSize: 1.0 Byte(s)\n - TensorConstant{(1,) of -1}, Shape: (1,), ElemSize: 1 Byte(s), TotalSize: 1 Byte(s)\n - TensorConstant{1}, Shape: (), ElemSize: 1 Byte(s), TotalSize: 1.0 Byte(s)\n - TensorConstant{2}, Shape: (), ElemSize: 1 Byte(s), TotalSize: 1.0 Byte(s)\n - TensorConstant{(1,) of 1}, Shape: (1,), ElemSize: 1 Byte(s), TotalSize: 1 Byte(s)\n - TensorConstant{-1}, Shape: (), ElemSize: 1 Byte(s), TotalSize: 1.0 Byte(s)\n TotalSize: 45008538.0 Byte(s) 0.042 GB\n TotalSize inputs: 5824002.0 Byte(s) 0.005 GB\n\n"
     ]
    }
   ],
   "source": [
    "theano.config.exception_verbosity = 'high'\n",
    "valid_accs, train_accs, test_accs = [], [], []\n",
    "param_outputs, disc_outputs = [], []\n",
    "try:\n",
    "    for n in range(NUM_EPOCHS):\n",
    "        start_time = time.time()\n",
    "        train_cost, train_acc, param_output, disc_output = train_epoch(data['X_train'], data['y_train'])\n",
    "        valid_acc, valid_trainsform = eval_epoch(data['X_valid'], data['y_valid'])\n",
    "        test_acc, test_transform = eval_epoch(data['X_test'], data['y_test'])\n",
    "        valid_accs += [valid_acc]\n",
    "        test_accs += [test_acc]\n",
    "        train_accs += [train_acc]\n",
    "        #import pdb; pdb.set_trace()\n",
    "        param_outputs = np.append(param_outputs, param_output)\n",
    "        disc_outputs = np.append(disc_outputs, disc_output)\n",
    "        \n",
    "        if (n+1) % 20 == 0:\n",
    "            new_lr = sh_lr.get_value() * 0.7\n",
    "            print \"New LR:\", new_lr\n",
    "            sh_lr.set_value(lasagne.utils.floatX(new_lr))\n",
    "\n",
    "        print \"Epoch {0}: Train cost {1}, Train acc {2}, val acc {3}, test acc {4}, took {5:.3} sec.\".format(\n",
    "                n, train_cost, train_acc, valid_acc, test_acc, time.time() - start_time)\n",
    "except KeyboardInterrupt:\n",
    "    pass"
   ]
  },
  {
   "cell_type": "markdown",
   "metadata": {},
   "source": [
    "# Plot results"
   ]
  },
  {
   "cell_type": "code",
   "execution_count": null,
   "metadata": {
    "collapsed": false
   },
   "outputs": [],
   "source": [
    "plt.figure(figsize=(5,5))\n",
    "plt.plot(1-np.array(train_accs), label='Training Error')\n",
    "plt.plot(1-np.array(valid_accs), label='Validation Error')\n",
    "plt.legend(fontsize=20)\n",
    "plt.xlabel('Epoch', fontsize=8)\n",
    "plt.ylabel('Error', fontsize=8)\n",
    "plt.show()"
   ]
  },
  {
   "cell_type": "code",
   "execution_count": null,
   "metadata": {
    "collapsed": false
   },
   "outputs": [],
   "source": [
    "# Reshape\n",
    "dense_params = param_outputs.reshape((-1, 6))\n",
    "disc_params = disc_outputs.reshape((-1, 6))\n",
    "print dense_params.shape\n",
    "\n",
    "\n",
    "plt.figure()\n",
    "plt.plot(dense_params[::100, 0], 'o')\n",
    "plt.grid(True)\n",
    "\n",
    "\n",
    "plt.figure()\n",
    "plt.plot(dense_params[::100, 1], 'o')\n",
    "plt.grid(True)\n",
    "\n",
    "plt.figure()\n",
    "plt.plot(dense_params[::100, 2], 'o')\n",
    "plt.grid(True)\n",
    "\n",
    "plt.figure()\n",
    "plt.plot(dense_params[::100, 3], 'o')\n",
    "plt.grid(True)\n",
    "\n",
    "plt.figure()\n",
    "plt.plot(dense_params[::100, 4], 'o')\n",
    "plt.grid(True)\n",
    "\n",
    "plt.figure()\n",
    "plt.plot(dense_params[::100, 5], 'o')\n",
    "plt.grid(True)\n",
    "\n",
    "\n",
    "plt.figure()\n",
    "plt.plot(disc_params[::100, 1], 'o')\n",
    "plt.grid(True)\n",
    "\n",
    "plt.figure()\n",
    "plt.plot(disc_params[::100, 3], 'o')\n",
    "plt.grid(True)\n",
    "\n",
    "\"\"\"\n",
    "plt.figure()\n",
    "plt.plot(disc_params[0, 199000:200000:10], '.')\n",
    "plt.grid(True)\n",
    "\n",
    "plt.figure()\n",
    "plt.plot(dense_params[1, 0:300000:100], '.')\n",
    "\n",
    "plt.figure()\n",
    "plt.plot(disc_params[1, 0:300000:100], '.')\n",
    "\"\"\""
   ]
  },
  {
   "cell_type": "code",
   "execution_count": null,
   "metadata": {
    "collapsed": false
   },
   "outputs": [],
   "source": [
    "\n",
    "plt.figure(figsize=(7,14))\n",
    "for i in range(3):\n",
    "    plt.subplot(321+i*2)\n",
    "    plt.imshow(data['X_test'][i].reshape(DIM, DIM), cmap='gray', interpolation='none')\n",
    "    if i == 0:\n",
    "        plt.title('Original 60x60', fontsize=20)\n",
    "    plt.axis('off')\n",
    "    plt.subplot(322+i*2)\n",
    "    plt.imshow(test_transform[i].reshape(DIM//3, DIM//3), cmap='gray', interpolation='none')\n",
    "    if i == 0:\n",
    "        plt.title('Transformed 20x20', fontsize=20)\n",
    "    plt.axis('off')\n",
    "plt.tight_layout()\n",
    "\n"
   ]
  },
  {
   "cell_type": "markdown",
   "metadata": {},
   "source": [
    "\n",
    "# References\n",
    "[1] Jaderberg, Max, et al. \"Spatial Transformer Networks.\" arXiv preprint arXiv:1506.02025 (2015).\n"
   ]
  }
 ],
 "metadata": {
  "anaconda-cloud": {},
  "kernelspec": {
   "display_name": "Python [default]",
   "language": "python",
   "name": "python2"
  },
  "language_info": {
   "codemirror_mode": {
    "name": "ipython",
    "version": 2
   },
   "file_extension": ".py",
   "mimetype": "text/x-python",
   "name": "python",
   "nbconvert_exporter": "python",
   "pygments_lexer": "ipython2",
   "version": "2.7.12"
  }
 },
 "nbformat": 4,
 "nbformat_minor": 0
}
